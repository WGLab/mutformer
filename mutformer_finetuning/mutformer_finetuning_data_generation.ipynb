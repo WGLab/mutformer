{
  "nbformat": 4,
  "nbformat_minor": 0,
  "metadata": {
    "colab": {
      "name": "mutformer_finetuning_data_generation.ipynb",
      "provenance": [],
      "collapsed_sections": []
    },
    "kernelspec": {
      "display_name": "Python 3",
      "name": "python3"
    }
  },
  "cells": [
    {
      "cell_type": "markdown",
      "source": [
        "#Finetuning Data Generation Script"
      ],
      "metadata": {
        "id": "O5WVrOdzC3K1"
      }
    },
    {
      "cell_type": "markdown",
      "source": [
        "This notebook processes tsv data and uploads the processed data to GCS to be used for finetuning MutFormer"
      ],
      "metadata": {
        "id": "Nq31-sx6C-eM"
      }
    },
    {
      "cell_type": "markdown",
      "metadata": {
        "id": "E2XB_l-Hgzq_"
      },
      "source": [
        "# Configure settings"
      ]
    },
    {
      "cell_type": "code",
      "metadata": {
        "id": "ozmx1LCLw3SQ"
      },
      "source": [
        "#@markdown ## General Config\n",
        "BUCKET_NAME = \"theodore_jiang\" #@param {type:\"string\"}\n",
        "#@markdown For the name of the folder to put data into when uploading to GCS. For generating multiple datasets i.e. for different sequence lengths, they will be written as individual folders inside of this folder\n",
        "OUTPUT_DATA_DIR = \"MRPC_w_ex_data_all_loaded\" #@param {type:\"string\"}\n",
        "#@markdown Whether or not this script is being run in a GCP runtime (if more memory is required for large databases)\n",
        "USE_GCP_RUNTIME = False #@param {type:\"boolean\"}\n",
        "\n",
        "#@markdown Which task to perform: options are \"MRPC\" for paired sequence method, \"MRPC_w_ex_data\" for paired sequence method with external data, \"RE\" for single sequence method, or \"NER\" for single sequance per residue prediction (if you add more modes make sure to change the corresponding code segments)\n",
        "MODE = \"MRPC_w_ex_data\" #@param {type:\"string\"}\n"
      ],
      "execution_count": 1,
      "outputs": []
    },
    {
      "cell_type": "markdown",
      "metadata": {
        "id": "HA4ieYajd-Ht"
      },
      "source": [
        "#If running on a GCP runtime, follow these instructions to set it up:"
      ]
    },
    {
      "cell_type": "markdown",
      "metadata": {
        "id": "YSUONYA5id9M"
      },
      "source": [
        "###1) Create a VM from the GCP website\n",
        "###2) Open a command prompt on your computer and perform the following steps\"\n",
        "To ssh into the VM:\n",
        "\n",
        "```\n",
        "gcloud beta compute ssh --zone <COMPUTE ZONE> <VM NAME> --project <PROJECT NAME> -- -L 8888:localhost:8888\n",
        "```\n",
        "\n",
        "Note: Make sure the port above matches the port below (in this case it's 8888)\n",
        "\\\n",
        "\\\n",
        "Run each of these commands individually, or copy and paste the one command below:\n",
        "```\n",
        "sudo apt-get update\n",
        "sudo apt-get -y install python3 python3-pip\n",
        "sudo apt-get install pkg-config\n",
        "sudo apt-get install libhdf5-serial-dev\n",
        "sudo apt-get install libffi6 libffi-dev\n",
        "sudo -H pip3 install jupyter tensorflow==1.14 google-api-python-client tqdm\n",
        "sudo -H pip3 install jupyter_http_over_ws\n",
        "jupyter serverextension enable --py jupyter_http_over_ws\n",
        "jupyter notebook   --NotebookApp.allow_origin='https://colab.research.google.com'   --port=8888   --NotebookApp.port_retries=0   --no-browser\n",
        "```\n",
        "One command:\n",
        "```\n",
        "sudo apt-get update ; sudo apt-get -y install python3 python3-pip ; sudo apt-get install pkg-config ; sudo apt-get -y install libhdf5-serial-dev ; sudo apt-get install libffi6 libffi-dev; sudo -H pip3 install jupyter tensorflow==1.14 google-api-python-client tqdm ; sudo -H pip3 install jupyter_http_over_ws ; jupyter serverextension enable --py jupyter_http_over_ws ; jupyter notebook   --NotebookApp.allow_origin='https://colab.research.google.com'   --port=8888   --NotebookApp.port_retries=0   --no-browser\n",
        "```\n",
        "###3) In this notebook, to connect to this runtime, click the \"connect to local runtime\" option under the connect button, and copy and paste the outputted link with \"locahost: ...\""
      ]
    },
    {
      "cell_type": "markdown",
      "metadata": {
        "id": "Z1PvmBO8eR00"
      },
      "source": [
        "#Clone the repo"
      ]
    },
    {
      "cell_type": "code",
      "metadata": {
        "id": "2vKz_tKFeO0s",
        "outputId": "71f2caf5-3fb8-4b23-f3db-e7840792f4cc",
        "colab": {
          "base_uri": "https://localhost:8080/"
        }
      },
      "source": [
        "if USE_GCP_RUNTIME:\n",
        "  !sudo apt-get -y install git-all\n",
        "#@markdown ######Where to clone the repo into (only value that it can't be is \"mutformer\"):\n",
        "REPO_DESTINATION_PATH = \"code/mutformer\" #@param {type:\"string\"}\n",
        "import os,shutil\n",
        "if not os.path.exists(REPO_DESTINATION_PATH):\n",
        "  os.makedirs(REPO_DESTINATION_PATH)\n",
        "else:\n",
        "  shutil.rmtree(REPO_DESTINATION_PATH)\n",
        "  os.makedirs(REPO_DESTINATION_PATH)\n",
        "cmd = \"git clone https://github.com/WGLab/mutformer.git \\\"\" + REPO_DESTINATION_PATH + \"\\\"\"\n",
        "!{cmd}"
      ],
      "execution_count": 2,
      "outputs": [
        {
          "output_type": "stream",
          "name": "stdout",
          "text": [
            "Cloning into 'code/mutformer'...\n",
            "remote: Enumerating objects: 450, done.\u001b[K\n",
            "remote: Counting objects: 100% (251/251), done.\u001b[K\n",
            "remote: Compressing objects: 100% (215/215), done.\u001b[K\n",
            "remote: Total 450 (delta 176), reused 40 (delta 35), pack-reused 199\u001b[K\n",
            "Receiving objects: 100% (450/450), 2.06 MiB | 15.99 MiB/s, done.\n",
            "Resolving deltas: 100% (287/287), done.\n"
          ]
        }
      ]
    },
    {
      "cell_type": "markdown",
      "metadata": {
        "id": "Yj1mClhQQE_n"
      },
      "source": [
        "#Authorize for GCS and Imports"
      ]
    },
    {
      "cell_type": "code",
      "metadata": {
        "id": "9S4CiOh3RzFW",
        "outputId": "33145e6c-49ed-4cd1-9818-9c31e2bce277",
        "colab": {
          "base_uri": "https://localhost:8080/"
        }
      },
      "source": [
        "if not USE_GCP_RUNTIME:\n",
        "  from google.colab import auth\n",
        "  print(\"Authorize for GCS:\")\n",
        "  auth.authenticate_user()\n",
        "  print(\"Authorize done\")\n",
        "\n",
        "  %tensorflow_version 1.x\n",
        "import sys\n",
        "import json\n",
        "import random\n",
        "import logging\n",
        "import tensorflow as tf\n",
        "import time\n",
        "import os\n",
        "import shutil\n",
        "import importlib\n",
        "\n",
        "if not os.path.exists(\"mutformer\"):\n",
        "  shutil.copytree(REPO_DESTINATION_PATH+\"/mutformer_model_code\",\"mutformer\")\n",
        "else:\n",
        "  shutil.rmtree(\"mutformer\")\n",
        "  shutil.copytree(REPO_DESTINATION_PATH+\"/mutformer_model_code\",\"mutformer\")\n",
        "if \"mutformer\" in sys.path:\n",
        "  sys.path.remove(\"mutformer\")\n",
        "sys.path.append(\"mutformer\")\n",
        "\n",
        "from mutformer import modeling, optimization, tokenization,run_classifier,run_ner_for_pathogenic\n",
        "from mutformer.modeling import BertModel,BertModelModified\n",
        "from mutformer.run_classifier import MrpcProcessor,REProcessor,MrpcWithPredsProcessor  ##change this part if you add more modes--\n",
        "from mutformer.run_ner_for_pathogenic import NERProcessor       ##--\n",
        "\n",
        "##reload modules so that you don't need to restart the runtime to reload modules in case that's needed\n",
        "modules2reload = [modeling, \n",
        "                  optimization, \n",
        "                  tokenization,\n",
        "                  run_classifier,\n",
        "                  run_ner_for_pathogenic]\n",
        "for module in modules2reload:\n",
        "    importlib.reload(module)\n",
        "\n",
        "# configure logging\n",
        "log = logging.getLogger('tensorflow')\n",
        "log.setLevel(logging.INFO)\n",
        "\n",
        "log.handlers = []\n",
        "\n",
        "formatter = logging.Formatter('%(asctime)s - %(name)s - %(levelname)s - %(message)s')\n",
        "\n",
        "# create formatter and add it to the handlers\n",
        "ch = logging.StreamHandler()\n",
        "ch.setLevel(logging.INFO)\n",
        "ch.setFormatter(formatter)\n",
        "log.addHandler(ch)\n",
        "\n",
        "##Vocabulary for the model (B and J are markers for the beginning and ending of a protein sequence)\n",
        "vocab = \\\n",
        "'''[PAD]\n",
        "[UNK]\n",
        "[CLS]\n",
        "[SEP]\n",
        "[MASK]\n",
        "L\n",
        "S\n",
        "B\n",
        "J\n",
        "E\n",
        "A\n",
        "P\n",
        "T\n",
        "G\n",
        "V\n",
        "K\n",
        "R\n",
        "D\n",
        "Q\n",
        "I\n",
        "N\n",
        "F\n",
        "H\n",
        "Y\n",
        "C\n",
        "M\n",
        "W'''\n",
        "\n",
        "  \n",
        "with open(\"vocab.txt\", \"w\") as fo:\n",
        "  for token in vocab.split(\"\\n\"):\n",
        "    fo.write(token+\"\\n\")\n",
        "\n",
        "\n",
        "if MODE==\"MRPC\": ##change this part if you added more modes\n",
        "  processor = MrpcProcessor()\n",
        "  script = run_classifier\n",
        "elif MODE==\"MRPC_w_ex_data\":\n",
        "  processor = MrpcWithPredsProcessor()\n",
        "  script = run_classifier\n",
        "elif MODE==\"RE\":\n",
        "  processor = REProcessor()\n",
        "  script = run_classifier\n",
        "elif MODE==\"NER\":\n",
        "  processor = NERProcessor()\n",
        "  script = run_ner_for_pathogenic\n",
        "else:\n",
        "  raise Exception(\"The mode specified was not one of the available modes: [\\\"MRPC\\\", \\\"RE\\\",\\\"NER\\\"].\")\n",
        "label_list = processor.get_labels()\n",
        "tokenizer = tokenization.FullTokenizer(vocab_file=\"vocab.txt\", do_lower_case=False)"
      ],
      "execution_count": 3,
      "outputs": [
        {
          "output_type": "stream",
          "name": "stdout",
          "text": [
            "Authorize for GCS:\n",
            "Authorize done\n",
            "TensorFlow 1.x selected.\n",
            "WARNING:tensorflow:From /content/mutformer/optimization.py:82: The name tf.train.Optimizer is deprecated. Please use tf.compat.v1.train.Optimizer instead.\n",
            "\n"
          ]
        },
        {
          "output_type": "stream",
          "name": "stderr",
          "text": [
            "2021-12-21 06:48:27,419 - tensorflow - WARNING - From /content/mutformer/tokenization.py:125: The name tf.gfile.GFile is deprecated. Please use tf.io.gfile.GFile instead.\n",
            "\n"
          ]
        }
      ]
    },
    {
      "cell_type": "markdown",
      "metadata": {
        "id": "Gb0TXw9GtCKz"
      },
      "source": [
        "#Specify Data location/Mount Drive if needed"
      ]
    },
    {
      "cell_type": "code",
      "metadata": {
        "id": "eYsYBUCJMTdz"
      },
      "source": [
        "if not USE_GCP_RUNTIME:\n",
        "  from google.colab import drive,auth\n",
        "import os\n",
        "import shutil\n",
        "#@markdown input finetuning data folder: data will be read from here to be processed and uploaded to GCS (can be a GCS path if needed for large databases; must be a GCS path if using GCP_RUNTIME); Note that for processing multiple sets i.e. for multiple sequence lengths, simply store these sets into separate subfolders named their corresponding sequence length inside of the folder listed below. The script will automatically save these sets into GCS in the same manner\n",
        "data_folder = \"gs://theodore_jiang/MRPC_w_ex_data_all\" #@param {type: \"string\"}\n",
        "if \"/content/drive\" in data_folder:\n",
        "  if USE_GCP_RUNTIME:\n",
        "    raise Exception(\"if USE_GCP_RUNTIME, a GCS path must be used, since Google's cloud TPUs can only communicate with GCS and not drive\")\n",
        "  !fusermount -u /content/drive\n",
        "  drive.flush_and_unmount()\n",
        "  drive.mount('/content/drive', force_remount=True)"
      ],
      "execution_count": 4,
      "outputs": []
    },
    {
      "cell_type": "markdown",
      "metadata": {
        "id": "rkFC96e0cK6n"
      },
      "source": [
        "# Data Generation"
      ]
    },
    {
      "cell_type": "markdown",
      "metadata": {
        "id": "4lXDH9WeQWGw"
      },
      "source": [
        "###General setup and definitions"
      ]
    },
    {
      "cell_type": "code",
      "metadata": {
        "id": "nUXoN_qYQZOA"
      },
      "source": [
        "#@markdown Maximum batch size the training script can handle without OOM (must be divisible by NUM_TPU_CORES_WHEN_TESTING)\n",
        "MAX_BATCH_SIZE =  1024 #@param {type:\"integer\"}\n",
        "#@markdown If using PRECISE_TESTING, how many tpu cores will be used during testing (for colab runtimes, it's 8)\n",
        "NUM_TPU_CORES_WHEN_TESTING = 8 #@param {type:\"integer\"}\n",
        "\n",
        "\n",
        "BUCKET_PATH = \"gs://\"+BUCKET_NAME\n",
        "\n",
        "def generate_data(MAX_SEQ_LENGTH,\n",
        "                  data_folder_current,\n",
        "                  DATA_GCS_DIR,\n",
        "                  PRECISE_TESTING,\n",
        "                  USING_SHARDS,\n",
        "                  SHARD_SIZE):  \n",
        "\n",
        "  try:\n",
        "    print(\"\\nGenerating train set...\\n\")\n",
        "    if USING_SHARDS:\n",
        "      rd_rg = [0,SHARD_SIZE]\n",
        "      i=0\n",
        "    else:\n",
        "      rd_rg = None\n",
        "    while True:\n",
        "      train_examples = processor.get_train_examples(data_folder_current,read_range=rd_rg)\n",
        "      if len(train_examples) == 0:\n",
        "        break\n",
        "      train_file = os.path.join(DATA_GCS_DIR, \"train.tf_record\")\n",
        "      if USING_SHARDS:\n",
        "        train_file+=\"_\"+str(i)\n",
        "      script.file_based_convert_examples_to_features(\n",
        "          train_examples, label_list, MAX_SEQ_LENGTH, tokenizer, train_file)\n",
        "      if not USING_SHARDS:\n",
        "        break\n",
        "      else:\n",
        "        rd_rg = [pt+SHARD_SIZE for pt in rd_rg]\n",
        "        i+=1\n",
        "  except Exception as e:\n",
        "    print(\"training data generation failed. Error:\",e)\n",
        "\n",
        "  try:\n",
        "    print(\"\\nGenerating eval set...\\n\")\n",
        "    if USING_SHARDS:\n",
        "      rd_rg = [0,SHARD_SIZE]\n",
        "      i=0\n",
        "    else:\n",
        "      rd_rg = None\n",
        "    while True:\n",
        "      eval_examples = processor.get_dev_examples(data_folder_current,read_range=rd_rg)\n",
        "      if len(eval_examples) == 0:\n",
        "        break\n",
        "      eval_file = os.path.join(DATA_GCS_DIR, \"eval.tf_record\")\n",
        "      if USING_SHARDS:\n",
        "        eval_file+=\"_\"+str(i)\n",
        "      script.file_based_convert_examples_to_features(\n",
        "          eval_examples, label_list, MAX_SEQ_LENGTH, tokenizer, eval_file)\n",
        "      if not USING_SHARDS:\n",
        "        break\n",
        "      else:\n",
        "        rd_rg = [pt+SHARD_SIZE for pt in rd_rg]\n",
        "        i+=1\n",
        "  except Exception as e:\n",
        "    print(\"eval data generation failed. Error:\",e)\n",
        "\n",
        "  try:\n",
        "    print(\"\\nGenerating test set...\\n\")\n",
        "    if USING_SHARDS:\n",
        "      rd_rg = [0,SHARD_SIZE]\n",
        "      i=0\n",
        "    else:\n",
        "      rd_rg = None\n",
        "    while True:\n",
        "      test_examples = processor.get_test_examples(data_folder_current,read_range=rd_rg)\n",
        "      if len(test_examples) == 0:\n",
        "        break\n",
        "      test_file = os.path.join(DATA_GCS_DIR, \"test.tf_record\")\n",
        "      if USING_SHARDS:\n",
        "        test_file+=\"_\"+str(i)\n",
        "      ## if using precise testing, the data will be split into two sets: \n",
        "      ## one set will be able to be predicted on the maximum possible batch \n",
        "      ## size, while the other will be predicted on a batch size of one, to \n",
        "      ##ensure the fastest prediction without leaving out any datapoints\n",
        "      if PRECISE_TESTING and len(test_examples)<SHARD_SIZE:\n",
        "        test_file_trailing = os.path.join(DATA_GCS_DIR, \"test_trailing.tf_record\")\n",
        "        def largest_mutiple_under_max(max,multiple_base):\n",
        "          return int(max/multiple_base)*multiple_base\n",
        "\n",
        "        split = largest_mutiple_under_max(len(test_examples),MAX_BATCH_SIZE)\n",
        "        test_examples_head = test_examples[:split]\n",
        "        test_examples_trailing = test_examples[split:]\n",
        "        script.file_based_convert_examples_to_features(\n",
        "            test_examples_head, label_list, MAX_SEQ_LENGTH, tokenizer, test_file)\n",
        "        script.file_based_convert_examples_to_features(\n",
        "            test_examples_trailing, label_list, MAX_SEQ_LENGTH, tokenizer, test_file_trailing)\n",
        "      else:\n",
        "        script.file_based_convert_examples_to_features(\n",
        "            test_examples, label_list, MAX_SEQ_LENGTH, tokenizer, test_file)\n",
        "      if not USING_SHARDS:\n",
        "        break\n",
        "      else:\n",
        "        rd_rg = [pt+SHARD_SIZE for pt in rd_rg]\n",
        "        i+=1\n",
        "  except Exception as e:\n",
        "    print(\"testing data generation failed. Error:\",e)"
      ],
      "execution_count": 5,
      "outputs": []
    },
    {
      "cell_type": "markdown",
      "metadata": {
        "id": "_TWmbWT5SJqg"
      },
      "source": [
        "###Varying sequence lengths"
      ]
    },
    {
      "cell_type": "code",
      "metadata": {
        "id": "JrCuEbr6dv8U",
        "outputId": "341c09f4-728e-44da-e45a-2d48c8efc0d0",
        "colab": {
          "base_uri": "https://localhost:8080/",
          "height": 657
        }
      },
      "source": [
        "#@markdown list of maximum sequence lengths to generate data for\n",
        "lengths = [64,128,256,512] #@param\n",
        "#@markdown whether or not to ensure all dataponts are predicted\n",
        "PRECISE_TESTING = False #@param {type:\"boolean\"}\n",
        "#@markdown whether or not to split the data processing into (for really large databases, since finetuning data typically isn't that large)\n",
        "USING_SHARDS = False #@param {type:\"boolean\"}\n",
        "#@markdown if USING_SHARDS, what shard size to use (MUST BE DIVISIBLE BY \"MAX_BATCH_SIZE\")\n",
        "SHARD_SIZE = 1024000 #@param {type:\"integer\"}\n",
        "\n",
        "for MAX_SEQ_LENGTH in lengths:\n",
        "  print(\"Generating data for seq length:\",MAX_SEQ_LENGTH)\n",
        "  DATA_GCS_DIR = BUCKET_PATH+\"/\"+OUTPUT_DATA_DIR +\"/\"+ str(MAX_SEQ_LENGTH)\n",
        "  data_folder_current= data_folder+\"/\"+str(MAX_SEQ_LENGTH)\n",
        "\n",
        "  generate_data(MAX_SEQ_LENGTH,\n",
        "                data_folder_current,\n",
        "                DATA_GCS_DIR,\n",
        "                PRECISE_TESTING,\n",
        "                USING_SHARDS,\n",
        "                SHARD_SIZE)\n",
        "  "
      ],
      "execution_count": 6,
      "outputs": [
        {
          "output_type": "stream",
          "name": "stderr",
          "text": [
            "2021-12-21 06:48:31,070 - tensorflow - WARNING - From /content/mutformer/run_classifier.py:95: The name tf.gfile.Open is deprecated. Please use tf.io.gfile.GFile instead.\n",
            "\n"
          ]
        },
        {
          "output_type": "stream",
          "name": "stdout",
          "text": [
            "Generating data for seq length: 64\n",
            "\n",
            "Generating train set...\n",
            "\n"
          ]
        },
        {
          "output_type": "stream",
          "name": "stderr",
          "text": [
            "reading tsv: 0it [00:01, ?it/s]\n",
            "creating_examples: 0it [00:00, ?it/s]\n"
          ]
        },
        {
          "output_type": "stream",
          "name": "stdout",
          "text": [
            "\n",
            "Generating eval set...\n",
            "\n"
          ]
        },
        {
          "output_type": "stream",
          "name": "stderr",
          "text": [
            "reading tsv: 0it [00:00, ?it/s]\n",
            "creating_examples: 0it [00:00, ?it/s]\n"
          ]
        },
        {
          "output_type": "stream",
          "name": "stdout",
          "text": [
            "\n",
            "Generating test set...\n",
            "\n"
          ]
        },
        {
          "output_type": "stream",
          "name": "stderr",
          "text": [
            "reading tsv: 0it [00:00, ?it/s]\n"
          ]
        },
        {
          "output_type": "error",
          "ename": "KeyboardInterrupt",
          "evalue": "ignored",
          "traceback": [
            "\u001b[0;31m---------------------------------------------------------------------------\u001b[0m",
            "\u001b[0;31mKeyboardInterrupt\u001b[0m                         Traceback (most recent call last)",
            "\u001b[0;32m<ipython-input-6-116a54e477a1>\u001b[0m in \u001b[0;36m<module>\u001b[0;34m()\u001b[0m\n\u001b[1;32m     18\u001b[0m                 \u001b[0mPRECISE_TESTING\u001b[0m\u001b[0;34m,\u001b[0m\u001b[0;34m\u001b[0m\u001b[0;34m\u001b[0m\u001b[0m\n\u001b[1;32m     19\u001b[0m                 \u001b[0mUSING_SHARDS\u001b[0m\u001b[0;34m,\u001b[0m\u001b[0;34m\u001b[0m\u001b[0;34m\u001b[0m\u001b[0m\n\u001b[0;32m---> 20\u001b[0;31m                 SHARD_SIZE)\n\u001b[0m\u001b[1;32m     21\u001b[0m \u001b[0;34m\u001b[0m\u001b[0m\n",
            "\u001b[0;32m<ipython-input-5-3368575e7448>\u001b[0m in \u001b[0;36mgenerate_data\u001b[0;34m(MAX_SEQ_LENGTH, data_folder_current, DATA_GCS_DIR, PRECISE_TESTING, USING_SHARDS, SHARD_SIZE)\u001b[0m\n\u001b[1;32m     70\u001b[0m       \u001b[0mrd_rg\u001b[0m \u001b[0;34m=\u001b[0m \u001b[0;32mNone\u001b[0m\u001b[0;34m\u001b[0m\u001b[0;34m\u001b[0m\u001b[0m\n\u001b[1;32m     71\u001b[0m     \u001b[0;32mwhile\u001b[0m \u001b[0;32mTrue\u001b[0m\u001b[0;34m:\u001b[0m\u001b[0;34m\u001b[0m\u001b[0;34m\u001b[0m\u001b[0m\n\u001b[0;32m---> 72\u001b[0;31m       \u001b[0mtest_examples\u001b[0m \u001b[0;34m=\u001b[0m \u001b[0mprocessor\u001b[0m\u001b[0;34m.\u001b[0m\u001b[0mget_test_examples\u001b[0m\u001b[0;34m(\u001b[0m\u001b[0mdata_folder_current\u001b[0m\u001b[0;34m,\u001b[0m\u001b[0mread_range\u001b[0m\u001b[0;34m=\u001b[0m\u001b[0mrd_rg\u001b[0m\u001b[0;34m)\u001b[0m\u001b[0;34m\u001b[0m\u001b[0;34m\u001b[0m\u001b[0m\n\u001b[0m\u001b[1;32m     73\u001b[0m       \u001b[0;32mif\u001b[0m \u001b[0mlen\u001b[0m\u001b[0;34m(\u001b[0m\u001b[0mtest_examples\u001b[0m\u001b[0;34m)\u001b[0m \u001b[0;34m==\u001b[0m \u001b[0;36m0\u001b[0m\u001b[0;34m:\u001b[0m\u001b[0;34m\u001b[0m\u001b[0;34m\u001b[0m\u001b[0m\n\u001b[1;32m     74\u001b[0m         \u001b[0;32mbreak\u001b[0m\u001b[0;34m\u001b[0m\u001b[0;34m\u001b[0m\u001b[0m\n",
            "\u001b[0;32m/content/mutformer/run_classifier.py\u001b[0m in \u001b[0;36mget_test_examples\u001b[0;34m(self, data_dir, read_range)\u001b[0m\n\u001b[1;32m    153\u001b[0m     \u001b[0;34m\"\"\"See base class.\"\"\"\u001b[0m\u001b[0;34m\u001b[0m\u001b[0;34m\u001b[0m\u001b[0m\n\u001b[1;32m    154\u001b[0m     return self._create_examples(\n\u001b[0;32m--> 155\u001b[0;31m         self._read_tsv(os.path.join(data_dir, \"test.tsv\"),read_range=read_range), \"test\")\n\u001b[0m\u001b[1;32m    156\u001b[0m \u001b[0;34m\u001b[0m\u001b[0m\n\u001b[1;32m    157\u001b[0m   \u001b[0;32mdef\u001b[0m \u001b[0mget_labels\u001b[0m\u001b[0;34m(\u001b[0m\u001b[0mself\u001b[0m\u001b[0;34m)\u001b[0m\u001b[0;34m:\u001b[0m\u001b[0;34m\u001b[0m\u001b[0;34m\u001b[0m\u001b[0m\n",
            "\u001b[0;32m/content/mutformer/run_classifier.py\u001b[0m in \u001b[0;36m_read_tsv\u001b[0;34m(cls, input_file, read_range, quotechar)\u001b[0m\n\u001b[1;32m     96\u001b[0m       \u001b[0mreader\u001b[0m \u001b[0;34m=\u001b[0m \u001b[0mcsv\u001b[0m\u001b[0;34m.\u001b[0m\u001b[0mreader\u001b[0m\u001b[0;34m(\u001b[0m\u001b[0mf\u001b[0m\u001b[0;34m,\u001b[0m \u001b[0mdelimiter\u001b[0m\u001b[0;34m=\u001b[0m\u001b[0;34m\"\\t\"\u001b[0m\u001b[0;34m,\u001b[0m \u001b[0mquotechar\u001b[0m\u001b[0;34m=\u001b[0m\u001b[0mquotechar\u001b[0m\u001b[0;34m)\u001b[0m\u001b[0;34m\u001b[0m\u001b[0;34m\u001b[0m\u001b[0m\n\u001b[1;32m     97\u001b[0m       \u001b[0mlines\u001b[0m \u001b[0;34m=\u001b[0m \u001b[0;34m[\u001b[0m\u001b[0;34m]\u001b[0m\u001b[0;34m\u001b[0m\u001b[0;34m\u001b[0m\u001b[0m\n\u001b[0;32m---> 98\u001b[0;31m       \u001b[0;32mfor\u001b[0m \u001b[0mn\u001b[0m\u001b[0;34m,\u001b[0m\u001b[0mline\u001b[0m \u001b[0;32min\u001b[0m \u001b[0menumerate\u001b[0m\u001b[0;34m(\u001b[0m\u001b[0mtqdm\u001b[0m\u001b[0;34m(\u001b[0m\u001b[0mreader\u001b[0m\u001b[0;34m,\u001b[0m\u001b[0;34m\"reading tsv\"\u001b[0m\u001b[0;34m)\u001b[0m\u001b[0;34m)\u001b[0m\u001b[0;34m:\u001b[0m\u001b[0;34m\u001b[0m\u001b[0;34m\u001b[0m\u001b[0m\n\u001b[0m\u001b[1;32m     99\u001b[0m         \u001b[0;32mif\u001b[0m \u001b[0mread_range\u001b[0m\u001b[0;34m:\u001b[0m\u001b[0;34m\u001b[0m\u001b[0;34m\u001b[0m\u001b[0m\n\u001b[1;32m    100\u001b[0m             \u001b[0;32mif\u001b[0m \u001b[0mn\u001b[0m\u001b[0;34m<\u001b[0m\u001b[0mread_range\u001b[0m\u001b[0;34m[\u001b[0m\u001b[0;36m0\u001b[0m\u001b[0;34m]\u001b[0m\u001b[0;34m:\u001b[0m\u001b[0;34m\u001b[0m\u001b[0;34m\u001b[0m\u001b[0m\n",
            "\u001b[0;32m/usr/local/lib/python3.7/dist-packages/tqdm/std.py\u001b[0m in \u001b[0;36m__iter__\u001b[0;34m(self)\u001b[0m\n\u001b[1;32m   1178\u001b[0m \u001b[0;34m\u001b[0m\u001b[0m\n\u001b[1;32m   1179\u001b[0m         \u001b[0;32mtry\u001b[0m\u001b[0;34m:\u001b[0m\u001b[0;34m\u001b[0m\u001b[0;34m\u001b[0m\u001b[0m\n\u001b[0;32m-> 1180\u001b[0;31m             \u001b[0;32mfor\u001b[0m \u001b[0mobj\u001b[0m \u001b[0;32min\u001b[0m \u001b[0miterable\u001b[0m\u001b[0;34m:\u001b[0m\u001b[0;34m\u001b[0m\u001b[0;34m\u001b[0m\u001b[0m\n\u001b[0m\u001b[1;32m   1181\u001b[0m                 \u001b[0;32myield\u001b[0m \u001b[0mobj\u001b[0m\u001b[0;34m\u001b[0m\u001b[0;34m\u001b[0m\u001b[0m\n\u001b[1;32m   1182\u001b[0m                 \u001b[0;31m# Update and possibly print the progressbar.\u001b[0m\u001b[0;34m\u001b[0m\u001b[0;34m\u001b[0m\u001b[0;34m\u001b[0m\u001b[0m\n",
            "\u001b[0;32m/tensorflow-1.15.2/python3.7/tensorflow_core/python/lib/io/file_io.py\u001b[0m in \u001b[0;36m__next__\u001b[0;34m(self)\u001b[0m\n\u001b[1;32m    218\u001b[0m \u001b[0;34m\u001b[0m\u001b[0m\n\u001b[1;32m    219\u001b[0m   \u001b[0;32mdef\u001b[0m \u001b[0m__next__\u001b[0m\u001b[0;34m(\u001b[0m\u001b[0mself\u001b[0m\u001b[0;34m)\u001b[0m\u001b[0;34m:\u001b[0m\u001b[0;34m\u001b[0m\u001b[0;34m\u001b[0m\u001b[0m\n\u001b[0;32m--> 220\u001b[0;31m     \u001b[0;32mreturn\u001b[0m \u001b[0mself\u001b[0m\u001b[0;34m.\u001b[0m\u001b[0mnext\u001b[0m\u001b[0;34m(\u001b[0m\u001b[0;34m)\u001b[0m\u001b[0;34m\u001b[0m\u001b[0;34m\u001b[0m\u001b[0m\n\u001b[0m\u001b[1;32m    221\u001b[0m \u001b[0;34m\u001b[0m\u001b[0m\n\u001b[1;32m    222\u001b[0m   \u001b[0;32mdef\u001b[0m \u001b[0mflush\u001b[0m\u001b[0;34m(\u001b[0m\u001b[0mself\u001b[0m\u001b[0;34m)\u001b[0m\u001b[0;34m:\u001b[0m\u001b[0;34m\u001b[0m\u001b[0;34m\u001b[0m\u001b[0m\n",
            "\u001b[0;32m/tensorflow-1.15.2/python3.7/tensorflow_core/python/lib/io/file_io.py\u001b[0m in \u001b[0;36mnext\u001b[0;34m(self)\u001b[0m\n\u001b[1;32m    212\u001b[0m \u001b[0;34m\u001b[0m\u001b[0m\n\u001b[1;32m    213\u001b[0m   \u001b[0;32mdef\u001b[0m \u001b[0mnext\u001b[0m\u001b[0;34m(\u001b[0m\u001b[0mself\u001b[0m\u001b[0;34m)\u001b[0m\u001b[0;34m:\u001b[0m\u001b[0;34m\u001b[0m\u001b[0;34m\u001b[0m\u001b[0m\n\u001b[0;32m--> 214\u001b[0;31m     \u001b[0mretval\u001b[0m \u001b[0;34m=\u001b[0m \u001b[0mself\u001b[0m\u001b[0;34m.\u001b[0m\u001b[0mreadline\u001b[0m\u001b[0;34m(\u001b[0m\u001b[0;34m)\u001b[0m\u001b[0;34m\u001b[0m\u001b[0;34m\u001b[0m\u001b[0m\n\u001b[0m\u001b[1;32m    215\u001b[0m     \u001b[0;32mif\u001b[0m \u001b[0;32mnot\u001b[0m \u001b[0mretval\u001b[0m\u001b[0;34m:\u001b[0m\u001b[0;34m\u001b[0m\u001b[0;34m\u001b[0m\u001b[0m\n\u001b[1;32m    216\u001b[0m       \u001b[0;32mraise\u001b[0m \u001b[0mStopIteration\u001b[0m\u001b[0;34m(\u001b[0m\u001b[0;34m)\u001b[0m\u001b[0;34m\u001b[0m\u001b[0;34m\u001b[0m\u001b[0m\n",
            "\u001b[0;32m/tensorflow-1.15.2/python3.7/tensorflow_core/python/lib/io/file_io.py\u001b[0m in \u001b[0;36mreadline\u001b[0;34m(self)\u001b[0m\n\u001b[1;32m    177\u001b[0m     \u001b[0;34mr\"\"\"Reads the next line from the file. Leaves the '\\n' at the end.\"\"\"\u001b[0m\u001b[0;34m\u001b[0m\u001b[0;34m\u001b[0m\u001b[0m\n\u001b[1;32m    178\u001b[0m     \u001b[0mself\u001b[0m\u001b[0;34m.\u001b[0m\u001b[0m_preread_check\u001b[0m\u001b[0;34m(\u001b[0m\u001b[0;34m)\u001b[0m\u001b[0;34m\u001b[0m\u001b[0;34m\u001b[0m\u001b[0m\n\u001b[0;32m--> 179\u001b[0;31m     \u001b[0;32mreturn\u001b[0m \u001b[0mself\u001b[0m\u001b[0;34m.\u001b[0m\u001b[0m_prepare_value\u001b[0m\u001b[0;34m(\u001b[0m\u001b[0mself\u001b[0m\u001b[0;34m.\u001b[0m\u001b[0m_read_buf\u001b[0m\u001b[0;34m.\u001b[0m\u001b[0mReadLineAsString\u001b[0m\u001b[0;34m(\u001b[0m\u001b[0;34m)\u001b[0m\u001b[0;34m)\u001b[0m\u001b[0;34m\u001b[0m\u001b[0;34m\u001b[0m\u001b[0m\n\u001b[0m\u001b[1;32m    180\u001b[0m \u001b[0;34m\u001b[0m\u001b[0m\n\u001b[1;32m    181\u001b[0m   \u001b[0;32mdef\u001b[0m \u001b[0mreadlines\u001b[0m\u001b[0;34m(\u001b[0m\u001b[0mself\u001b[0m\u001b[0;34m)\u001b[0m\u001b[0;34m:\u001b[0m\u001b[0;34m\u001b[0m\u001b[0;34m\u001b[0m\u001b[0m\n",
            "\u001b[0;32m/tensorflow-1.15.2/python3.7/tensorflow_core/python/pywrap_tensorflow_internal.py\u001b[0m in \u001b[0;36mReadLineAsString\u001b[0;34m(self)\u001b[0m\n\u001b[1;32m   2372\u001b[0m \u001b[0;34m\u001b[0m\u001b[0m\n\u001b[1;32m   2373\u001b[0m     \u001b[0;32mdef\u001b[0m \u001b[0mReadLineAsString\u001b[0m\u001b[0;34m(\u001b[0m\u001b[0mself\u001b[0m\u001b[0;34m)\u001b[0m\u001b[0;34m:\u001b[0m\u001b[0;34m\u001b[0m\u001b[0;34m\u001b[0m\u001b[0m\n\u001b[0;32m-> 2374\u001b[0;31m         \u001b[0;32mreturn\u001b[0m \u001b[0m_pywrap_tensorflow_internal\u001b[0m\u001b[0;34m.\u001b[0m\u001b[0mBufferedInputStream_ReadLineAsString\u001b[0m\u001b[0;34m(\u001b[0m\u001b[0mself\u001b[0m\u001b[0;34m)\u001b[0m\u001b[0;34m\u001b[0m\u001b[0;34m\u001b[0m\u001b[0m\n\u001b[0m\u001b[1;32m   2375\u001b[0m \u001b[0mBufferedInputStream_swigregister\u001b[0m \u001b[0;34m=\u001b[0m \u001b[0m_pywrap_tensorflow_internal\u001b[0m\u001b[0;34m.\u001b[0m\u001b[0mBufferedInputStream_swigregister\u001b[0m\u001b[0;34m\u001b[0m\u001b[0;34m\u001b[0m\u001b[0m\n\u001b[1;32m   2376\u001b[0m \u001b[0mBufferedInputStream_swigregister\u001b[0m\u001b[0;34m(\u001b[0m\u001b[0mBufferedInputStream\u001b[0m\u001b[0;34m)\u001b[0m\u001b[0;34m\u001b[0m\u001b[0;34m\u001b[0m\u001b[0m\n",
            "\u001b[0;31mKeyboardInterrupt\u001b[0m: "
          ]
        }
      ]
    },
    {
      "cell_type": "markdown",
      "metadata": {
        "id": "zEOfXa4WiB2N"
      },
      "source": [
        "###Only one dataset"
      ]
    },
    {
      "cell_type": "code",
      "metadata": {
        "id": "IytLW0VbgOZz",
        "outputId": "9c1c6f7f-336c-47b6-c15a-3a6489367802",
        "colab": {
          "base_uri": "https://localhost:8080/"
        }
      },
      "source": [
        "#@markdown maximum output data length (because using paired method, actual protein sequence length is half)\n",
        "MAX_SEQ_LENGTH = 512 #@param {type:\"integer\"}\n",
        "#@markdown whether or not to ensure all dataponts are predicted\n",
        "PRECISE_TESTING = True #@param {type:\"boolean\"}\n",
        "#@markdown whether or not to split the data processing into (for really large databases, since finetuning data typically isn't that large)\n",
        "USING_SHARDS = False #@param {type:\"boolean\"}\n",
        "#@markdown if USING_SHARDS, what shard size to use (MUST BE DIVISIBLE BY \"MAX_BATCH_SIZE\")\n",
        "SHARD_SIZE = 1024000 #@param {type:\"integer\"}\n",
        "\n",
        "DATA_GCS_DIR = BUCKET_PATH+\"/\"+OUTPUT_DATA_DIR+\"/\"+str(MAX_SEQ_LENGTH)\n",
        "data_folder_current = data_folder\n",
        "\n",
        "generate_data(MAX_SEQ_LENGTH,\n",
        "              data_folder_current,\n",
        "              DATA_GCS_DIR,\n",
        "              PRECISE_TESTING,\n",
        "              USING_SHARDS,\n",
        "              SHARD_SIZE)\n"
      ],
      "execution_count": 7,
      "outputs": [
        {
          "output_type": "stream",
          "name": "stdout",
          "text": [
            "\n",
            "Generating train set...\n",
            "\n"
          ]
        },
        {
          "output_type": "stream",
          "name": "stderr",
          "text": [
            "reading tsv: 115784it [00:13, 8843.09it/s]\n",
            "creating_examples: 100%|██████████| 115784/115784 [00:00<00:00, 152175.51it/s]\n",
            "2021-12-21 06:48:49,942 - tensorflow - WARNING - From /content/mutformer/run_classifier.py:309: The name tf.python_io.TFRecordWriter is deprecated. Please use tf.io.TFRecordWriter instead.\n",
            "\n",
            "2021-12-21 06:48:49,946 - tensorflow - WARNING - From /content/mutformer/run_classifier.py:313: The name tf.logging.info is deprecated. Please use tf.compat.v1.logging.info instead.\n",
            "\n",
            "2021-12-21 06:48:49,954 - tensorflow - INFO - Writing example 0 of 115784\n",
            "2021-12-21 06:48:49,971 - tensorflow - INFO - *** Example ***\n",
            "2021-12-21 06:48:49,976 - tensorflow - INFO - guid: train-0\n",
            "2021-12-21 06:48:49,978 - tensorflow - INFO - tokens: [CLS] F G E D V A F G G V F R C T V G L R D K Y G K D R V F N T P L C E Q G I V G F G I G I A V T G A T A I A E I Q F A D Y I F P A F D Q I V N E A A K Y R Y R S G D L F N C G S L T I R S P W G C V G H G A L Y H S Q S P E A F F A H C P G I K V V I P R S P F Q A K G L L L S C I E D K N P C I F F E P K I L Y R A A A E E V P I E P Y N I P L S Q A E V I Q E G S D V T L V A W G T Q V H V I R E V A S M A K E K L G V S C E V I D L R T I I P W D V D T I C K S V I K T G R L L I S H E A P L T G G F A S E I S S T V Q E [SEP] F G E D V A F G G V F R C T V G L R D K Y G K D R V F N T P L C E Q G I V G F G I G I A V T G A T A I A E I Q F A D Y I F P A F D Q I V N E A A K Y R Y R S G D L F N C G S L T I R S P W G C V G H G A L Y H S Q S P E A F F A H C P G I K V V I P R S P F Q A R G L L L S C I E D K N P C I F F E P K I L Y R A A A E E V P I E P Y N I P L S Q A E V I Q E G S D V T L V A W G T Q V H V I R E V A S M A K E K L G V S C E V I D L R T I I P W D V D T I C K S V I K T G R L L I S H E A P L T G G F A S E I S S T V Q E [SEP]\n",
            "2021-12-21 06:48:49,985 - tensorflow - INFO - input_ids: 2 21 13 9 17 14 10 21 13 13 14 21 16 24 12 14 13 5 16 17 15 23 13 15 17 16 14 21 20 12 11 5 24 9 18 13 19 14 13 21 13 19 13 19 10 14 12 13 10 12 10 19 10 9 19 18 21 10 17 23 19 21 11 10 21 17 18 19 14 20 9 10 10 15 23 16 23 16 6 13 17 5 21 20 24 13 6 5 12 19 16 6 11 26 13 24 14 13 22 13 10 5 23 22 6 18 6 11 9 10 21 21 10 22 24 11 13 19 15 14 14 19 11 16 6 11 21 18 10 15 13 5 5 5 6 24 19 9 17 15 20 11 24 19 21 21 9 11 15 19 5 23 16 10 10 10 9 9 14 11 19 9 11 23 20 19 11 5 6 18 10 9 14 19 18 9 13 6 17 14 12 5 14 10 26 13 12 18 14 22 14 19 16 9 14 10 6 25 10 15 9 15 5 13 14 6 24 9 14 19 17 5 16 12 19 19 11 26 17 14 17 12 19 24 15 6 14 19 15 12 13 16 5 5 19 6 22 9 10 11 5 12 13 13 21 10 6 9 19 6 6 12 14 18 9 3 21 13 9 17 14 10 21 13 13 14 21 16 24 12 14 13 5 16 17 15 23 13 15 17 16 14 21 20 12 11 5 24 9 18 13 19 14 13 21 13 19 13 19 10 14 12 13 10 12 10 19 10 9 19 18 21 10 17 23 19 21 11 10 21 17 18 19 14 20 9 10 10 15 23 16 23 16 6 13 17 5 21 20 24 13 6 5 12 19 16 6 11 26 13 24 14 13 22 13 10 5 23 22 6 18 6 11 9 10 21 21 10 22 24 11 13 19 15 14 14 19 11 16 6 11 21 18 10 16 13 5 5 5 6 24 19 9 17 15 20 11 24 19 21 21 9 11 15 19 5 23 16 10 10 10 9 9 14 11 19 9 11 23 20 19 11 5 6 18 10 9 14 19 18 9 13 6 17 14 12 5 14 10 26 13 12 18 14 22 14 19 16 9 14 10 6 25 10 15 9 15 5 13 14 6 24 9 14 19 17 5 16 12 19 19 11 26 17 14 17 12 19 24 15 6 14 19 15 12 13 16 5 5 19 6 22 9 10 11 5 12 13 13 21 10 6 9 19 6 6 12 14 18 9 3 0\n",
            "2021-12-21 06:48:49,988 - tensorflow - INFO - input_mask: 1 1 1 1 1 1 1 1 1 1 1 1 1 1 1 1 1 1 1 1 1 1 1 1 1 1 1 1 1 1 1 1 1 1 1 1 1 1 1 1 1 1 1 1 1 1 1 1 1 1 1 1 1 1 1 1 1 1 1 1 1 1 1 1 1 1 1 1 1 1 1 1 1 1 1 1 1 1 1 1 1 1 1 1 1 1 1 1 1 1 1 1 1 1 1 1 1 1 1 1 1 1 1 1 1 1 1 1 1 1 1 1 1 1 1 1 1 1 1 1 1 1 1 1 1 1 1 1 1 1 1 1 1 1 1 1 1 1 1 1 1 1 1 1 1 1 1 1 1 1 1 1 1 1 1 1 1 1 1 1 1 1 1 1 1 1 1 1 1 1 1 1 1 1 1 1 1 1 1 1 1 1 1 1 1 1 1 1 1 1 1 1 1 1 1 1 1 1 1 1 1 1 1 1 1 1 1 1 1 1 1 1 1 1 1 1 1 1 1 1 1 1 1 1 1 1 1 1 1 1 1 1 1 1 1 1 1 1 1 1 1 1 1 1 1 1 1 1 1 1 1 1 1 1 1 1 1 1 1 1 1 1 1 1 1 1 1 1 1 1 1 1 1 1 1 1 1 1 1 1 1 1 1 1 1 1 1 1 1 1 1 1 1 1 1 1 1 1 1 1 1 1 1 1 1 1 1 1 1 1 1 1 1 1 1 1 1 1 1 1 1 1 1 1 1 1 1 1 1 1 1 1 1 1 1 1 1 1 1 1 1 1 1 1 1 1 1 1 1 1 1 1 1 1 1 1 1 1 1 1 1 1 1 1 1 1 1 1 1 1 1 1 1 1 1 1 1 1 1 1 1 1 1 1 1 1 1 1 1 1 1 1 1 1 1 1 1 1 1 1 1 1 1 1 1 1 1 1 1 1 1 1 1 1 1 1 1 1 1 1 1 1 1 1 1 1 1 1 1 1 1 1 1 1 1 1 1 1 1 1 1 1 1 1 1 1 1 1 1 1 1 1 1 1 1 1 1 1 1 1 1 1 1 1 1 1 1 1 1 1 1 1 1 1 1 1 1 1 1 1 1 1 1 1 1 1 1 1 1 1 1 1 1 1 1 1 1 1 1 1 1 1 1 1 1 1 1 1 1 1 1 0\n",
            "2021-12-21 06:48:49,991 - tensorflow - INFO - segment_ids: 0 0 0 0 0 0 0 0 0 0 0 0 0 0 0 0 0 0 0 0 0 0 0 0 0 0 0 0 0 0 0 0 0 0 0 0 0 0 0 0 0 0 0 0 0 0 0 0 0 0 0 0 0 0 0 0 0 0 0 0 0 0 0 0 0 0 0 0 0 0 0 0 0 0 0 0 0 0 0 0 0 0 0 0 0 0 0 0 0 0 0 0 0 0 0 0 0 0 0 0 0 0 0 0 0 0 0 0 0 0 0 0 0 0 0 0 0 0 0 0 0 0 0 0 0 0 0 0 0 0 0 0 0 0 0 0 0 0 0 0 0 0 0 0 0 0 0 0 0 0 0 0 0 0 0 0 0 0 0 0 0 0 0 0 0 0 0 0 0 0 0 0 0 0 0 0 0 0 0 0 0 0 0 0 0 0 0 0 0 0 0 0 0 0 0 0 0 0 0 0 0 0 0 0 0 0 0 0 0 0 0 0 0 0 0 0 0 0 0 0 0 0 0 0 0 0 0 0 0 0 0 0 0 0 0 0 0 0 0 0 0 0 0 0 0 0 0 0 0 0 0 0 0 0 0 0 1 1 1 1 1 1 1 1 1 1 1 1 1 1 1 1 1 1 1 1 1 1 1 1 1 1 1 1 1 1 1 1 1 1 1 1 1 1 1 1 1 1 1 1 1 1 1 1 1 1 1 1 1 1 1 1 1 1 1 1 1 1 1 1 1 1 1 1 1 1 1 1 1 1 1 1 1 1 1 1 1 1 1 1 1 1 1 1 1 1 1 1 1 1 1 1 1 1 1 1 1 1 1 1 1 1 1 1 1 1 1 1 1 1 1 1 1 1 1 1 1 1 1 1 1 1 1 1 1 1 1 1 1 1 1 1 1 1 1 1 1 1 1 1 1 1 1 1 1 1 1 1 1 1 1 1 1 1 1 1 1 1 1 1 1 1 1 1 1 1 1 1 1 1 1 1 1 1 1 1 1 1 1 1 1 1 1 1 1 1 1 1 1 1 1 1 1 1 1 1 1 1 1 1 1 1 1 1 1 1 1 1 1 1 1 1 1 1 1 1 1 1 1 1 1 1 1 1 1 1 1 1 1 1 1 1 1 1 1 1 1 1 1 1 1 1 1 1 1 1 1 1 1 1 1 0\n",
            "2021-12-21 06:48:49,994 - tensorflow - INFO - preds (length = 27): 1.0 2.0 2.0 1.0 2.0 1.2864312911041882 1.4992412746585735 1.4315095071788901 1.39004329004329 1.591414194359996 1.64522964832496 1.998965873836608 1.979 1.6822472944968916 1.869 1.8404761904761906 1.9723876556578235 2.0 2.0 1.998 2.0 1.5404243119266057 1.928862806393639 1.8573914358474624 1.943373789747355 1.884325093657087 1.994863916764192\n",
            "2021-12-21 06:48:49,998 - tensorflow - INFO - label: 1 (id = 1)\n",
            "2021-12-21 06:48:50,014 - tensorflow - INFO - *** Example ***\n",
            "2021-12-21 06:48:50,018 - tensorflow - INFO - guid: train-1\n",
            "2021-12-21 06:48:50,019 - tensorflow - INFO - tokens: [CLS] L L S M Q M M L L D A A V Y G L L A W Y L D Q V F P G D Y G T P L P W Y F L L Q E S Y W L G G E G C S T R E E R A L E K T E P L T E E T E D P E H P E G I H D S F F E R E H P G W V P G V C V K N L V K I F E P C G R P A V D R L N I T F Y E N Q I T A F L G H N G A G K T T T L S I L T G L L P P T S G T V L V G G R D I E T S L D A V R Q S L G M C P Q H N I L F H H L T V A E H M L F Y A Q L K G K S Q E E A Q L E M E A M L E D T G L H H K R N E E A Q D L S G G M Q R K L S V A I A F V G D A K V V I L D E P T S [SEP] L L S M Q M M L L D A A V Y G L L A W Y L D Q V F P G D Y G T P L P W Y F L L Q E S Y W L G G E G C S T R E E R A L E K T E P L T E E T E D P E H P E G I H D S F F E R E H P G W V P G V C V K N L V K I F E P C G R P A V D R L N I T F Y E N Q I T A F L G H K G A G K T T T L S I L T G L L P P T S G T V L V G G R D I E T S L D A V R Q S L G M C P Q H N I L F H H L T V A E H M L F Y A Q L K G K S Q E E A Q L E M E A M L E D T G L H H K R N E E A Q D L S G G M Q R K L S V A I A F V G D A K V V I L D E P T S [SEP]\n",
            "2021-12-21 06:48:50,022 - tensorflow - INFO - input_ids: 2 5 5 6 25 18 25 25 5 5 17 10 10 14 23 13 5 5 10 26 23 5 17 18 14 21 11 13 17 23 13 12 11 5 11 26 23 21 5 5 18 9 6 23 26 5 13 13 9 13 24 6 12 16 9 9 16 10 5 9 15 12 9 11 5 12 9 9 12 9 17 11 9 22 11 9 13 19 22 17 6 21 21 9 16 9 22 11 13 26 14 11 13 14 24 14 15 20 5 14 15 19 21 9 11 24 13 16 11 10 14 17 16 5 20 19 12 21 23 9 20 18 19 12 10 21 5 13 22 20 13 10 13 15 12 12 12 5 6 19 5 12 13 5 5 11 11 12 6 13 12 14 5 14 13 13 16 17 19 9 12 6 5 17 10 14 16 18 6 5 13 25 24 11 18 22 20 19 5 21 22 22 5 12 14 10 9 22 25 5 21 23 10 18 5 15 13 15 6 18 9 9 10 18 5 9 25 9 10 25 5 9 17 12 13 5 22 22 15 16 20 9 9 10 18 17 5 6 13 13 25 18 16 15 5 6 14 10 19 10 21 14 13 17 10 15 14 14 19 5 17 9 11 12 6 3 5 5 6 25 18 25 25 5 5 17 10 10 14 23 13 5 5 10 26 23 5 17 18 14 21 11 13 17 23 13 12 11 5 11 26 23 21 5 5 18 9 6 23 26 5 13 13 9 13 24 6 12 16 9 9 16 10 5 9 15 12 9 11 5 12 9 9 12 9 17 11 9 22 11 9 13 19 22 17 6 21 21 9 16 9 22 11 13 26 14 11 13 14 24 14 15 20 5 14 15 19 21 9 11 24 13 16 11 10 14 17 16 5 20 19 12 21 23 9 20 18 19 12 10 21 5 13 22 15 13 10 13 15 12 12 12 5 6 19 5 12 13 5 5 11 11 12 6 13 12 14 5 14 13 13 16 17 19 9 12 6 5 17 10 14 16 18 6 5 13 25 24 11 18 22 20 19 5 21 22 22 5 12 14 10 9 22 25 5 21 23 10 18 5 15 13 15 6 18 9 9 10 18 5 9 25 9 10 25 5 9 17 12 13 5 22 22 15 16 20 9 9 10 18 17 5 6 13 13 25 18 16 15 5 6 14 10 19 10 21 14 13 17 10 15 14 14 19 5 17 9 11 12 6 3 0\n",
            "2021-12-21 06:48:50,023 - tensorflow - INFO - input_mask: 1 1 1 1 1 1 1 1 1 1 1 1 1 1 1 1 1 1 1 1 1 1 1 1 1 1 1 1 1 1 1 1 1 1 1 1 1 1 1 1 1 1 1 1 1 1 1 1 1 1 1 1 1 1 1 1 1 1 1 1 1 1 1 1 1 1 1 1 1 1 1 1 1 1 1 1 1 1 1 1 1 1 1 1 1 1 1 1 1 1 1 1 1 1 1 1 1 1 1 1 1 1 1 1 1 1 1 1 1 1 1 1 1 1 1 1 1 1 1 1 1 1 1 1 1 1 1 1 1 1 1 1 1 1 1 1 1 1 1 1 1 1 1 1 1 1 1 1 1 1 1 1 1 1 1 1 1 1 1 1 1 1 1 1 1 1 1 1 1 1 1 1 1 1 1 1 1 1 1 1 1 1 1 1 1 1 1 1 1 1 1 1 1 1 1 1 1 1 1 1 1 1 1 1 1 1 1 1 1 1 1 1 1 1 1 1 1 1 1 1 1 1 1 1 1 1 1 1 1 1 1 1 1 1 1 1 1 1 1 1 1 1 1 1 1 1 1 1 1 1 1 1 1 1 1 1 1 1 1 1 1 1 1 1 1 1 1 1 1 1 1 1 1 1 1 1 1 1 1 1 1 1 1 1 1 1 1 1 1 1 1 1 1 1 1 1 1 1 1 1 1 1 1 1 1 1 1 1 1 1 1 1 1 1 1 1 1 1 1 1 1 1 1 1 1 1 1 1 1 1 1 1 1 1 1 1 1 1 1 1 1 1 1 1 1 1 1 1 1 1 1 1 1 1 1 1 1 1 1 1 1 1 1 1 1 1 1 1 1 1 1 1 1 1 1 1 1 1 1 1 1 1 1 1 1 1 1 1 1 1 1 1 1 1 1 1 1 1 1 1 1 1 1 1 1 1 1 1 1 1 1 1 1 1 1 1 1 1 1 1 1 1 1 1 1 1 1 1 1 1 1 1 1 1 1 1 1 1 1 1 1 1 1 1 1 1 1 1 1 1 1 1 1 1 1 1 1 1 1 1 1 1 1 1 1 1 1 1 1 1 1 1 1 1 1 1 1 1 1 1 1 1 1 1 1 1 1 1 1 1 1 1 1 1 1 1 1 1 1 1 1 1 1 1 1 1 1 1 1 1 1 0\n",
            "2021-12-21 06:48:50,025 - tensorflow - INFO - segment_ids: 0 0 0 0 0 0 0 0 0 0 0 0 0 0 0 0 0 0 0 0 0 0 0 0 0 0 0 0 0 0 0 0 0 0 0 0 0 0 0 0 0 0 0 0 0 0 0 0 0 0 0 0 0 0 0 0 0 0 0 0 0 0 0 0 0 0 0 0 0 0 0 0 0 0 0 0 0 0 0 0 0 0 0 0 0 0 0 0 0 0 0 0 0 0 0 0 0 0 0 0 0 0 0 0 0 0 0 0 0 0 0 0 0 0 0 0 0 0 0 0 0 0 0 0 0 0 0 0 0 0 0 0 0 0 0 0 0 0 0 0 0 0 0 0 0 0 0 0 0 0 0 0 0 0 0 0 0 0 0 0 0 0 0 0 0 0 0 0 0 0 0 0 0 0 0 0 0 0 0 0 0 0 0 0 0 0 0 0 0 0 0 0 0 0 0 0 0 0 0 0 0 0 0 0 0 0 0 0 0 0 0 0 0 0 0 0 0 0 0 0 0 0 0 0 0 0 0 0 0 0 0 0 0 0 0 0 0 0 0 0 0 0 0 0 0 0 0 0 0 0 0 0 0 0 0 0 1 1 1 1 1 1 1 1 1 1 1 1 1 1 1 1 1 1 1 1 1 1 1 1 1 1 1 1 1 1 1 1 1 1 1 1 1 1 1 1 1 1 1 1 1 1 1 1 1 1 1 1 1 1 1 1 1 1 1 1 1 1 1 1 1 1 1 1 1 1 1 1 1 1 1 1 1 1 1 1 1 1 1 1 1 1 1 1 1 1 1 1 1 1 1 1 1 1 1 1 1 1 1 1 1 1 1 1 1 1 1 1 1 1 1 1 1 1 1 1 1 1 1 1 1 1 1 1 1 1 1 1 1 1 1 1 1 1 1 1 1 1 1 1 1 1 1 1 1 1 1 1 1 1 1 1 1 1 1 1 1 1 1 1 1 1 1 1 1 1 1 1 1 1 1 1 1 1 1 1 1 1 1 1 1 1 1 1 1 1 1 1 1 1 1 1 1 1 1 1 1 1 1 1 1 1 1 1 1 1 1 1 1 1 1 1 1 1 1 1 1 1 1 1 1 1 1 1 1 1 1 1 1 1 1 1 1 1 1 1 1 1 1 1 1 1 1 1 1 1 1 1 1 1 1 0\n",
            "2021-12-21 06:48:50,027 - tensorflow - INFO - preds (length = 27): 1.001 2.0 1.998 1.0 2.0 1.3046036690896505 1.4650986342943852 1.3267365153279007 1.241125541125541 1.485585491141629 1.5571323126741112 1.9906928645294726 1.316 1.7034308081970986 1.956 1.7154761904761906 1.190037899296156 1.725256537570341 1.8369167763639023 1.94 1.9849999999999999 1.7118334288990824 1.9735016992722025 1.9192561148104534 1.972582780407604 1.9542673973676878 1.8595135522285966\n",
            "2021-12-21 06:48:50,029 - tensorflow - INFO - label: 1 (id = 1)\n",
            "2021-12-21 06:48:50,038 - tensorflow - INFO - *** Example ***\n",
            "2021-12-21 06:48:50,041 - tensorflow - INFO - guid: train-2\n",
            "2021-12-21 06:48:50,047 - tensorflow - INFO - tokens: [CLS] E E W E F E V T A F Y R G R Q V F Q Q T I S C P E G L R L V G S E V G D R T L P G W P V T L P D P G M S L T D R G V M S Y V R H V L S C L G G G L A L W R A G Q W L W A Q R L G H C H T Y W A V S E E L L P N S G H G P D G E V P K D K E G G V F D L G P F I V G S W A P R S D Y L H G R K R T L T T L C P L V L C G G V M A P G P A V D Q E A R D G Q G C A H V P Q G L G R N G P G R G C L L P G E Y C G P A H F Q Q P P T L P H L R P V Q G L P A G L G G G H G F P G P W G E L S P R S S W C A S N P P V P H H L N Q J [SEP] E E W E F E V T A F Y R G R Q V F Q Q T I S C P E G L R L V G S E V G D R T L P G W P V T L P D P G M S L T D R G V M S Y V R H V L S C L G G G L A L W R A G Q W L W A Q R L G H C H T Y W A V S E E L L P N S G H G P D G E V P K D K E G G V F D L G P F I V G S W A P R S D Y L H G R K R T L T T L C P L V L C G G V M A P G P A V D Q E A R D G Q G C A H V P Q G L G R N G P G R G C L L P G E Y C G P A H F Q Q P P T L P H L R P V Q G L P A G L G G G H G F P G P W G D L S P R S S W C A S N P P V P H H L N Q J [SEP]\n",
            "2021-12-21 06:48:50,049 - tensorflow - INFO - input_ids: 2 9 9 26 9 21 9 14 12 10 21 23 16 13 16 18 14 21 18 18 12 19 6 24 11 9 13 5 16 5 14 13 6 9 14 13 17 16 12 5 11 13 26 11 14 12 5 11 17 11 13 25 6 5 12 17 16 13 14 25 6 23 14 16 22 14 5 6 24 5 13 13 13 5 10 5 26 16 10 13 18 26 5 26 10 18 16 5 13 22 24 22 12 23 26 10 14 6 9 9 5 5 11 20 6 13 22 13 11 17 13 9 14 11 15 17 15 9 13 13 14 21 17 5 13 11 21 19 14 13 6 26 10 11 16 6 17 23 5 22 13 16 15 16 12 5 12 12 5 24 11 5 14 5 24 13 13 14 25 10 11 13 11 10 14 17 18 9 10 16 17 13 18 13 24 10 22 14 11 18 13 5 13 16 20 13 11 13 16 13 24 5 5 11 13 9 23 24 13 11 10 22 21 18 18 11 11 12 5 11 22 5 16 11 14 18 13 5 11 10 13 5 13 13 13 22 13 21 11 13 11 26 13 9 5 6 11 16 6 6 26 24 10 6 20 11 11 14 11 22 22 5 20 18 8 3 9 9 26 9 21 9 14 12 10 21 23 16 13 16 18 14 21 18 18 12 19 6 24 11 9 13 5 16 5 14 13 6 9 14 13 17 16 12 5 11 13 26 11 14 12 5 11 17 11 13 25 6 5 12 17 16 13 14 25 6 23 14 16 22 14 5 6 24 5 13 13 13 5 10 5 26 16 10 13 18 26 5 26 10 18 16 5 13 22 24 22 12 23 26 10 14 6 9 9 5 5 11 20 6 13 22 13 11 17 13 9 14 11 15 17 15 9 13 13 14 21 17 5 13 11 21 19 14 13 6 26 10 11 16 6 17 23 5 22 13 16 15 16 12 5 12 12 5 24 11 5 14 5 24 13 13 14 25 10 11 13 11 10 14 17 18 9 10 16 17 13 18 13 24 10 22 14 11 18 13 5 13 16 20 13 11 13 16 13 24 5 5 11 13 9 23 24 13 11 10 22 21 18 18 11 11 12 5 11 22 5 16 11 14 18 13 5 11 10 13 5 13 13 13 22 13 21 11 13 11 26 13 17 5 6 11 16 6 6 26 24 10 6 20 11 11 14 11 22 22 5 20 18 8 3 0\n",
            "2021-12-21 06:48:50,052 - tensorflow - INFO - input_mask: 1 1 1 1 1 1 1 1 1 1 1 1 1 1 1 1 1 1 1 1 1 1 1 1 1 1 1 1 1 1 1 1 1 1 1 1 1 1 1 1 1 1 1 1 1 1 1 1 1 1 1 1 1 1 1 1 1 1 1 1 1 1 1 1 1 1 1 1 1 1 1 1 1 1 1 1 1 1 1 1 1 1 1 1 1 1 1 1 1 1 1 1 1 1 1 1 1 1 1 1 1 1 1 1 1 1 1 1 1 1 1 1 1 1 1 1 1 1 1 1 1 1 1 1 1 1 1 1 1 1 1 1 1 1 1 1 1 1 1 1 1 1 1 1 1 1 1 1 1 1 1 1 1 1 1 1 1 1 1 1 1 1 1 1 1 1 1 1 1 1 1 1 1 1 1 1 1 1 1 1 1 1 1 1 1 1 1 1 1 1 1 1 1 1 1 1 1 1 1 1 1 1 1 1 1 1 1 1 1 1 1 1 1 1 1 1 1 1 1 1 1 1 1 1 1 1 1 1 1 1 1 1 1 1 1 1 1 1 1 1 1 1 1 1 1 1 1 1 1 1 1 1 1 1 1 1 1 1 1 1 1 1 1 1 1 1 1 1 1 1 1 1 1 1 1 1 1 1 1 1 1 1 1 1 1 1 1 1 1 1 1 1 1 1 1 1 1 1 1 1 1 1 1 1 1 1 1 1 1 1 1 1 1 1 1 1 1 1 1 1 1 1 1 1 1 1 1 1 1 1 1 1 1 1 1 1 1 1 1 1 1 1 1 1 1 1 1 1 1 1 1 1 1 1 1 1 1 1 1 1 1 1 1 1 1 1 1 1 1 1 1 1 1 1 1 1 1 1 1 1 1 1 1 1 1 1 1 1 1 1 1 1 1 1 1 1 1 1 1 1 1 1 1 1 1 1 1 1 1 1 1 1 1 1 1 1 1 1 1 1 1 1 1 1 1 1 1 1 1 1 1 1 1 1 1 1 1 1 1 1 1 1 1 1 1 1 1 1 1 1 1 1 1 1 1 1 1 1 1 1 1 1 1 1 1 1 1 1 1 1 1 1 1 1 1 1 1 1 1 1 1 1 1 1 1 1 1 1 1 1 1 1 1 1 1 1 1 1 1 1 1 1 1 1 1 1 1 1 1 1 1 0\n",
            "2021-12-21 06:48:50,055 - tensorflow - INFO - segment_ids: 0 0 0 0 0 0 0 0 0 0 0 0 0 0 0 0 0 0 0 0 0 0 0 0 0 0 0 0 0 0 0 0 0 0 0 0 0 0 0 0 0 0 0 0 0 0 0 0 0 0 0 0 0 0 0 0 0 0 0 0 0 0 0 0 0 0 0 0 0 0 0 0 0 0 0 0 0 0 0 0 0 0 0 0 0 0 0 0 0 0 0 0 0 0 0 0 0 0 0 0 0 0 0 0 0 0 0 0 0 0 0 0 0 0 0 0 0 0 0 0 0 0 0 0 0 0 0 0 0 0 0 0 0 0 0 0 0 0 0 0 0 0 0 0 0 0 0 0 0 0 0 0 0 0 0 0 0 0 0 0 0 0 0 0 0 0 0 0 0 0 0 0 0 0 0 0 0 0 0 0 0 0 0 0 0 0 0 0 0 0 0 0 0 0 0 0 0 0 0 0 0 0 0 0 0 0 0 0 0 0 0 0 0 0 0 0 0 0 0 0 0 0 0 0 0 0 0 0 0 0 0 0 0 0 0 0 0 0 0 0 0 0 0 0 0 0 0 0 0 0 0 0 0 0 0 0 1 1 1 1 1 1 1 1 1 1 1 1 1 1 1 1 1 1 1 1 1 1 1 1 1 1 1 1 1 1 1 1 1 1 1 1 1 1 1 1 1 1 1 1 1 1 1 1 1 1 1 1 1 1 1 1 1 1 1 1 1 1 1 1 1 1 1 1 1 1 1 1 1 1 1 1 1 1 1 1 1 1 1 1 1 1 1 1 1 1 1 1 1 1 1 1 1 1 1 1 1 1 1 1 1 1 1 1 1 1 1 1 1 1 1 1 1 1 1 1 1 1 1 1 1 1 1 1 1 1 1 1 1 1 1 1 1 1 1 1 1 1 1 1 1 1 1 1 1 1 1 1 1 1 1 1 1 1 1 1 1 1 1 1 1 1 1 1 1 1 1 1 1 1 1 1 1 1 1 1 1 1 1 1 1 1 1 1 1 1 1 1 1 1 1 1 1 1 1 1 1 1 1 1 1 1 1 1 1 1 1 1 1 1 1 1 1 1 1 1 1 1 1 1 1 1 1 1 1 1 1 1 1 1 1 1 1 1 1 1 1 1 1 1 1 1 1 1 1 1 1 1 1 1 1 0\n",
            "2021-12-21 06:48:50,056 - tensorflow - INFO - preds (length = 27): 2.0 1.0 1.0 0.0 2.0 1.1626860505365177 1.5060698027314112 1.5580131936360109 0.0 1.2769158192682672 1.0249767851615514 1.326783867631851 1.03 1.2332489062859775 1.0 1.8 1.604764482945317 1.325057927838464 1.8696796840719614 1.014 1.0 1.1599770642201834 1.1393407437479566 1.054720103233234 1.0832128321162984 1.0547290300687184 0.0\n",
            "2021-12-21 06:48:50,058 - tensorflow - INFO - label: 0 (id = 0)\n",
            "2021-12-21 06:48:50,068 - tensorflow - INFO - *** Example ***\n",
            "2021-12-21 06:48:50,071 - tensorflow - INFO - guid: train-3\n",
            "2021-12-21 06:48:50,072 - tensorflow - INFO - tokens: [CLS] Y G L L A W Y L D Q V F P G D Y G T P L P W Y F L L Q E S Y W L G G E G C S T R E E R A L E K T E P L T E E T E D P E H P E G I H D S F F E R E H P G W V P G V C V K N L V K I F E P C G R P A V D R L N I T F Y E N Q I T A F L G H N G A G K T T T L S I L T G L L P P T S G T V L V G G R D I E T S L D A V R Q S L G M C P Q H N I L F H H L T V A E H M L F Y A Q L K G K S Q E E A Q L E M E A M L E D T G L H H K R N E E A Q D L S G G M Q R K L S V A I A F V G D A K V V I L D E P T S G V D P Y S R R S I W D L [SEP] Y G L L A W Y L D Q V F P G D Y G T P L P W Y F L L Q E S Y W L G G E G C S T R E E R A L E K T E P L T E E T E D P E H P E G I H D S F F E R E H P G W V P G V C V K N L V K I F E P C G R P A V D R L N I T F Y E N Q I T A F L G H N G A G K T T T L S I L T D L L P P T S G T V L V G G R D I E T S L D A V R Q S L G M C P Q H N I L F H H L T V A E H M L F Y A Q L K G K S Q E E A Q L E M E A M L E D T G L H H K R N E E A Q D L S G G M Q R K L S V A I A F V G D A K V V I L D E P T S G V D P Y S R R S I W D L [SEP]\n",
            "2021-12-21 06:48:50,074 - tensorflow - INFO - input_ids: 2 23 13 5 5 10 26 23 5 17 18 14 21 11 13 17 23 13 12 11 5 11 26 23 21 5 5 18 9 6 23 26 5 13 13 9 13 24 6 12 16 9 9 16 10 5 9 15 12 9 11 5 12 9 9 12 9 17 11 9 22 11 9 13 19 22 17 6 21 21 9 16 9 22 11 13 26 14 11 13 14 24 14 15 20 5 14 15 19 21 9 11 24 13 16 11 10 14 17 16 5 20 19 12 21 23 9 20 18 19 12 10 21 5 13 22 20 13 10 13 15 12 12 12 5 6 19 5 12 13 5 5 11 11 12 6 13 12 14 5 14 13 13 16 17 19 9 12 6 5 17 10 14 16 18 6 5 13 25 24 11 18 22 20 19 5 21 22 22 5 12 14 10 9 22 25 5 21 23 10 18 5 15 13 15 6 18 9 9 10 18 5 9 25 9 10 25 5 9 17 12 13 5 22 22 15 16 20 9 9 10 18 17 5 6 13 13 25 18 16 15 5 6 14 10 19 10 21 14 13 17 10 15 14 14 19 5 17 9 11 12 6 13 14 17 11 23 6 16 16 6 19 26 17 5 3 23 13 5 5 10 26 23 5 17 18 14 21 11 13 17 23 13 12 11 5 11 26 23 21 5 5 18 9 6 23 26 5 13 13 9 13 24 6 12 16 9 9 16 10 5 9 15 12 9 11 5 12 9 9 12 9 17 11 9 22 11 9 13 19 22 17 6 21 21 9 16 9 22 11 13 26 14 11 13 14 24 14 15 20 5 14 15 19 21 9 11 24 13 16 11 10 14 17 16 5 20 19 12 21 23 9 20 18 19 12 10 21 5 13 22 20 13 10 13 15 12 12 12 5 6 19 5 12 17 5 5 11 11 12 6 13 12 14 5 14 13 13 16 17 19 9 12 6 5 17 10 14 16 18 6 5 13 25 24 11 18 22 20 19 5 21 22 22 5 12 14 10 9 22 25 5 21 23 10 18 5 15 13 15 6 18 9 9 10 18 5 9 25 9 10 25 5 9 17 12 13 5 22 22 15 16 20 9 9 10 18 17 5 6 13 13 25 18 16 15 5 6 14 10 19 10 21 14 13 17 10 15 14 14 19 5 17 9 11 12 6 13 14 17 11 23 6 16 16 6 19 26 17 5 3 0\n",
            "2021-12-21 06:48:50,076 - tensorflow - INFO - input_mask: 1 1 1 1 1 1 1 1 1 1 1 1 1 1 1 1 1 1 1 1 1 1 1 1 1 1 1 1 1 1 1 1 1 1 1 1 1 1 1 1 1 1 1 1 1 1 1 1 1 1 1 1 1 1 1 1 1 1 1 1 1 1 1 1 1 1 1 1 1 1 1 1 1 1 1 1 1 1 1 1 1 1 1 1 1 1 1 1 1 1 1 1 1 1 1 1 1 1 1 1 1 1 1 1 1 1 1 1 1 1 1 1 1 1 1 1 1 1 1 1 1 1 1 1 1 1 1 1 1 1 1 1 1 1 1 1 1 1 1 1 1 1 1 1 1 1 1 1 1 1 1 1 1 1 1 1 1 1 1 1 1 1 1 1 1 1 1 1 1 1 1 1 1 1 1 1 1 1 1 1 1 1 1 1 1 1 1 1 1 1 1 1 1 1 1 1 1 1 1 1 1 1 1 1 1 1 1 1 1 1 1 1 1 1 1 1 1 1 1 1 1 1 1 1 1 1 1 1 1 1 1 1 1 1 1 1 1 1 1 1 1 1 1 1 1 1 1 1 1 1 1 1 1 1 1 1 1 1 1 1 1 1 1 1 1 1 1 1 1 1 1 1 1 1 1 1 1 1 1 1 1 1 1 1 1 1 1 1 1 1 1 1 1 1 1 1 1 1 1 1 1 1 1 1 1 1 1 1 1 1 1 1 1 1 1 1 1 1 1 1 1 1 1 1 1 1 1 1 1 1 1 1 1 1 1 1 1 1 1 1 1 1 1 1 1 1 1 1 1 1 1 1 1 1 1 1 1 1 1 1 1 1 1 1 1 1 1 1 1 1 1 1 1 1 1 1 1 1 1 1 1 1 1 1 1 1 1 1 1 1 1 1 1 1 1 1 1 1 1 1 1 1 1 1 1 1 1 1 1 1 1 1 1 1 1 1 1 1 1 1 1 1 1 1 1 1 1 1 1 1 1 1 1 1 1 1 1 1 1 1 1 1 1 1 1 1 1 1 1 1 1 1 1 1 1 1 1 1 1 1 1 1 1 1 1 1 1 1 1 1 1 1 1 1 1 1 1 1 1 1 1 1 1 1 1 1 1 1 1 1 1 1 1 1 1 1 1 1 1 1 1 1 1 1 1 1 1 1 1 1 1 0\n",
            "2021-12-21 06:48:50,077 - tensorflow - INFO - segment_ids: 0 0 0 0 0 0 0 0 0 0 0 0 0 0 0 0 0 0 0 0 0 0 0 0 0 0 0 0 0 0 0 0 0 0 0 0 0 0 0 0 0 0 0 0 0 0 0 0 0 0 0 0 0 0 0 0 0 0 0 0 0 0 0 0 0 0 0 0 0 0 0 0 0 0 0 0 0 0 0 0 0 0 0 0 0 0 0 0 0 0 0 0 0 0 0 0 0 0 0 0 0 0 0 0 0 0 0 0 0 0 0 0 0 0 0 0 0 0 0 0 0 0 0 0 0 0 0 0 0 0 0 0 0 0 0 0 0 0 0 0 0 0 0 0 0 0 0 0 0 0 0 0 0 0 0 0 0 0 0 0 0 0 0 0 0 0 0 0 0 0 0 0 0 0 0 0 0 0 0 0 0 0 0 0 0 0 0 0 0 0 0 0 0 0 0 0 0 0 0 0 0 0 0 0 0 0 0 0 0 0 0 0 0 0 0 0 0 0 0 0 0 0 0 0 0 0 0 0 0 0 0 0 0 0 0 0 0 0 0 0 0 0 0 0 0 0 0 0 0 0 0 0 0 0 0 0 1 1 1 1 1 1 1 1 1 1 1 1 1 1 1 1 1 1 1 1 1 1 1 1 1 1 1 1 1 1 1 1 1 1 1 1 1 1 1 1 1 1 1 1 1 1 1 1 1 1 1 1 1 1 1 1 1 1 1 1 1 1 1 1 1 1 1 1 1 1 1 1 1 1 1 1 1 1 1 1 1 1 1 1 1 1 1 1 1 1 1 1 1 1 1 1 1 1 1 1 1 1 1 1 1 1 1 1 1 1 1 1 1 1 1 1 1 1 1 1 1 1 1 1 1 1 1 1 1 1 1 1 1 1 1 1 1 1 1 1 1 1 1 1 1 1 1 1 1 1 1 1 1 1 1 1 1 1 1 1 1 1 1 1 1 1 1 1 1 1 1 1 1 1 1 1 1 1 1 1 1 1 1 1 1 1 1 1 1 1 1 1 1 1 1 1 1 1 1 1 1 1 1 1 1 1 1 1 1 1 1 1 1 1 1 1 1 1 1 1 1 1 1 1 1 1 1 1 1 1 1 1 1 1 1 1 1 1 1 1 1 1 1 1 1 1 1 1 1 1 1 1 1 1 1 0\n",
            "2021-12-21 06:48:50,079 - tensorflow - INFO - preds (length = 27): 1.002 2.0 2.0 1.0 2.0 1.3070266528210452 1.4620637329286799 1.2933643771827708 1.4324675324675324 1.6774819163434322 1.809519274268435 1.9979317476732161 1.959 1.7135620538798064 1.958 1.4690476190476192 1.9756361667569031 1.9683879510095994 1.9746233728243383 1.901 1.968 1.7129802178899083 1.9762873468950373 1.9663705369126285 1.9708743433128564 1.9663031186924744 1.9962779999566607\n",
            "2021-12-21 06:48:50,081 - tensorflow - INFO - label: 1 (id = 1)\n",
            "2021-12-21 06:48:50,091 - tensorflow - INFO - *** Example ***\n",
            "2021-12-21 06:48:50,106 - tensorflow - INFO - guid: train-4\n",
            "2021-12-21 06:48:50,109 - tensorflow - INFO - tokens: [CLS] B M A R R R S Q R V C A S G P S M L N S A R G A P E L L R G T A T N A E V S A A A A G A T G S E E L P P G D R G C R N G G G R G P A A T T S S T G V A V G A E H G E D S L S R K P D P E P G R M D H H Q P G T G R Y Q V L L N E E D N S E S S A I E Q P P T S N P A P Q I V Q A A S S A P A L E T D S S P P P Y S S I T V E V P T T S D T E V Y G E F Y P V P P P Y S V A T S L P T Y D E A E K A K A A A M A A A A A E T S Q R I Q E E E C P P R D D F S D A D Q L R V G N D G I F M L A F F M A F I F N W L G F C L S F C [SEP] B M A R R R S Q R V C A S G P S M L N S A R G A P E L L R G T A T N A E V S A A A A G A T G S E E L P P G D R G C R N G G G R G P A A T T S S T G V A V G A E H G E D S L S R K P D P E P G R M D H H Q P G T G R Y Q V L L N E E D N S E S S A I E Q P S T S N P A P Q I V Q A A S S A P A L E T D S S P P P Y S S I T V E V P T T S D T E V Y G E F Y P V P P P Y S V A T S L P T Y D E A E K A K A A A M A A A A A E T S Q R I Q E E E C P P R D D F S D A D Q L R V G N D G I F M L A F F M A F I F N W L G F C L S F C [SEP]\n",
            "2021-12-21 06:48:50,111 - tensorflow - INFO - input_ids: 2 7 25 10 16 16 16 6 18 16 14 24 10 6 13 11 6 25 5 20 6 10 16 13 10 11 9 5 5 16 13 12 10 12 20 10 9 14 6 10 10 10 10 13 10 12 13 6 9 9 5 11 11 13 17 16 13 24 16 20 13 13 13 16 13 11 10 10 12 12 6 6 12 13 14 10 14 13 10 9 22 13 9 17 6 5 6 16 15 11 17 11 9 11 13 16 25 17 22 22 18 11 13 12 13 16 23 18 14 5 5 20 9 9 17 20 6 9 6 6 10 19 9 18 11 11 12 6 20 11 10 11 18 19 14 18 10 10 6 6 10 11 10 5 9 12 17 6 6 11 11 11 23 6 6 19 12 14 9 14 11 12 12 6 17 12 9 14 23 13 9 21 23 11 14 11 11 11 23 6 14 10 12 6 5 11 12 23 17 9 10 9 15 10 15 10 10 10 25 10 10 10 10 10 9 12 6 18 16 19 18 9 9 9 24 11 11 16 17 17 21 6 17 10 17 18 5 16 14 13 20 17 13 19 21 25 5 10 21 21 25 10 21 19 21 20 26 5 13 21 24 5 6 21 24 3 7 25 10 16 16 16 6 18 16 14 24 10 6 13 11 6 25 5 20 6 10 16 13 10 11 9 5 5 16 13 12 10 12 20 10 9 14 6 10 10 10 10 13 10 12 13 6 9 9 5 11 11 13 17 16 13 24 16 20 13 13 13 16 13 11 10 10 12 12 6 6 12 13 14 10 14 13 10 9 22 13 9 17 6 5 6 16 15 11 17 11 9 11 13 16 25 17 22 22 18 11 13 12 13 16 23 18 14 5 5 20 9 9 17 20 6 9 6 6 10 19 9 18 11 6 12 6 20 11 10 11 18 19 14 18 10 10 6 6 10 11 10 5 9 12 17 6 6 11 11 11 23 6 6 19 12 14 9 14 11 12 12 6 17 12 9 14 23 13 9 21 23 11 14 11 11 11 23 6 14 10 12 6 5 11 12 23 17 9 10 9 15 10 15 10 10 10 25 10 10 10 10 10 9 12 6 18 16 19 18 9 9 9 24 11 11 16 17 17 21 6 17 10 17 18 5 16 14 13 20 17 13 19 21 25 5 10 21 21 25 10 21 19 21 20 26 5 13 21 24 5 6 21 24 3 0\n",
            "2021-12-21 06:48:50,114 - tensorflow - INFO - input_mask: 1 1 1 1 1 1 1 1 1 1 1 1 1 1 1 1 1 1 1 1 1 1 1 1 1 1 1 1 1 1 1 1 1 1 1 1 1 1 1 1 1 1 1 1 1 1 1 1 1 1 1 1 1 1 1 1 1 1 1 1 1 1 1 1 1 1 1 1 1 1 1 1 1 1 1 1 1 1 1 1 1 1 1 1 1 1 1 1 1 1 1 1 1 1 1 1 1 1 1 1 1 1 1 1 1 1 1 1 1 1 1 1 1 1 1 1 1 1 1 1 1 1 1 1 1 1 1 1 1 1 1 1 1 1 1 1 1 1 1 1 1 1 1 1 1 1 1 1 1 1 1 1 1 1 1 1 1 1 1 1 1 1 1 1 1 1 1 1 1 1 1 1 1 1 1 1 1 1 1 1 1 1 1 1 1 1 1 1 1 1 1 1 1 1 1 1 1 1 1 1 1 1 1 1 1 1 1 1 1 1 1 1 1 1 1 1 1 1 1 1 1 1 1 1 1 1 1 1 1 1 1 1 1 1 1 1 1 1 1 1 1 1 1 1 1 1 1 1 1 1 1 1 1 1 1 1 1 1 1 1 1 1 1 1 1 1 1 1 1 1 1 1 1 1 1 1 1 1 1 1 1 1 1 1 1 1 1 1 1 1 1 1 1 1 1 1 1 1 1 1 1 1 1 1 1 1 1 1 1 1 1 1 1 1 1 1 1 1 1 1 1 1 1 1 1 1 1 1 1 1 1 1 1 1 1 1 1 1 1 1 1 1 1 1 1 1 1 1 1 1 1 1 1 1 1 1 1 1 1 1 1 1 1 1 1 1 1 1 1 1 1 1 1 1 1 1 1 1 1 1 1 1 1 1 1 1 1 1 1 1 1 1 1 1 1 1 1 1 1 1 1 1 1 1 1 1 1 1 1 1 1 1 1 1 1 1 1 1 1 1 1 1 1 1 1 1 1 1 1 1 1 1 1 1 1 1 1 1 1 1 1 1 1 1 1 1 1 1 1 1 1 1 1 1 1 1 1 1 1 1 1 1 1 1 1 1 1 1 1 1 1 1 1 1 1 1 1 1 1 1 1 1 1 1 1 1 1 1 1 1 1 1 1 1 1 1 1 1 1 1 1 1 1 1 1 1 1 1 1 1 1 0\n",
            "2021-12-21 06:48:50,116 - tensorflow - INFO - segment_ids: 0 0 0 0 0 0 0 0 0 0 0 0 0 0 0 0 0 0 0 0 0 0 0 0 0 0 0 0 0 0 0 0 0 0 0 0 0 0 0 0 0 0 0 0 0 0 0 0 0 0 0 0 0 0 0 0 0 0 0 0 0 0 0 0 0 0 0 0 0 0 0 0 0 0 0 0 0 0 0 0 0 0 0 0 0 0 0 0 0 0 0 0 0 0 0 0 0 0 0 0 0 0 0 0 0 0 0 0 0 0 0 0 0 0 0 0 0 0 0 0 0 0 0 0 0 0 0 0 0 0 0 0 0 0 0 0 0 0 0 0 0 0 0 0 0 0 0 0 0 0 0 0 0 0 0 0 0 0 0 0 0 0 0 0 0 0 0 0 0 0 0 0 0 0 0 0 0 0 0 0 0 0 0 0 0 0 0 0 0 0 0 0 0 0 0 0 0 0 0 0 0 0 0 0 0 0 0 0 0 0 0 0 0 0 0 0 0 0 0 0 0 0 0 0 0 0 0 0 0 0 0 0 0 0 0 0 0 0 0 0 0 0 0 0 0 0 0 0 0 0 0 0 0 0 0 0 1 1 1 1 1 1 1 1 1 1 1 1 1 1 1 1 1 1 1 1 1 1 1 1 1 1 1 1 1 1 1 1 1 1 1 1 1 1 1 1 1 1 1 1 1 1 1 1 1 1 1 1 1 1 1 1 1 1 1 1 1 1 1 1 1 1 1 1 1 1 1 1 1 1 1 1 1 1 1 1 1 1 1 1 1 1 1 1 1 1 1 1 1 1 1 1 1 1 1 1 1 1 1 1 1 1 1 1 1 1 1 1 1 1 1 1 1 1 1 1 1 1 1 1 1 1 1 1 1 1 1 1 1 1 1 1 1 1 1 1 1 1 1 1 1 1 1 1 1 1 1 1 1 1 1 1 1 1 1 1 1 1 1 1 1 1 1 1 1 1 1 1 1 1 1 1 1 1 1 1 1 1 1 1 1 1 1 1 1 1 1 1 1 1 1 1 1 1 1 1 1 1 1 1 1 1 1 1 1 1 1 1 1 1 1 1 1 1 1 1 1 1 1 1 1 1 1 1 1 1 1 1 1 1 1 1 1 1 1 1 1 1 1 1 1 1 1 1 1 1 1 1 1 1 1 0\n",
            "2021-12-21 06:48:50,118 - tensorflow - INFO - preds (length = 27): 2.0 1.0 1.0 1.0 2.0 1.1227068189685012 1.6794385432473444 1.6022506790842064 1.0584415584415585 1.3193730999056505 1.1944093906997786 1.0765253360910032 1.008 1.2311766060326963 1.0 1.8404761904761906 1.977260422306443 1.8381330685203574 1.9229194090975574 1.143 1.188 1.395247993119266 1.0310536292152321 1.0552247918030762 1.0310433819247233 1.0552338042053448 0.0\n",
            "2021-12-21 06:48:50,120 - tensorflow - INFO - label: 0 (id = 0)\n",
            "2021-12-21 06:49:32,922 - tensorflow - INFO - Writing example 10000 of 115784\n",
            "2021-12-21 06:50:15,783 - tensorflow - INFO - Writing example 20000 of 115784\n",
            "2021-12-21 06:50:57,481 - tensorflow - INFO - Writing example 30000 of 115784\n",
            "2021-12-21 06:51:39,677 - tensorflow - INFO - Writing example 40000 of 115784\n",
            "2021-12-21 06:52:21,562 - tensorflow - INFO - Writing example 50000 of 115784\n",
            "2021-12-21 06:53:03,333 - tensorflow - INFO - Writing example 60000 of 115784\n",
            "2021-12-21 06:53:45,072 - tensorflow - INFO - Writing example 70000 of 115784\n",
            "2021-12-21 06:54:26,837 - tensorflow - INFO - Writing example 80000 of 115784\n",
            "2021-12-21 06:55:08,679 - tensorflow - INFO - Writing example 90000 of 115784\n",
            "2021-12-21 06:55:50,428 - tensorflow - INFO - Writing example 100000 of 115784\n",
            "2021-12-21 06:56:34,014 - tensorflow - INFO - Writing example 110000 of 115784\n"
          ]
        },
        {
          "output_type": "stream",
          "name": "stdout",
          "text": [
            "\n",
            "Generating eval set...\n",
            "\n"
          ]
        },
        {
          "output_type": "stream",
          "name": "stderr",
          "text": [
            "reading tsv: 14474it [00:02, 7060.39it/s] \n",
            "creating_examples: 100%|██████████| 14474/14474 [00:00<00:00, 282134.80it/s]\n",
            "2021-12-21 06:57:02,596 - tensorflow - INFO - Writing example 0 of 14474\n",
            "2021-12-21 06:57:02,605 - tensorflow - INFO - *** Example ***\n",
            "2021-12-21 06:57:02,607 - tensorflow - INFO - guid: dev-0\n",
            "2021-12-21 06:57:02,609 - tensorflow - INFO - tokens: [CLS] Q M V G M Y A S S Y M I L A M T L D R H R A I C R P M L A Y R H G S G A H W N R P V L V A W A F S L L L S L P Q L F I F A Q R N V E G G S G V T D C W A C F A E P W G R R T Y V T W I A L M V F V A P T L G I A A C Q V L I F R E I H A S L V P G P S E R P G G R R R G R R T G S P G E G A H V S A A V A K T V R M T L V I V V V Y V L C W A P F F L V Q L W A A W D P E A P L E G A P F V L L M L L A S L N S C T N P W I Y A S F S S S V S S E L R S L L C C A R G R T P P S L G P Q D E S C T T A S S S L A K D T S S J [SEP] Q M V G M Y A S S Y M I L A M T L D R H R A I C R P M L A Y R H G S G A H W N R P V L V A W A F S L L L S L P Q L F I F A Q R N V E G G S G V T D C W A C F A E P W G R R T Y V T W I A L M V F V A P T L G I A A C Q V L I F R E I H A S L V P G P S E R P G G R R R G R R T G S P G E G A H V S A A V A K T V R M T P V I V V V Y V L C W A P F F L V Q L W A A W D P E A P L E G A P F V L L M L L A S L N S C T N P W I Y A S F S S S V S S E L R S L L C C A R G R T P P S L G P Q D E S C T T A S S S L A K D T S S J [SEP]\n",
            "2021-12-21 06:57:02,611 - tensorflow - INFO - input_ids: 2 18 25 14 13 25 23 10 6 6 23 25 19 5 10 25 12 5 17 16 22 16 10 19 24 16 11 25 5 10 23 16 22 13 6 13 10 22 26 20 16 11 14 5 14 10 26 10 21 6 5 5 5 6 5 11 18 5 21 19 21 10 18 16 20 14 9 13 13 6 13 14 12 17 24 26 10 24 21 10 9 11 26 13 16 16 12 23 14 12 26 19 10 5 25 14 21 14 10 11 12 5 13 19 10 10 24 18 14 5 19 21 16 9 19 22 10 6 5 14 11 13 11 6 9 16 11 13 13 16 16 16 13 16 16 12 13 6 11 13 9 13 10 22 14 6 10 10 14 10 15 12 14 16 25 12 5 14 19 14 14 14 23 14 5 24 26 10 11 21 21 5 14 18 5 26 10 10 26 17 11 9 10 11 5 9 13 10 11 21 14 5 5 25 5 5 10 6 5 20 6 24 12 20 11 26 19 23 10 6 21 6 6 6 14 6 6 9 5 16 6 5 5 24 24 10 16 13 16 12 11 11 6 5 13 11 18 17 9 6 24 12 12 10 6 6 6 5 10 15 17 12 6 6 8 3 18 25 14 13 25 23 10 6 6 23 25 19 5 10 25 12 5 17 16 22 16 10 19 24 16 11 25 5 10 23 16 22 13 6 13 10 22 26 20 16 11 14 5 14 10 26 10 21 6 5 5 5 6 5 11 18 5 21 19 21 10 18 16 20 14 9 13 13 6 13 14 12 17 24 26 10 24 21 10 9 11 26 13 16 16 12 23 14 12 26 19 10 5 25 14 21 14 10 11 12 5 13 19 10 10 24 18 14 5 19 21 16 9 19 22 10 6 5 14 11 13 11 6 9 16 11 13 13 16 16 16 13 16 16 12 13 6 11 13 9 13 10 22 14 6 10 10 14 10 15 12 14 16 25 12 11 14 19 14 14 14 23 14 5 24 26 10 11 21 21 5 14 18 5 26 10 10 26 17 11 9 10 11 5 9 13 10 11 21 14 5 5 25 5 5 10 6 5 20 6 24 12 20 11 26 19 23 10 6 21 6 6 6 14 6 6 9 5 16 6 5 5 24 24 10 16 13 16 12 11 11 6 5 13 11 18 17 9 6 24 12 12 10 6 6 6 5 10 15 17 12 6 6 8 3 0\n",
            "2021-12-21 06:57:02,614 - tensorflow - INFO - input_mask: 1 1 1 1 1 1 1 1 1 1 1 1 1 1 1 1 1 1 1 1 1 1 1 1 1 1 1 1 1 1 1 1 1 1 1 1 1 1 1 1 1 1 1 1 1 1 1 1 1 1 1 1 1 1 1 1 1 1 1 1 1 1 1 1 1 1 1 1 1 1 1 1 1 1 1 1 1 1 1 1 1 1 1 1 1 1 1 1 1 1 1 1 1 1 1 1 1 1 1 1 1 1 1 1 1 1 1 1 1 1 1 1 1 1 1 1 1 1 1 1 1 1 1 1 1 1 1 1 1 1 1 1 1 1 1 1 1 1 1 1 1 1 1 1 1 1 1 1 1 1 1 1 1 1 1 1 1 1 1 1 1 1 1 1 1 1 1 1 1 1 1 1 1 1 1 1 1 1 1 1 1 1 1 1 1 1 1 1 1 1 1 1 1 1 1 1 1 1 1 1 1 1 1 1 1 1 1 1 1 1 1 1 1 1 1 1 1 1 1 1 1 1 1 1 1 1 1 1 1 1 1 1 1 1 1 1 1 1 1 1 1 1 1 1 1 1 1 1 1 1 1 1 1 1 1 1 1 1 1 1 1 1 1 1 1 1 1 1 1 1 1 1 1 1 1 1 1 1 1 1 1 1 1 1 1 1 1 1 1 1 1 1 1 1 1 1 1 1 1 1 1 1 1 1 1 1 1 1 1 1 1 1 1 1 1 1 1 1 1 1 1 1 1 1 1 1 1 1 1 1 1 1 1 1 1 1 1 1 1 1 1 1 1 1 1 1 1 1 1 1 1 1 1 1 1 1 1 1 1 1 1 1 1 1 1 1 1 1 1 1 1 1 1 1 1 1 1 1 1 1 1 1 1 1 1 1 1 1 1 1 1 1 1 1 1 1 1 1 1 1 1 1 1 1 1 1 1 1 1 1 1 1 1 1 1 1 1 1 1 1 1 1 1 1 1 1 1 1 1 1 1 1 1 1 1 1 1 1 1 1 1 1 1 1 1 1 1 1 1 1 1 1 1 1 1 1 1 1 1 1 1 1 1 1 1 1 1 1 1 1 1 1 1 1 1 1 1 1 1 1 1 1 1 1 1 1 1 1 1 1 1 1 1 1 1 1 1 1 1 1 1 1 1 1 1 1 1 1 1 1 1 0\n",
            "2021-12-21 06:57:02,617 - tensorflow - INFO - segment_ids: 0 0 0 0 0 0 0 0 0 0 0 0 0 0 0 0 0 0 0 0 0 0 0 0 0 0 0 0 0 0 0 0 0 0 0 0 0 0 0 0 0 0 0 0 0 0 0 0 0 0 0 0 0 0 0 0 0 0 0 0 0 0 0 0 0 0 0 0 0 0 0 0 0 0 0 0 0 0 0 0 0 0 0 0 0 0 0 0 0 0 0 0 0 0 0 0 0 0 0 0 0 0 0 0 0 0 0 0 0 0 0 0 0 0 0 0 0 0 0 0 0 0 0 0 0 0 0 0 0 0 0 0 0 0 0 0 0 0 0 0 0 0 0 0 0 0 0 0 0 0 0 0 0 0 0 0 0 0 0 0 0 0 0 0 0 0 0 0 0 0 0 0 0 0 0 0 0 0 0 0 0 0 0 0 0 0 0 0 0 0 0 0 0 0 0 0 0 0 0 0 0 0 0 0 0 0 0 0 0 0 0 0 0 0 0 0 0 0 0 0 0 0 0 0 0 0 0 0 0 0 0 0 0 0 0 0 0 0 0 0 0 0 0 0 0 0 0 0 0 0 0 0 0 0 0 0 1 1 1 1 1 1 1 1 1 1 1 1 1 1 1 1 1 1 1 1 1 1 1 1 1 1 1 1 1 1 1 1 1 1 1 1 1 1 1 1 1 1 1 1 1 1 1 1 1 1 1 1 1 1 1 1 1 1 1 1 1 1 1 1 1 1 1 1 1 1 1 1 1 1 1 1 1 1 1 1 1 1 1 1 1 1 1 1 1 1 1 1 1 1 1 1 1 1 1 1 1 1 1 1 1 1 1 1 1 1 1 1 1 1 1 1 1 1 1 1 1 1 1 1 1 1 1 1 1 1 1 1 1 1 1 1 1 1 1 1 1 1 1 1 1 1 1 1 1 1 1 1 1 1 1 1 1 1 1 1 1 1 1 1 1 1 1 1 1 1 1 1 1 1 1 1 1 1 1 1 1 1 1 1 1 1 1 1 1 1 1 1 1 1 1 1 1 1 1 1 1 1 1 1 1 1 1 1 1 1 1 1 1 1 1 1 1 1 1 1 1 1 1 1 1 1 1 1 1 1 1 1 1 1 1 1 1 1 1 1 1 1 1 1 1 1 1 1 1 1 1 1 1 1 1 0\n",
            "2021-12-21 06:57:02,620 - tensorflow - INFO - preds (length = 27): 1.002 2.0 1.996 1.0 2.0 1.282796815507096 1.6483308042488618 1.351571594877765 1.4186147186147187 1.5394171296781634 1.590466439677135 1.9979317476732161 1.942 1.3520607874740962 1.268 0.0 1.858689767190038 1.9356173452499172 1.9783530788357466 1.9929999999999999 1.992 1.3962514334862384 1.9867254351655688 1.9636401888334687 1.9888196104030844 1.9755108817940534 1.9996590581154876\n",
            "2021-12-21 06:57:02,622 - tensorflow - INFO - label: 1 (id = 1)\n",
            "2021-12-21 06:57:02,639 - tensorflow - INFO - *** Example ***\n",
            "2021-12-21 06:57:02,642 - tensorflow - INFO - guid: dev-1\n",
            "2021-12-21 06:57:02,643 - tensorflow - INFO - tokens: [CLS] D M L T K S I F K V V S S A L F N E D K L C F S F R L C T V I M Q N N A N G N L I Q D D I G F L P E E E W N I F L Y S G I L I N I K S A L S Q S R L T S T F E I G E S Q H L Q W L S D S R W R Q C Q Y V S T H L E P F S L L C K S L L S N V S Q W D T F K N S K A V Y S L I S T P F S S E N A S L E E N T K P P E E T E L L N E N K E T C N P I N F P W E K L T S F Q R L I L V K V L R P E S L N N S V R K F I T E K M G N K Y L Q R T G V N L K D A Y K G S N A R T P L I L I Q T H G I D L T N I L L R F A Q E L K G T T [SEP] D M L T K S I F K V V S S A L F N E D K L C F S F R L C T V I M Q N N A N G N L I Q D D I G F L P E E E W N I F L Y S G I L I N I K S A L S Q S R L T S T F E I G E S Q H L Q W L S D S R W R Q C Q Y V S T H L E P F S L L C K S L L S N V S Q W D T F K N S K G V Y S L I S T P F S S E N A S L E E N T K P P E E T E L L N E N K E T C N P I N F P W E K L T S F Q R L I L V K V L R P E S L N N S V R K F I T E K M G N K Y L Q R T G V N L K D A Y K G S N A R T P L I L I Q T H G I D L T N I L L R F A Q E L K G T T [SEP]\n",
            "2021-12-21 06:57:02,645 - tensorflow - INFO - input_ids: 2 17 25 5 12 15 6 19 21 15 14 14 6 6 10 5 21 20 9 17 15 5 24 21 6 21 16 5 24 12 14 19 25 18 20 20 10 20 13 20 5 19 18 17 17 19 13 21 5 11 9 9 9 26 20 19 21 5 23 6 13 19 5 19 20 19 15 6 10 5 6 18 6 16 5 12 6 12 21 9 19 13 9 6 18 22 5 18 26 5 6 17 6 16 26 16 18 24 18 23 14 6 12 22 5 9 11 21 6 5 5 24 15 6 5 5 6 20 14 6 18 26 17 12 21 15 20 6 15 10 14 23 6 5 19 6 12 11 21 6 6 9 20 10 6 5 9 9 20 12 15 11 11 9 9 12 9 5 5 20 9 20 15 9 12 24 20 11 19 20 21 11 26 9 15 5 12 6 21 18 16 5 19 5 14 15 14 5 16 11 9 6 5 20 20 6 14 16 15 21 19 12 9 15 25 13 20 15 23 5 18 16 12 13 14 20 5 15 17 10 23 15 13 6 20 10 16 12 11 5 19 5 19 18 12 22 13 19 17 5 12 20 19 5 5 16 21 10 18 9 5 15 13 12 12 3 17 25 5 12 15 6 19 21 15 14 14 6 6 10 5 21 20 9 17 15 5 24 21 6 21 16 5 24 12 14 19 25 18 20 20 10 20 13 20 5 19 18 17 17 19 13 21 5 11 9 9 9 26 20 19 21 5 23 6 13 19 5 19 20 19 15 6 10 5 6 18 6 16 5 12 6 12 21 9 19 13 9 6 18 22 5 18 26 5 6 17 6 16 26 16 18 24 18 23 14 6 12 22 5 9 11 21 6 5 5 24 15 6 5 5 6 20 14 6 18 26 17 12 21 15 20 6 15 13 14 23 6 5 19 6 12 11 21 6 6 9 20 10 6 5 9 9 20 12 15 11 11 9 9 12 9 5 5 20 9 20 15 9 12 24 20 11 19 20 21 11 26 9 15 5 12 6 21 18 16 5 19 5 14 15 14 5 16 11 9 6 5 20 20 6 14 16 15 21 19 12 9 15 25 13 20 15 23 5 18 16 12 13 14 20 5 15 17 10 23 15 13 6 20 10 16 12 11 5 19 5 19 18 12 22 13 19 17 5 12 20 19 5 5 16 21 10 18 9 5 15 13 12 12 3 0\n",
            "2021-12-21 06:57:02,647 - tensorflow - INFO - input_mask: 1 1 1 1 1 1 1 1 1 1 1 1 1 1 1 1 1 1 1 1 1 1 1 1 1 1 1 1 1 1 1 1 1 1 1 1 1 1 1 1 1 1 1 1 1 1 1 1 1 1 1 1 1 1 1 1 1 1 1 1 1 1 1 1 1 1 1 1 1 1 1 1 1 1 1 1 1 1 1 1 1 1 1 1 1 1 1 1 1 1 1 1 1 1 1 1 1 1 1 1 1 1 1 1 1 1 1 1 1 1 1 1 1 1 1 1 1 1 1 1 1 1 1 1 1 1 1 1 1 1 1 1 1 1 1 1 1 1 1 1 1 1 1 1 1 1 1 1 1 1 1 1 1 1 1 1 1 1 1 1 1 1 1 1 1 1 1 1 1 1 1 1 1 1 1 1 1 1 1 1 1 1 1 1 1 1 1 1 1 1 1 1 1 1 1 1 1 1 1 1 1 1 1 1 1 1 1 1 1 1 1 1 1 1 1 1 1 1 1 1 1 1 1 1 1 1 1 1 1 1 1 1 1 1 1 1 1 1 1 1 1 1 1 1 1 1 1 1 1 1 1 1 1 1 1 1 1 1 1 1 1 1 1 1 1 1 1 1 1 1 1 1 1 1 1 1 1 1 1 1 1 1 1 1 1 1 1 1 1 1 1 1 1 1 1 1 1 1 1 1 1 1 1 1 1 1 1 1 1 1 1 1 1 1 1 1 1 1 1 1 1 1 1 1 1 1 1 1 1 1 1 1 1 1 1 1 1 1 1 1 1 1 1 1 1 1 1 1 1 1 1 1 1 1 1 1 1 1 1 1 1 1 1 1 1 1 1 1 1 1 1 1 1 1 1 1 1 1 1 1 1 1 1 1 1 1 1 1 1 1 1 1 1 1 1 1 1 1 1 1 1 1 1 1 1 1 1 1 1 1 1 1 1 1 1 1 1 1 1 1 1 1 1 1 1 1 1 1 1 1 1 1 1 1 1 1 1 1 1 1 1 1 1 1 1 1 1 1 1 1 1 1 1 1 1 1 1 1 1 1 1 1 1 1 1 1 1 1 1 1 1 1 1 1 1 1 1 1 1 1 1 1 1 1 1 1 1 1 1 1 1 1 1 1 1 1 1 1 1 1 1 1 1 1 1 1 1 1 1 1 1 0\n",
            "2021-12-21 06:57:02,649 - tensorflow - INFO - segment_ids: 0 0 0 0 0 0 0 0 0 0 0 0 0 0 0 0 0 0 0 0 0 0 0 0 0 0 0 0 0 0 0 0 0 0 0 0 0 0 0 0 0 0 0 0 0 0 0 0 0 0 0 0 0 0 0 0 0 0 0 0 0 0 0 0 0 0 0 0 0 0 0 0 0 0 0 0 0 0 0 0 0 0 0 0 0 0 0 0 0 0 0 0 0 0 0 0 0 0 0 0 0 0 0 0 0 0 0 0 0 0 0 0 0 0 0 0 0 0 0 0 0 0 0 0 0 0 0 0 0 0 0 0 0 0 0 0 0 0 0 0 0 0 0 0 0 0 0 0 0 0 0 0 0 0 0 0 0 0 0 0 0 0 0 0 0 0 0 0 0 0 0 0 0 0 0 0 0 0 0 0 0 0 0 0 0 0 0 0 0 0 0 0 0 0 0 0 0 0 0 0 0 0 0 0 0 0 0 0 0 0 0 0 0 0 0 0 0 0 0 0 0 0 0 0 0 0 0 0 0 0 0 0 0 0 0 0 0 0 0 0 0 0 0 0 0 0 0 0 0 0 0 0 0 0 0 0 1 1 1 1 1 1 1 1 1 1 1 1 1 1 1 1 1 1 1 1 1 1 1 1 1 1 1 1 1 1 1 1 1 1 1 1 1 1 1 1 1 1 1 1 1 1 1 1 1 1 1 1 1 1 1 1 1 1 1 1 1 1 1 1 1 1 1 1 1 1 1 1 1 1 1 1 1 1 1 1 1 1 1 1 1 1 1 1 1 1 1 1 1 1 1 1 1 1 1 1 1 1 1 1 1 1 1 1 1 1 1 1 1 1 1 1 1 1 1 1 1 1 1 1 1 1 1 1 1 1 1 1 1 1 1 1 1 1 1 1 1 1 1 1 1 1 1 1 1 1 1 1 1 1 1 1 1 1 1 1 1 1 1 1 1 1 1 1 1 1 1 1 1 1 1 1 1 1 1 1 1 1 1 1 1 1 1 1 1 1 1 1 1 1 1 1 1 1 1 1 1 1 1 1 1 1 1 1 1 1 1 1 1 1 1 1 1 1 1 1 1 1 1 1 1 1 1 1 1 1 1 1 1 1 1 1 1 1 1 1 1 1 1 1 1 1 1 1 1 1 1 1 1 1 1 0\n",
            "2021-12-21 06:57:02,650 - tensorflow - INFO - preds (length = 27): 1.471 1.001 1.001 0.0 2.0 0.0 1.7242033383915023 1.5285215366705471 1.058874458874459 1.2666422056819373 1.0089525941093835 1.173733195449845 1.012 1.229795072530509 1.04 1.579761904761905 1.3806172171088251 1.8056934789804702 1.8758958607576424 1.001 1.0 1.3857511467889907 1.0352642140621207 1.0500372044650785 1.0352525780555353 1.0500453672101613 1.067682631773719\n",
            "2021-12-21 06:57:02,652 - tensorflow - INFO - label: 0 (id = 0)\n",
            "2021-12-21 06:57:02,670 - tensorflow - INFO - *** Example ***\n",
            "2021-12-21 06:57:02,672 - tensorflow - INFO - guid: dev-2\n",
            "2021-12-21 06:57:02,674 - tensorflow - INFO - tokens: [CLS] R I R D L T V S Q D Y I V N L Q E E C S P H L E D V S L S E E W A G I S L Q I S E N E N Y V V N A I I K N Q D I T A W Q S L T Q V L T P E S W R K A N I M T E P Q N S Q G R Y K G I Y M E E K L Y R R A Q H D D S L S W T S C D H H E S Q E C K G E D P G R H P N C G K N L G M K S T V E K R N A A H V L P Q P F P C N N C G V A F A D D T D P H V H H S T H L G E K S Y K C D Q Y G K N F S Q S Q D L I V H C K T H S G K T P Y E F H E W P M G C K Q S S D L P R Y Q K V S S G D K P Y K C K E C G K G F R R S S S L H N [SEP] R I R D L T V S Q D Y I V N L Q E E C S P H L E D V S L S E E W A G I S L Q I S E N E N Y V V N A I I K N Q D I T A W Q S L T Q V L T P E S W R K A N I M T E P Q N S Q G R Y K G I Y M E E K L Y R R A Q H D D S L S W T S C D H H E S Q E C K G E D P G R H P S C G K N L G M K S T V E K R N A A H V L P Q P F P C N N C G V A F A D D T D P H V H H S T H L G E K S Y K C D Q Y G K N F S Q S Q D L I V H C K T H S G K T P Y E F H E W P M G C K Q S S D L P R Y Q K V S S G D K P Y K C K E C G K G F R R S S S L H N [SEP]\n",
            "2021-12-21 06:57:02,675 - tensorflow - INFO - input_ids: 2 16 19 16 17 5 12 14 6 18 17 23 19 14 20 5 18 9 9 24 6 11 22 5 9 17 14 6 5 6 9 9 26 10 13 19 6 5 18 19 6 9 20 9 20 23 14 14 20 10 19 19 15 20 18 17 19 12 10 26 18 6 5 12 18 14 5 12 11 9 6 26 16 15 10 20 19 25 12 9 11 18 20 6 18 13 16 23 15 13 19 23 25 9 9 15 5 23 16 16 10 18 22 17 17 6 5 6 26 12 6 24 17 22 22 9 6 18 9 24 15 13 9 17 11 13 16 22 11 20 24 13 15 20 5 13 25 15 6 12 14 9 15 16 20 10 10 22 14 5 11 18 11 21 11 24 20 20 24 13 14 10 21 10 17 17 12 17 11 22 14 22 22 6 12 22 5 13 9 15 6 23 15 24 17 18 23 13 15 20 21 6 18 6 18 17 5 19 14 22 24 15 12 22 6 13 15 12 11 23 9 21 22 9 26 11 25 13 24 15 18 6 6 17 5 11 16 23 18 15 14 6 6 13 17 15 11 23 15 24 15 9 24 13 15 13 21 16 16 6 6 6 5 22 20 3 16 19 16 17 5 12 14 6 18 17 23 19 14 20 5 18 9 9 24 6 11 22 5 9 17 14 6 5 6 9 9 26 10 13 19 6 5 18 19 6 9 20 9 20 23 14 14 20 10 19 19 15 20 18 17 19 12 10 26 18 6 5 12 18 14 5 12 11 9 6 26 16 15 10 20 19 25 12 9 11 18 20 6 18 13 16 23 15 13 19 23 25 9 9 15 5 23 16 16 10 18 22 17 17 6 5 6 26 12 6 24 17 22 22 9 6 18 9 24 15 13 9 17 11 13 16 22 11 6 24 13 15 20 5 13 25 15 6 12 14 9 15 16 20 10 10 22 14 5 11 18 11 21 11 24 20 20 24 13 14 10 21 10 17 17 12 17 11 22 14 22 22 6 12 22 5 13 9 15 6 23 15 24 17 18 23 13 15 20 21 6 18 6 18 17 5 19 14 22 24 15 12 22 6 13 15 12 11 23 9 21 22 9 26 11 25 13 24 15 18 6 6 17 5 11 16 23 18 15 14 6 6 13 17 15 11 23 15 24 15 9 24 13 15 13 21 16 16 6 6 6 5 22 20 3 0\n",
            "2021-12-21 06:57:02,677 - tensorflow - INFO - input_mask: 1 1 1 1 1 1 1 1 1 1 1 1 1 1 1 1 1 1 1 1 1 1 1 1 1 1 1 1 1 1 1 1 1 1 1 1 1 1 1 1 1 1 1 1 1 1 1 1 1 1 1 1 1 1 1 1 1 1 1 1 1 1 1 1 1 1 1 1 1 1 1 1 1 1 1 1 1 1 1 1 1 1 1 1 1 1 1 1 1 1 1 1 1 1 1 1 1 1 1 1 1 1 1 1 1 1 1 1 1 1 1 1 1 1 1 1 1 1 1 1 1 1 1 1 1 1 1 1 1 1 1 1 1 1 1 1 1 1 1 1 1 1 1 1 1 1 1 1 1 1 1 1 1 1 1 1 1 1 1 1 1 1 1 1 1 1 1 1 1 1 1 1 1 1 1 1 1 1 1 1 1 1 1 1 1 1 1 1 1 1 1 1 1 1 1 1 1 1 1 1 1 1 1 1 1 1 1 1 1 1 1 1 1 1 1 1 1 1 1 1 1 1 1 1 1 1 1 1 1 1 1 1 1 1 1 1 1 1 1 1 1 1 1 1 1 1 1 1 1 1 1 1 1 1 1 1 1 1 1 1 1 1 1 1 1 1 1 1 1 1 1 1 1 1 1 1 1 1 1 1 1 1 1 1 1 1 1 1 1 1 1 1 1 1 1 1 1 1 1 1 1 1 1 1 1 1 1 1 1 1 1 1 1 1 1 1 1 1 1 1 1 1 1 1 1 1 1 1 1 1 1 1 1 1 1 1 1 1 1 1 1 1 1 1 1 1 1 1 1 1 1 1 1 1 1 1 1 1 1 1 1 1 1 1 1 1 1 1 1 1 1 1 1 1 1 1 1 1 1 1 1 1 1 1 1 1 1 1 1 1 1 1 1 1 1 1 1 1 1 1 1 1 1 1 1 1 1 1 1 1 1 1 1 1 1 1 1 1 1 1 1 1 1 1 1 1 1 1 1 1 1 1 1 1 1 1 1 1 1 1 1 1 1 1 1 1 1 1 1 1 1 1 1 1 1 1 1 1 1 1 1 1 1 1 1 1 1 1 1 1 1 1 1 1 1 1 1 1 1 1 1 1 1 1 1 1 1 1 1 1 1 1 1 1 1 1 1 1 1 1 1 1 1 1 1 1 1 1 1 1 1 0\n",
            "2021-12-21 06:57:02,679 - tensorflow - INFO - segment_ids: 0 0 0 0 0 0 0 0 0 0 0 0 0 0 0 0 0 0 0 0 0 0 0 0 0 0 0 0 0 0 0 0 0 0 0 0 0 0 0 0 0 0 0 0 0 0 0 0 0 0 0 0 0 0 0 0 0 0 0 0 0 0 0 0 0 0 0 0 0 0 0 0 0 0 0 0 0 0 0 0 0 0 0 0 0 0 0 0 0 0 0 0 0 0 0 0 0 0 0 0 0 0 0 0 0 0 0 0 0 0 0 0 0 0 0 0 0 0 0 0 0 0 0 0 0 0 0 0 0 0 0 0 0 0 0 0 0 0 0 0 0 0 0 0 0 0 0 0 0 0 0 0 0 0 0 0 0 0 0 0 0 0 0 0 0 0 0 0 0 0 0 0 0 0 0 0 0 0 0 0 0 0 0 0 0 0 0 0 0 0 0 0 0 0 0 0 0 0 0 0 0 0 0 0 0 0 0 0 0 0 0 0 0 0 0 0 0 0 0 0 0 0 0 0 0 0 0 0 0 0 0 0 0 0 0 0 0 0 0 0 0 0 0 0 0 0 0 0 0 0 0 0 0 0 0 0 1 1 1 1 1 1 1 1 1 1 1 1 1 1 1 1 1 1 1 1 1 1 1 1 1 1 1 1 1 1 1 1 1 1 1 1 1 1 1 1 1 1 1 1 1 1 1 1 1 1 1 1 1 1 1 1 1 1 1 1 1 1 1 1 1 1 1 1 1 1 1 1 1 1 1 1 1 1 1 1 1 1 1 1 1 1 1 1 1 1 1 1 1 1 1 1 1 1 1 1 1 1 1 1 1 1 1 1 1 1 1 1 1 1 1 1 1 1 1 1 1 1 1 1 1 1 1 1 1 1 1 1 1 1 1 1 1 1 1 1 1 1 1 1 1 1 1 1 1 1 1 1 1 1 1 1 1 1 1 1 1 1 1 1 1 1 1 1 1 1 1 1 1 1 1 1 1 1 1 1 1 1 1 1 1 1 1 1 1 1 1 1 1 1 1 1 1 1 1 1 1 1 1 1 1 1 1 1 1 1 1 1 1 1 1 1 1 1 1 1 1 1 1 1 1 1 1 1 1 1 1 1 1 1 1 1 1 1 1 1 1 1 1 1 1 1 1 1 1 1 1 1 1 1 1 0\n",
            "2021-12-21 06:57:02,681 - tensorflow - INFO - preds (length = 27): 0.0 0.0 0.0 0.0 0.0 0.0 0.0 0.0 0.0 0.0 0.0 0.0 0.0 0.0 0.0 0.0 0.0 0.0 0.0 0.0 0.0 0.0 0.0 0.0 0.0 0.0 0.0\n",
            "2021-12-21 06:57:02,682 - tensorflow - INFO - label: 0 (id = 0)\n",
            "2021-12-21 06:57:02,692 - tensorflow - INFO - *** Example ***\n",
            "2021-12-21 06:57:02,699 - tensorflow - INFO - guid: dev-3\n",
            "2021-12-21 06:57:02,701 - tensorflow - INFO - tokens: [CLS] V F A S E L S V Y T L T V I T L E R W H T I T Y A I H L D Q K L R L R H A I L I M L G G W L F S S L I A M L P L V G V S N Y M K V S I C F P M D V E T T L S Q V Y I L T I L I L N V V A F F I I C A C Y I K I Y F A V R N P E L M A T N K D T K I A K K M A I L I F T D F T C M A P I S F F A I S A A F K V P L I T V T N S K V L L V L F Y P I N S C A N P F L Y A I F T K T F Q R D F F L L L S K F G C C K R R A E L Y R R K D F S A Y T S N C K N G F T G S N K P S Q S T L K L S T L H C Q G T A L L D K T R Y T E C J [SEP] V F A S E L S V Y T L T V I T L E R W H T I T Y A I H L D Q K L R L R H A I L I M L G G W L F S S L I A M L P L V G V S N Y M K V S I C F P M D V E T T L S Q V Y I L T I L I L N V V A F F I I C A C Y I K I Y F A V R N P E L M A T N K D T K I A K K M A I L I F T E F T C M A P I S F F A I S A A F K V P L I T V T N S K V L L V L F Y P I N S C A N P F L Y A I F T K T F Q R D F F L L L S K F G C C K R R A E L Y R R K D F S A Y T S N C K N G F T G S N K P S Q S T L K L S T L H C Q G T A L L D K T R Y T E C J [SEP]\n",
            "2021-12-21 06:57:02,703 - tensorflow - INFO - input_ids: 2 14 21 10 6 9 5 6 14 23 12 5 12 14 19 12 5 9 16 26 22 12 19 12 23 10 19 22 5 17 18 15 5 16 5 16 22 10 19 5 19 25 5 13 13 26 5 21 6 6 5 19 10 25 5 11 5 14 13 14 6 20 23 25 15 14 6 19 24 21 11 25 17 14 9 12 12 5 6 18 14 23 19 5 12 19 5 19 5 20 14 14 10 21 21 19 19 24 10 24 23 19 15 19 23 21 10 14 16 20 11 9 5 25 10 12 20 15 17 12 15 19 10 15 15 25 10 19 5 19 21 12 17 21 12 24 25 10 11 19 6 21 21 10 19 6 10 10 21 15 14 11 5 19 12 14 12 20 6 15 14 5 5 14 5 21 23 11 19 20 6 24 10 20 11 21 5 23 10 19 21 12 15 12 21 18 16 17 21 21 5 5 5 6 15 21 13 24 24 15 16 16 10 9 5 23 16 16 15 17 21 6 10 23 12 6 20 24 15 20 13 21 12 13 6 20 15 11 6 18 6 12 5 15 5 6 12 5 22 24 18 13 12 10 5 5 17 15 12 16 23 12 9 24 8 3 14 21 10 6 9 5 6 14 23 12 5 12 14 19 12 5 9 16 26 22 12 19 12 23 10 19 22 5 17 18 15 5 16 5 16 22 10 19 5 19 25 5 13 13 26 5 21 6 6 5 19 10 25 5 11 5 14 13 14 6 20 23 25 15 14 6 19 24 21 11 25 17 14 9 12 12 5 6 18 14 23 19 5 12 19 5 19 5 20 14 14 10 21 21 19 19 24 10 24 23 19 15 19 23 21 10 14 16 20 11 9 5 25 10 12 20 15 17 12 15 19 10 15 15 25 10 19 5 19 21 12 9 21 12 24 25 10 11 19 6 21 21 10 19 6 10 10 21 15 14 11 5 19 12 14 12 20 6 15 14 5 5 14 5 21 23 11 19 20 6 24 10 20 11 21 5 23 10 19 21 12 15 12 21 18 16 17 21 21 5 5 5 6 15 21 13 24 24 15 16 16 10 9 5 23 16 16 15 17 21 6 10 23 12 6 20 24 15 20 13 21 12 13 6 20 15 11 6 18 6 12 5 15 5 6 12 5 22 24 18 13 12 10 5 5 17 15 12 16 23 12 9 24 8 3 0\n",
            "2021-12-21 06:57:02,705 - tensorflow - INFO - input_mask: 1 1 1 1 1 1 1 1 1 1 1 1 1 1 1 1 1 1 1 1 1 1 1 1 1 1 1 1 1 1 1 1 1 1 1 1 1 1 1 1 1 1 1 1 1 1 1 1 1 1 1 1 1 1 1 1 1 1 1 1 1 1 1 1 1 1 1 1 1 1 1 1 1 1 1 1 1 1 1 1 1 1 1 1 1 1 1 1 1 1 1 1 1 1 1 1 1 1 1 1 1 1 1 1 1 1 1 1 1 1 1 1 1 1 1 1 1 1 1 1 1 1 1 1 1 1 1 1 1 1 1 1 1 1 1 1 1 1 1 1 1 1 1 1 1 1 1 1 1 1 1 1 1 1 1 1 1 1 1 1 1 1 1 1 1 1 1 1 1 1 1 1 1 1 1 1 1 1 1 1 1 1 1 1 1 1 1 1 1 1 1 1 1 1 1 1 1 1 1 1 1 1 1 1 1 1 1 1 1 1 1 1 1 1 1 1 1 1 1 1 1 1 1 1 1 1 1 1 1 1 1 1 1 1 1 1 1 1 1 1 1 1 1 1 1 1 1 1 1 1 1 1 1 1 1 1 1 1 1 1 1 1 1 1 1 1 1 1 1 1 1 1 1 1 1 1 1 1 1 1 1 1 1 1 1 1 1 1 1 1 1 1 1 1 1 1 1 1 1 1 1 1 1 1 1 1 1 1 1 1 1 1 1 1 1 1 1 1 1 1 1 1 1 1 1 1 1 1 1 1 1 1 1 1 1 1 1 1 1 1 1 1 1 1 1 1 1 1 1 1 1 1 1 1 1 1 1 1 1 1 1 1 1 1 1 1 1 1 1 1 1 1 1 1 1 1 1 1 1 1 1 1 1 1 1 1 1 1 1 1 1 1 1 1 1 1 1 1 1 1 1 1 1 1 1 1 1 1 1 1 1 1 1 1 1 1 1 1 1 1 1 1 1 1 1 1 1 1 1 1 1 1 1 1 1 1 1 1 1 1 1 1 1 1 1 1 1 1 1 1 1 1 1 1 1 1 1 1 1 1 1 1 1 1 1 1 1 1 1 1 1 1 1 1 1 1 1 1 1 1 1 1 1 1 1 1 1 1 1 1 1 1 1 1 1 1 1 1 1 1 1 1 1 1 1 1 1 1 1 1 1 0\n",
            "2021-12-21 06:57:02,707 - tensorflow - INFO - segment_ids: 0 0 0 0 0 0 0 0 0 0 0 0 0 0 0 0 0 0 0 0 0 0 0 0 0 0 0 0 0 0 0 0 0 0 0 0 0 0 0 0 0 0 0 0 0 0 0 0 0 0 0 0 0 0 0 0 0 0 0 0 0 0 0 0 0 0 0 0 0 0 0 0 0 0 0 0 0 0 0 0 0 0 0 0 0 0 0 0 0 0 0 0 0 0 0 0 0 0 0 0 0 0 0 0 0 0 0 0 0 0 0 0 0 0 0 0 0 0 0 0 0 0 0 0 0 0 0 0 0 0 0 0 0 0 0 0 0 0 0 0 0 0 0 0 0 0 0 0 0 0 0 0 0 0 0 0 0 0 0 0 0 0 0 0 0 0 0 0 0 0 0 0 0 0 0 0 0 0 0 0 0 0 0 0 0 0 0 0 0 0 0 0 0 0 0 0 0 0 0 0 0 0 0 0 0 0 0 0 0 0 0 0 0 0 0 0 0 0 0 0 0 0 0 0 0 0 0 0 0 0 0 0 0 0 0 0 0 0 0 0 0 0 0 0 0 0 0 0 0 0 0 0 0 0 0 0 1 1 1 1 1 1 1 1 1 1 1 1 1 1 1 1 1 1 1 1 1 1 1 1 1 1 1 1 1 1 1 1 1 1 1 1 1 1 1 1 1 1 1 1 1 1 1 1 1 1 1 1 1 1 1 1 1 1 1 1 1 1 1 1 1 1 1 1 1 1 1 1 1 1 1 1 1 1 1 1 1 1 1 1 1 1 1 1 1 1 1 1 1 1 1 1 1 1 1 1 1 1 1 1 1 1 1 1 1 1 1 1 1 1 1 1 1 1 1 1 1 1 1 1 1 1 1 1 1 1 1 1 1 1 1 1 1 1 1 1 1 1 1 1 1 1 1 1 1 1 1 1 1 1 1 1 1 1 1 1 1 1 1 1 1 1 1 1 1 1 1 1 1 1 1 1 1 1 1 1 1 1 1 1 1 1 1 1 1 1 1 1 1 1 1 1 1 1 1 1 1 1 1 1 1 1 1 1 1 1 1 1 1 1 1 1 1 1 1 1 1 1 1 1 1 1 1 1 1 1 1 1 1 1 1 1 1 1 1 1 1 1 1 1 1 1 1 1 1 1 1 1 1 1 1 0\n",
            "2021-12-21 06:57:02,709 - tensorflow - INFO - preds (length = 27): 1.001 1.9729999999999999 1.5779999999999998 1.0 2.0 1.3122187608168916 1.658194233687405 1.4105549088086922 1.3978354978354979 1.5049271412097704 1.5666563489606895 1.9927611168562565 1.862 1.357586921482846 1.188 1.6595238095238096 1.5982674607471576 1.8391261171797417 1.9266491151089657 1.998 1.943 1.4628727064220182 1.8854166556732501 1.8173499535768336 1.8932999825504324 1.8174833065127372 1.8070149071589239\n",
            "2021-12-21 06:57:02,710 - tensorflow - INFO - label: 1 (id = 1)\n",
            "2021-12-21 06:57:02,721 - tensorflow - INFO - *** Example ***\n",
            "2021-12-21 06:57:02,727 - tensorflow - INFO - guid: dev-4\n",
            "2021-12-21 06:57:02,729 - tensorflow - INFO - tokens: [CLS] V N E C E T P G I C G P G T C Y N T V G N Y T C I C P P D Y M Q V N G G N N C M D M R R S L C Y R N Y Y A D N Q T C D G E L L F N M T K K M C C C S Y N I G R A W N K P C E Q C P I P S T D E F A T L C G S Q R P G F V I D I Y T G L P V D I D E C R E I P G V C E N G V C I N M V G S F R C E C P V G F F Y N D K L L V C E D I D E C Q N G P V C Q R N A E C I N T A G S Y R C D C K P G Y R F T S T G Q C N D R N E C Q E I P N I C S H G Q C I D T V G S F Y C L C H T G F K T N D D Q T M C L D I N E C E R D A C G N [SEP] V N E C E T P G I C G P G T C Y N T V G N Y T C I C P P D Y M Q V N G G N N C M D M R R S L C Y R N Y Y A D N Q T C D G E L L F N M T K K M C C C S Y N I G R A W N K P C E Q C P I P S T D E F A T L C G S Q R P G F V I D I Y T G L P V D I D E C R E I P G V F E N G V C I N M V G S F R C E C P V G F F Y N D K L L V C E D I D E C Q N G P V C Q R N A E C I N T A G S Y R C D C K P G Y R F T S T G Q C N D R N E C Q E I P N I C S H G Q C I D T V G S F Y C L C H T G F K T N D D Q T M C L D I N E C E R D A C G N [SEP]\n",
            "2021-12-21 06:57:02,731 - tensorflow - INFO - input_ids: 2 14 20 9 24 9 12 11 13 19 24 13 11 13 12 24 23 20 12 14 13 20 23 12 24 19 24 11 11 17 23 25 18 14 20 13 13 20 20 24 25 17 25 16 16 6 5 24 23 16 20 23 23 10 17 20 18 12 24 17 13 9 5 5 21 20 25 12 15 15 25 24 24 24 6 23 20 19 13 16 10 26 20 15 11 24 9 18 24 11 19 11 6 12 17 9 21 10 12 5 24 13 6 18 16 11 13 21 14 19 17 19 23 12 13 5 11 14 17 19 17 9 24 16 9 19 11 13 14 24 9 20 13 14 24 19 20 25 14 13 6 21 16 24 9 24 11 14 13 21 21 23 20 17 15 5 5 14 24 9 17 19 17 9 24 18 20 13 11 14 24 18 16 20 10 9 24 19 20 12 10 13 6 23 16 24 17 24 15 11 13 23 16 21 12 6 12 13 18 24 20 17 16 20 9 24 18 9 19 11 20 19 24 6 22 13 18 24 19 17 12 14 13 6 21 23 24 5 24 22 12 13 21 15 12 20 17 17 18 12 25 24 5 17 19 20 9 24 9 16 17 10 24 13 20 3 14 20 9 24 9 12 11 13 19 24 13 11 13 12 24 23 20 12 14 13 20 23 12 24 19 24 11 11 17 23 25 18 14 20 13 13 20 20 24 25 17 25 16 16 6 5 24 23 16 20 23 23 10 17 20 18 12 24 17 13 9 5 5 21 20 25 12 15 15 25 24 24 24 6 23 20 19 13 16 10 26 20 15 11 24 9 18 24 11 19 11 6 12 17 9 21 10 12 5 24 13 6 18 16 11 13 21 14 19 17 19 23 12 13 5 11 14 17 19 17 9 24 16 9 19 11 13 14 21 9 20 13 14 24 19 20 25 14 13 6 21 16 24 9 24 11 14 13 21 21 23 20 17 15 5 5 14 24 9 17 19 17 9 24 18 20 13 11 14 24 18 16 20 10 9 24 19 20 12 10 13 6 23 16 24 17 24 15 11 13 23 16 21 12 6 12 13 18 24 20 17 16 20 9 24 18 9 19 11 20 19 24 6 22 13 18 24 19 17 12 14 13 6 21 23 24 5 24 22 12 13 21 15 12 20 17 17 18 12 25 24 5 17 19 20 9 24 9 16 17 10 24 13 20 3 0\n",
            "2021-12-21 06:57:02,732 - tensorflow - INFO - input_mask: 1 1 1 1 1 1 1 1 1 1 1 1 1 1 1 1 1 1 1 1 1 1 1 1 1 1 1 1 1 1 1 1 1 1 1 1 1 1 1 1 1 1 1 1 1 1 1 1 1 1 1 1 1 1 1 1 1 1 1 1 1 1 1 1 1 1 1 1 1 1 1 1 1 1 1 1 1 1 1 1 1 1 1 1 1 1 1 1 1 1 1 1 1 1 1 1 1 1 1 1 1 1 1 1 1 1 1 1 1 1 1 1 1 1 1 1 1 1 1 1 1 1 1 1 1 1 1 1 1 1 1 1 1 1 1 1 1 1 1 1 1 1 1 1 1 1 1 1 1 1 1 1 1 1 1 1 1 1 1 1 1 1 1 1 1 1 1 1 1 1 1 1 1 1 1 1 1 1 1 1 1 1 1 1 1 1 1 1 1 1 1 1 1 1 1 1 1 1 1 1 1 1 1 1 1 1 1 1 1 1 1 1 1 1 1 1 1 1 1 1 1 1 1 1 1 1 1 1 1 1 1 1 1 1 1 1 1 1 1 1 1 1 1 1 1 1 1 1 1 1 1 1 1 1 1 1 1 1 1 1 1 1 1 1 1 1 1 1 1 1 1 1 1 1 1 1 1 1 1 1 1 1 1 1 1 1 1 1 1 1 1 1 1 1 1 1 1 1 1 1 1 1 1 1 1 1 1 1 1 1 1 1 1 1 1 1 1 1 1 1 1 1 1 1 1 1 1 1 1 1 1 1 1 1 1 1 1 1 1 1 1 1 1 1 1 1 1 1 1 1 1 1 1 1 1 1 1 1 1 1 1 1 1 1 1 1 1 1 1 1 1 1 1 1 1 1 1 1 1 1 1 1 1 1 1 1 1 1 1 1 1 1 1 1 1 1 1 1 1 1 1 1 1 1 1 1 1 1 1 1 1 1 1 1 1 1 1 1 1 1 1 1 1 1 1 1 1 1 1 1 1 1 1 1 1 1 1 1 1 1 1 1 1 1 1 1 1 1 1 1 1 1 1 1 1 1 1 1 1 1 1 1 1 1 1 1 1 1 1 1 1 1 1 1 1 1 1 1 1 1 1 1 1 1 1 1 1 1 1 1 1 1 1 1 1 1 1 1 1 1 1 1 1 1 1 1 1 1 1 1 1 0\n",
            "2021-12-21 06:57:02,733 - tensorflow - INFO - segment_ids: 0 0 0 0 0 0 0 0 0 0 0 0 0 0 0 0 0 0 0 0 0 0 0 0 0 0 0 0 0 0 0 0 0 0 0 0 0 0 0 0 0 0 0 0 0 0 0 0 0 0 0 0 0 0 0 0 0 0 0 0 0 0 0 0 0 0 0 0 0 0 0 0 0 0 0 0 0 0 0 0 0 0 0 0 0 0 0 0 0 0 0 0 0 0 0 0 0 0 0 0 0 0 0 0 0 0 0 0 0 0 0 0 0 0 0 0 0 0 0 0 0 0 0 0 0 0 0 0 0 0 0 0 0 0 0 0 0 0 0 0 0 0 0 0 0 0 0 0 0 0 0 0 0 0 0 0 0 0 0 0 0 0 0 0 0 0 0 0 0 0 0 0 0 0 0 0 0 0 0 0 0 0 0 0 0 0 0 0 0 0 0 0 0 0 0 0 0 0 0 0 0 0 0 0 0 0 0 0 0 0 0 0 0 0 0 0 0 0 0 0 0 0 0 0 0 0 0 0 0 0 0 0 0 0 0 0 0 0 0 0 0 0 0 0 0 0 0 0 0 0 0 0 0 0 0 0 1 1 1 1 1 1 1 1 1 1 1 1 1 1 1 1 1 1 1 1 1 1 1 1 1 1 1 1 1 1 1 1 1 1 1 1 1 1 1 1 1 1 1 1 1 1 1 1 1 1 1 1 1 1 1 1 1 1 1 1 1 1 1 1 1 1 1 1 1 1 1 1 1 1 1 1 1 1 1 1 1 1 1 1 1 1 1 1 1 1 1 1 1 1 1 1 1 1 1 1 1 1 1 1 1 1 1 1 1 1 1 1 1 1 1 1 1 1 1 1 1 1 1 1 1 1 1 1 1 1 1 1 1 1 1 1 1 1 1 1 1 1 1 1 1 1 1 1 1 1 1 1 1 1 1 1 1 1 1 1 1 1 1 1 1 1 1 1 1 1 1 1 1 1 1 1 1 1 1 1 1 1 1 1 1 1 1 1 1 1 1 1 1 1 1 1 1 1 1 1 1 1 1 1 1 1 1 1 1 1 1 1 1 1 1 1 1 1 1 1 1 1 1 1 1 1 1 1 1 1 1 1 1 1 1 1 1 1 1 1 1 1 1 1 1 1 1 1 1 1 1 1 1 1 1 0\n",
            "2021-12-21 06:57:02,734 - tensorflow - INFO - preds (length = 27): 1.001 1.999 1.998 1.0 2.0 1.337140879196954 1.3877086494688922 1.1556072953046177 1.4324675324675324 1.6855016249082713 1.809519274268435 1.9927611168562565 1.9969999999999999 1.6845498503338705 1.992 1.8416666666666668 1.9799675148890095 1.9683879510095994 1.9806932865291795 1.998 2.0 1.704415137614679 0.0 0.0 0.0 0.0 1.9759738323153437\n",
            "2021-12-21 06:57:02,735 - tensorflow - INFO - label: 1 (id = 1)\n",
            "2021-12-21 06:57:44,807 - tensorflow - INFO - Writing example 10000 of 14474\n"
          ]
        },
        {
          "output_type": "stream",
          "name": "stdout",
          "text": [
            "\n",
            "Generating test set...\n",
            "\n"
          ]
        },
        {
          "output_type": "stream",
          "name": "stderr",
          "text": [
            "reading tsv: 14472it [00:01, 9363.01it/s] \n",
            "creating_examples: 100%|██████████| 14472/14472 [00:00<00:00, 233162.79it/s]\n",
            "2021-12-21 06:58:06,015 - tensorflow - INFO - Writing example 0 of 14336\n",
            "2021-12-21 06:58:06,025 - tensorflow - INFO - *** Example ***\n",
            "2021-12-21 06:58:06,026 - tensorflow - INFO - guid: test-0\n",
            "2021-12-21 06:58:06,029 - tensorflow - INFO - tokens: [CLS] S F L C K C P P G Y S G T I C E T T I G S C G K N S C Q H G G I C H Q D P I Y P V C I C P A G Y A G R F C E I D H D E C A S S P C Q N G A V C Q D G I D G Y S C F C V P G Y Q G R H C D L E V D E C A S D P C K N E A T C L N E I G R Y T C I C P H N Y S G Y T G A Q C E I D L N E C N S N P C Q S N G E C V E L S S E K Q Y G R I T G L P S S F S Y H E A S G Y V C I C Q P G F T G I H C E E D V N E C S S N P C Q N G G T C E N L P G N Y T C H C P F D N L S R T F Y G G R D C S D I L L G C T H Q Q C L N N G T C I P [SEP] S F L C K C P P G Y S G T I C E T T I G S C G K N S C Q H G G I C H Q D P I Y P V C I C P A G Y A G R F C E I D H D E C A S S P C Q N G A V C Q D G I D G Y S C F C V P G Y Q G R H C D L E V D E C A S D P C K N E A T C L N E I G R Y T C I C P H N Y S G Y T D A Q C E I D L N E C N S N P C Q S N G E C V E L S S E K Q Y G R I T G L P S S F S Y H E A S G Y V C I C Q P G F T G I H C E E D V N E C S S N P C Q N G G T C E N L P G N Y T C H C P F D N L S R T F Y G G R D C S D I L L G C T H Q Q C L N N G T C I P [SEP]\n",
            "2021-12-21 06:58:06,032 - tensorflow - INFO - input_ids: 2 6 21 5 24 15 24 11 11 13 23 6 13 12 19 24 9 12 12 19 13 6 24 13 15 20 6 24 18 22 13 13 19 24 22 18 17 11 19 23 11 14 24 19 24 11 10 13 23 10 13 16 21 24 9 19 17 22 17 9 24 10 6 6 11 24 18 20 13 10 14 24 18 17 13 19 17 13 23 6 24 21 24 14 11 13 23 18 13 16 22 24 17 5 9 14 17 9 24 10 6 17 11 24 15 20 9 10 12 24 5 20 9 19 13 16 23 12 24 19 24 11 22 20 23 6 13 23 12 13 10 18 24 9 19 17 5 20 9 24 20 6 20 11 24 18 6 20 13 9 24 14 9 5 6 6 9 15 18 23 13 16 19 12 13 5 11 6 6 21 6 23 22 9 10 6 13 23 14 24 19 24 18 11 13 21 12 13 19 22 24 9 9 17 14 20 9 24 6 6 20 11 24 18 20 13 13 12 24 9 20 5 11 13 20 23 12 24 22 24 11 21 17 20 5 6 16 12 21 23 13 13 16 17 24 6 17 19 5 5 13 24 12 22 18 18 24 5 20 20 13 12 24 19 11 3 6 21 5 24 15 24 11 11 13 23 6 13 12 19 24 9 12 12 19 13 6 24 13 15 20 6 24 18 22 13 13 19 24 22 18 17 11 19 23 11 14 24 19 24 11 10 13 23 10 13 16 21 24 9 19 17 22 17 9 24 10 6 6 11 24 18 20 13 10 14 24 18 17 13 19 17 13 23 6 24 21 24 14 11 13 23 18 13 16 22 24 17 5 9 14 17 9 24 10 6 17 11 24 15 20 9 10 12 24 5 20 9 19 13 16 23 12 24 19 24 11 22 20 23 6 13 23 12 17 10 18 24 9 19 17 5 20 9 24 20 6 20 11 24 18 6 20 13 9 24 14 9 5 6 6 9 15 18 23 13 16 19 12 13 5 11 6 6 21 6 23 22 9 10 6 13 23 14 24 19 24 18 11 13 21 12 13 19 22 24 9 9 17 14 20 9 24 6 6 20 11 24 18 20 13 13 12 24 9 20 5 11 13 20 23 12 24 22 24 11 21 17 20 5 6 16 12 21 23 13 13 16 17 24 6 17 19 5 5 13 24 12 22 18 18 24 5 20 20 13 12 24 19 11 3 0\n",
            "2021-12-21 06:58:06,035 - tensorflow - INFO - input_mask: 1 1 1 1 1 1 1 1 1 1 1 1 1 1 1 1 1 1 1 1 1 1 1 1 1 1 1 1 1 1 1 1 1 1 1 1 1 1 1 1 1 1 1 1 1 1 1 1 1 1 1 1 1 1 1 1 1 1 1 1 1 1 1 1 1 1 1 1 1 1 1 1 1 1 1 1 1 1 1 1 1 1 1 1 1 1 1 1 1 1 1 1 1 1 1 1 1 1 1 1 1 1 1 1 1 1 1 1 1 1 1 1 1 1 1 1 1 1 1 1 1 1 1 1 1 1 1 1 1 1 1 1 1 1 1 1 1 1 1 1 1 1 1 1 1 1 1 1 1 1 1 1 1 1 1 1 1 1 1 1 1 1 1 1 1 1 1 1 1 1 1 1 1 1 1 1 1 1 1 1 1 1 1 1 1 1 1 1 1 1 1 1 1 1 1 1 1 1 1 1 1 1 1 1 1 1 1 1 1 1 1 1 1 1 1 1 1 1 1 1 1 1 1 1 1 1 1 1 1 1 1 1 1 1 1 1 1 1 1 1 1 1 1 1 1 1 1 1 1 1 1 1 1 1 1 1 1 1 1 1 1 1 1 1 1 1 1 1 1 1 1 1 1 1 1 1 1 1 1 1 1 1 1 1 1 1 1 1 1 1 1 1 1 1 1 1 1 1 1 1 1 1 1 1 1 1 1 1 1 1 1 1 1 1 1 1 1 1 1 1 1 1 1 1 1 1 1 1 1 1 1 1 1 1 1 1 1 1 1 1 1 1 1 1 1 1 1 1 1 1 1 1 1 1 1 1 1 1 1 1 1 1 1 1 1 1 1 1 1 1 1 1 1 1 1 1 1 1 1 1 1 1 1 1 1 1 1 1 1 1 1 1 1 1 1 1 1 1 1 1 1 1 1 1 1 1 1 1 1 1 1 1 1 1 1 1 1 1 1 1 1 1 1 1 1 1 1 1 1 1 1 1 1 1 1 1 1 1 1 1 1 1 1 1 1 1 1 1 1 1 1 1 1 1 1 1 1 1 1 1 1 1 1 1 1 1 1 1 1 1 1 1 1 1 1 1 1 1 1 1 1 1 1 1 1 1 1 1 1 1 1 1 1 1 1 1 1 1 1 1 1 1 1 1 1 1 1 1 1 1 1 0\n",
            "2021-12-21 06:58:06,037 - tensorflow - INFO - segment_ids: 0 0 0 0 0 0 0 0 0 0 0 0 0 0 0 0 0 0 0 0 0 0 0 0 0 0 0 0 0 0 0 0 0 0 0 0 0 0 0 0 0 0 0 0 0 0 0 0 0 0 0 0 0 0 0 0 0 0 0 0 0 0 0 0 0 0 0 0 0 0 0 0 0 0 0 0 0 0 0 0 0 0 0 0 0 0 0 0 0 0 0 0 0 0 0 0 0 0 0 0 0 0 0 0 0 0 0 0 0 0 0 0 0 0 0 0 0 0 0 0 0 0 0 0 0 0 0 0 0 0 0 0 0 0 0 0 0 0 0 0 0 0 0 0 0 0 0 0 0 0 0 0 0 0 0 0 0 0 0 0 0 0 0 0 0 0 0 0 0 0 0 0 0 0 0 0 0 0 0 0 0 0 0 0 0 0 0 0 0 0 0 0 0 0 0 0 0 0 0 0 0 0 0 0 0 0 0 0 0 0 0 0 0 0 0 0 0 0 0 0 0 0 0 0 0 0 0 0 0 0 0 0 0 0 0 0 0 0 0 0 0 0 0 0 0 0 0 0 0 0 0 0 0 0 0 0 1 1 1 1 1 1 1 1 1 1 1 1 1 1 1 1 1 1 1 1 1 1 1 1 1 1 1 1 1 1 1 1 1 1 1 1 1 1 1 1 1 1 1 1 1 1 1 1 1 1 1 1 1 1 1 1 1 1 1 1 1 1 1 1 1 1 1 1 1 1 1 1 1 1 1 1 1 1 1 1 1 1 1 1 1 1 1 1 1 1 1 1 1 1 1 1 1 1 1 1 1 1 1 1 1 1 1 1 1 1 1 1 1 1 1 1 1 1 1 1 1 1 1 1 1 1 1 1 1 1 1 1 1 1 1 1 1 1 1 1 1 1 1 1 1 1 1 1 1 1 1 1 1 1 1 1 1 1 1 1 1 1 1 1 1 1 1 1 1 1 1 1 1 1 1 1 1 1 1 1 1 1 1 1 1 1 1 1 1 1 1 1 1 1 1 1 1 1 1 1 1 1 1 1 1 1 1 1 1 1 1 1 1 1 1 1 1 1 1 1 1 1 1 1 1 1 1 1 1 1 1 1 1 1 1 1 1 1 1 1 1 1 1 1 1 1 1 1 1 1 1 1 1 1 1 0\n",
            "2021-12-21 06:58:06,039 - tensorflow - INFO - preds (length = 27): 1.003 2.0 2.0 0.0 2.0 1.3146417445482865 1.4685128983308042 1.3313930927435003 1.4173160173160173 1.535590732781214 1.585704421533846 1.9979317476732161 1.942 1.7124107759613172 1.9649999999999999 1.6130952380952381 1.89713048186248 1.976001324064879 1.988957144946614 1.9969999999999999 1.996 1.4075043004587156 1.951904134622279 1.937437921397302 1.9547094460265753 1.9151392538034517 1.9831937970394606\n",
            "2021-12-21 06:58:06,040 - tensorflow - INFO - label: 1 (id = 1)\n",
            "2021-12-21 06:58:06,049 - tensorflow - INFO - *** Example ***\n",
            "2021-12-21 06:58:06,054 - tensorflow - INFO - guid: test-1\n",
            "2021-12-21 06:58:06,056 - tensorflow - INFO - tokens: [CLS] R W A F I D M L E K E N E W M D A G T K R K A K E K A R A V L A K V G Y P E F I M N D T H V N E D L K A I K F S E A D Y F G N V L Q T R K Y L A Q S D F F W L R K A V P K T E W F T N P T T V N A F Y S A S T N Q I R F P A G E L Q K P F F W G T E Y P R S L S Y G A I G V I V G H E F T H G F D N N G R K Y D K N G N L D P W W S T E S E E K F K E K T K C M I N Q Y S N Y Y W K K A G L N V K G K R T L G E N I A D N G G L R E A F R A Y R K W I N D R R Q G L E E P L L P G I T F T N N Q L F F L S Y A H G Q W C N J [SEP] R W A F I D M L E K E N E W M D A G T K R K A K E K A R A V L A K V G Y P E F I M N D T H V N E D L K A I K F S E A D Y F G N V L Q T R K Y L A Q S D F F W L R K A V P K T E W F T N P T T V N A F Y S A S T N Q I R F P A G E L Q K P F F W G T E Y P R S L S Y G A I G V I V G H E F T H G F D N N G R K Y D K N G N L D P W W S T E S E E K F K E K T K C M I N Q Y S N Y Y W K K A G L N V K G K R T P G E N I A D N G G L R E A F R A Y R K W I N D R R Q G L E E P L L P G I T F T N N Q L F F L S Y A H G Q W C N J [SEP]\n",
            "2021-12-21 06:58:06,058 - tensorflow - INFO - input_ids: 2 16 26 10 21 19 17 25 5 9 15 9 20 9 26 25 17 10 13 12 15 16 15 10 15 9 15 10 16 10 14 5 10 15 14 13 23 11 9 21 19 25 20 17 12 22 14 20 9 17 5 15 10 19 15 21 6 9 10 17 23 21 13 20 14 5 18 12 16 15 23 5 10 18 6 17 21 21 26 5 16 15 10 14 11 15 12 9 26 21 12 20 11 12 12 14 20 10 21 23 6 10 6 12 20 18 19 16 21 11 10 13 9 5 18 15 11 21 21 26 13 12 9 23 11 16 6 5 6 23 13 10 19 13 14 19 14 13 22 9 21 12 22 13 21 17 20 20 13 16 15 23 17 15 20 13 20 5 17 11 26 26 6 12 9 6 9 9 15 21 15 9 15 12 15 24 25 19 20 18 23 6 20 23 23 26 15 15 10 13 5 20 14 15 13 15 16 12 5 13 9 20 19 10 17 20 13 13 5 16 9 10 21 16 10 23 16 15 26 19 20 17 16 16 18 13 5 9 9 11 5 5 11 13 19 12 21 12 20 20 18 5 21 21 5 6 23 10 22 13 18 26 24 20 8 3 16 26 10 21 19 17 25 5 9 15 9 20 9 26 25 17 10 13 12 15 16 15 10 15 9 15 10 16 10 14 5 10 15 14 13 23 11 9 21 19 25 20 17 12 22 14 20 9 17 5 15 10 19 15 21 6 9 10 17 23 21 13 20 14 5 18 12 16 15 23 5 10 18 6 17 21 21 26 5 16 15 10 14 11 15 12 9 26 21 12 20 11 12 12 14 20 10 21 23 6 10 6 12 20 18 19 16 21 11 10 13 9 5 18 15 11 21 21 26 13 12 9 23 11 16 6 5 6 23 13 10 19 13 14 19 14 13 22 9 21 12 22 13 21 17 20 20 13 16 15 23 17 15 20 13 20 5 17 11 26 26 6 12 9 6 9 9 15 21 15 9 15 12 15 24 25 19 20 18 23 6 20 23 23 26 15 15 10 13 5 20 14 15 13 15 16 12 11 13 9 20 19 10 17 20 13 13 5 16 9 10 21 16 10 23 16 15 26 19 20 17 16 16 18 13 5 9 9 11 5 5 11 13 19 12 21 12 20 20 18 5 21 21 5 6 23 10 22 13 18 26 24 20 8 3 0\n",
            "2021-12-21 06:58:06,059 - tensorflow - INFO - input_mask: 1 1 1 1 1 1 1 1 1 1 1 1 1 1 1 1 1 1 1 1 1 1 1 1 1 1 1 1 1 1 1 1 1 1 1 1 1 1 1 1 1 1 1 1 1 1 1 1 1 1 1 1 1 1 1 1 1 1 1 1 1 1 1 1 1 1 1 1 1 1 1 1 1 1 1 1 1 1 1 1 1 1 1 1 1 1 1 1 1 1 1 1 1 1 1 1 1 1 1 1 1 1 1 1 1 1 1 1 1 1 1 1 1 1 1 1 1 1 1 1 1 1 1 1 1 1 1 1 1 1 1 1 1 1 1 1 1 1 1 1 1 1 1 1 1 1 1 1 1 1 1 1 1 1 1 1 1 1 1 1 1 1 1 1 1 1 1 1 1 1 1 1 1 1 1 1 1 1 1 1 1 1 1 1 1 1 1 1 1 1 1 1 1 1 1 1 1 1 1 1 1 1 1 1 1 1 1 1 1 1 1 1 1 1 1 1 1 1 1 1 1 1 1 1 1 1 1 1 1 1 1 1 1 1 1 1 1 1 1 1 1 1 1 1 1 1 1 1 1 1 1 1 1 1 1 1 1 1 1 1 1 1 1 1 1 1 1 1 1 1 1 1 1 1 1 1 1 1 1 1 1 1 1 1 1 1 1 1 1 1 1 1 1 1 1 1 1 1 1 1 1 1 1 1 1 1 1 1 1 1 1 1 1 1 1 1 1 1 1 1 1 1 1 1 1 1 1 1 1 1 1 1 1 1 1 1 1 1 1 1 1 1 1 1 1 1 1 1 1 1 1 1 1 1 1 1 1 1 1 1 1 1 1 1 1 1 1 1 1 1 1 1 1 1 1 1 1 1 1 1 1 1 1 1 1 1 1 1 1 1 1 1 1 1 1 1 1 1 1 1 1 1 1 1 1 1 1 1 1 1 1 1 1 1 1 1 1 1 1 1 1 1 1 1 1 1 1 1 1 1 1 1 1 1 1 1 1 1 1 1 1 1 1 1 1 1 1 1 1 1 1 1 1 1 1 1 1 1 1 1 1 1 1 1 1 1 1 1 1 1 1 1 1 1 1 1 1 1 1 1 1 1 1 1 1 1 1 1 1 1 1 1 1 1 1 1 1 1 1 1 1 1 1 1 1 1 1 1 1 1 1 0\n",
            "2021-12-21 06:58:06,061 - tensorflow - INFO - segment_ids: 0 0 0 0 0 0 0 0 0 0 0 0 0 0 0 0 0 0 0 0 0 0 0 0 0 0 0 0 0 0 0 0 0 0 0 0 0 0 0 0 0 0 0 0 0 0 0 0 0 0 0 0 0 0 0 0 0 0 0 0 0 0 0 0 0 0 0 0 0 0 0 0 0 0 0 0 0 0 0 0 0 0 0 0 0 0 0 0 0 0 0 0 0 0 0 0 0 0 0 0 0 0 0 0 0 0 0 0 0 0 0 0 0 0 0 0 0 0 0 0 0 0 0 0 0 0 0 0 0 0 0 0 0 0 0 0 0 0 0 0 0 0 0 0 0 0 0 0 0 0 0 0 0 0 0 0 0 0 0 0 0 0 0 0 0 0 0 0 0 0 0 0 0 0 0 0 0 0 0 0 0 0 0 0 0 0 0 0 0 0 0 0 0 0 0 0 0 0 0 0 0 0 0 0 0 0 0 0 0 0 0 0 0 0 0 0 0 0 0 0 0 0 0 0 0 0 0 0 0 0 0 0 0 0 0 0 0 0 0 0 0 0 0 0 0 0 0 0 0 0 0 0 0 0 0 0 1 1 1 1 1 1 1 1 1 1 1 1 1 1 1 1 1 1 1 1 1 1 1 1 1 1 1 1 1 1 1 1 1 1 1 1 1 1 1 1 1 1 1 1 1 1 1 1 1 1 1 1 1 1 1 1 1 1 1 1 1 1 1 1 1 1 1 1 1 1 1 1 1 1 1 1 1 1 1 1 1 1 1 1 1 1 1 1 1 1 1 1 1 1 1 1 1 1 1 1 1 1 1 1 1 1 1 1 1 1 1 1 1 1 1 1 1 1 1 1 1 1 1 1 1 1 1 1 1 1 1 1 1 1 1 1 1 1 1 1 1 1 1 1 1 1 1 1 1 1 1 1 1 1 1 1 1 1 1 1 1 1 1 1 1 1 1 1 1 1 1 1 1 1 1 1 1 1 1 1 1 1 1 1 1 1 1 1 1 1 1 1 1 1 1 1 1 1 1 1 1 1 1 1 1 1 1 1 1 1 1 1 1 1 1 1 1 1 1 1 1 1 1 1 1 1 1 1 1 1 1 1 1 1 1 1 1 1 1 1 1 1 1 1 1 1 1 1 1 1 1 1 1 1 1 0\n",
            "2021-12-21 06:58:06,062 - tensorflow - INFO - preds (length = 27): 1.005 2.0 2.0 1.0 2.0 1.323295257874697 1.5390743550834598 1.4435389988358556 1.431168831168831 1.617307893909215 1.6928498297578514 1.998965873836608 1.9809999999999999 1.6797144830762147 1.841 0.0 1.9837574445046022 1.9882489241972856 1.989907854322071 1.995 2.0 1.5518205275229358 1.97937338398821 1.9524232436878073 1.979050234546897 1.9525786109911392 1.9990698231818773\n",
            "2021-12-21 06:58:06,063 - tensorflow - INFO - label: 1 (id = 1)\n",
            "2021-12-21 06:58:06,076 - tensorflow - INFO - *** Example ***\n",
            "2021-12-21 06:58:06,083 - tensorflow - INFO - guid: test-2\n",
            "2021-12-21 06:58:06,084 - tensorflow - INFO - tokens: [CLS] B M Q R S P L E K A S V V S K L F F S W T R P I L R K G Y R Q R L E L S D I Y Q I P S V D S A D N L S E K L E R E W D R E L A S K K N P K L I N A L R R C F F W R F M F Y G I F L Y L G E V T K A V Q P L L L G R I I A S Y D P D N K E E R S I A I Y L G I G L C L L F I V R T L L L H P A I F G L H H I G M Q M R I A M F S L I Y K K T L K L S S R V L D K I S I G Q L V S L L S N N L N K F D E G L A L A H F V W I A P L Q V A L L M G L I W E L L Q A S A F C G L G F L I V L A L F Q A G L G R M M M K Y R D Q R A G [SEP] B M Q R S P L E K A S V V S K P F F S W T R P I L R K G Y R Q R L E L S D I Y Q I P S V D S A D N L S E K L E R E W D R E L A S K K N P K L I N A L R R C F F W R F M F Y G I F L Y L G E V T K A V Q P L L L G R I I A S Y D P D N K E E R S I A I Y L G I G L C L L F I V R T L L L H P A I F G L H H I G M Q M R I A M F S L I Y K K T L K L S S R V L D K I S I G Q L V S L L S N N L N K F D E G L A L A H F V W I A P L Q V A L L M G L I W E L L Q A S A F C G L G F L I V L A L F Q A G L G R M M M K Y R D Q R A G [SEP]\n",
            "2021-12-21 06:58:06,086 - tensorflow - INFO - input_ids: 2 7 25 18 16 6 11 5 9 15 10 6 14 14 6 15 5 21 21 6 26 12 16 11 19 5 16 15 13 23 16 18 16 5 9 5 6 17 19 23 18 19 11 6 14 17 6 10 17 20 5 6 9 15 5 9 16 9 26 17 16 9 5 10 6 15 15 20 11 15 5 19 20 10 5 16 16 24 21 21 26 16 21 25 21 23 13 19 21 5 23 5 13 9 14 12 15 10 14 18 11 5 5 5 13 16 19 19 10 6 23 17 11 17 20 15 9 9 16 6 19 10 19 23 5 13 19 13 5 24 5 5 21 19 14 16 12 5 5 5 22 11 10 19 21 13 5 22 22 19 13 25 18 25 16 19 10 25 21 6 5 19 23 15 15 12 5 15 5 6 6 16 14 5 17 15 19 6 19 13 18 5 14 6 5 5 6 20 20 5 20 15 21 17 9 13 5 10 5 10 22 21 14 26 19 10 11 5 18 14 10 5 5 25 13 5 19 26 9 5 5 18 10 6 10 21 24 13 5 13 21 5 19 14 5 10 5 21 18 10 13 5 13 16 25 25 25 15 23 16 17 18 16 10 13 3 7 25 18 16 6 11 5 9 15 10 6 14 14 6 15 11 21 21 6 26 12 16 11 19 5 16 15 13 23 16 18 16 5 9 5 6 17 19 23 18 19 11 6 14 17 6 10 17 20 5 6 9 15 5 9 16 9 26 17 16 9 5 10 6 15 15 20 11 15 5 19 20 10 5 16 16 24 21 21 26 16 21 25 21 23 13 19 21 5 23 5 13 9 14 12 15 10 14 18 11 5 5 5 13 16 19 19 10 6 23 17 11 17 20 15 9 9 16 6 19 10 19 23 5 13 19 13 5 24 5 5 21 19 14 16 12 5 5 5 22 11 10 19 21 13 5 22 22 19 13 25 18 25 16 19 10 25 21 6 5 19 23 15 15 12 5 15 5 6 6 16 14 5 17 15 19 6 19 13 18 5 14 6 5 5 6 20 20 5 20 15 21 17 9 13 5 10 5 10 22 21 14 26 19 10 11 5 18 14 10 5 5 25 13 5 19 26 9 5 5 18 10 6 10 21 24 13 5 13 21 5 19 14 5 10 5 21 18 10 13 5 13 16 25 25 25 15 23 16 17 18 16 10 13 3 0\n",
            "2021-12-21 06:58:06,087 - tensorflow - INFO - input_mask: 1 1 1 1 1 1 1 1 1 1 1 1 1 1 1 1 1 1 1 1 1 1 1 1 1 1 1 1 1 1 1 1 1 1 1 1 1 1 1 1 1 1 1 1 1 1 1 1 1 1 1 1 1 1 1 1 1 1 1 1 1 1 1 1 1 1 1 1 1 1 1 1 1 1 1 1 1 1 1 1 1 1 1 1 1 1 1 1 1 1 1 1 1 1 1 1 1 1 1 1 1 1 1 1 1 1 1 1 1 1 1 1 1 1 1 1 1 1 1 1 1 1 1 1 1 1 1 1 1 1 1 1 1 1 1 1 1 1 1 1 1 1 1 1 1 1 1 1 1 1 1 1 1 1 1 1 1 1 1 1 1 1 1 1 1 1 1 1 1 1 1 1 1 1 1 1 1 1 1 1 1 1 1 1 1 1 1 1 1 1 1 1 1 1 1 1 1 1 1 1 1 1 1 1 1 1 1 1 1 1 1 1 1 1 1 1 1 1 1 1 1 1 1 1 1 1 1 1 1 1 1 1 1 1 1 1 1 1 1 1 1 1 1 1 1 1 1 1 1 1 1 1 1 1 1 1 1 1 1 1 1 1 1 1 1 1 1 1 1 1 1 1 1 1 1 1 1 1 1 1 1 1 1 1 1 1 1 1 1 1 1 1 1 1 1 1 1 1 1 1 1 1 1 1 1 1 1 1 1 1 1 1 1 1 1 1 1 1 1 1 1 1 1 1 1 1 1 1 1 1 1 1 1 1 1 1 1 1 1 1 1 1 1 1 1 1 1 1 1 1 1 1 1 1 1 1 1 1 1 1 1 1 1 1 1 1 1 1 1 1 1 1 1 1 1 1 1 1 1 1 1 1 1 1 1 1 1 1 1 1 1 1 1 1 1 1 1 1 1 1 1 1 1 1 1 1 1 1 1 1 1 1 1 1 1 1 1 1 1 1 1 1 1 1 1 1 1 1 1 1 1 1 1 1 1 1 1 1 1 1 1 1 1 1 1 1 1 1 1 1 1 1 1 1 1 1 1 1 1 1 1 1 1 1 1 1 1 1 1 1 1 1 1 1 1 1 1 1 1 1 1 1 1 1 1 1 1 1 1 1 1 1 1 1 1 1 1 1 1 1 1 1 1 1 1 1 1 1 1 1 1 0\n",
            "2021-12-21 06:58:06,089 - tensorflow - INFO - segment_ids: 0 0 0 0 0 0 0 0 0 0 0 0 0 0 0 0 0 0 0 0 0 0 0 0 0 0 0 0 0 0 0 0 0 0 0 0 0 0 0 0 0 0 0 0 0 0 0 0 0 0 0 0 0 0 0 0 0 0 0 0 0 0 0 0 0 0 0 0 0 0 0 0 0 0 0 0 0 0 0 0 0 0 0 0 0 0 0 0 0 0 0 0 0 0 0 0 0 0 0 0 0 0 0 0 0 0 0 0 0 0 0 0 0 0 0 0 0 0 0 0 0 0 0 0 0 0 0 0 0 0 0 0 0 0 0 0 0 0 0 0 0 0 0 0 0 0 0 0 0 0 0 0 0 0 0 0 0 0 0 0 0 0 0 0 0 0 0 0 0 0 0 0 0 0 0 0 0 0 0 0 0 0 0 0 0 0 0 0 0 0 0 0 0 0 0 0 0 0 0 0 0 0 0 0 0 0 0 0 0 0 0 0 0 0 0 0 0 0 0 0 0 0 0 0 0 0 0 0 0 0 0 0 0 0 0 0 0 0 0 0 0 0 0 0 0 0 0 0 0 0 0 0 0 0 0 0 1 1 1 1 1 1 1 1 1 1 1 1 1 1 1 1 1 1 1 1 1 1 1 1 1 1 1 1 1 1 1 1 1 1 1 1 1 1 1 1 1 1 1 1 1 1 1 1 1 1 1 1 1 1 1 1 1 1 1 1 1 1 1 1 1 1 1 1 1 1 1 1 1 1 1 1 1 1 1 1 1 1 1 1 1 1 1 1 1 1 1 1 1 1 1 1 1 1 1 1 1 1 1 1 1 1 1 1 1 1 1 1 1 1 1 1 1 1 1 1 1 1 1 1 1 1 1 1 1 1 1 1 1 1 1 1 1 1 1 1 1 1 1 1 1 1 1 1 1 1 1 1 1 1 1 1 1 1 1 1 1 1 1 1 1 1 1 1 1 1 1 1 1 1 1 1 1 1 1 1 1 1 1 1 1 1 1 1 1 1 1 1 1 1 1 1 1 1 1 1 1 1 1 1 1 1 1 1 1 1 1 1 1 1 1 1 1 1 1 1 1 1 1 1 1 1 1 1 1 1 1 1 1 1 1 1 1 1 1 1 1 1 1 1 1 1 1 1 1 1 1 1 1 1 1 0\n",
            "2021-12-21 06:58:06,090 - tensorflow - INFO - preds (length = 27): 1.001 1.5739999999999998 1.429 1.0018433179723503 2.0 1.3016614745586708 1.5072078907435507 1.3709740007760962 1.4082251082251083 1.610231680469651 1.678563775327984 1.9979317476732161 1.833 1.6299792769974673 1.787 1.711904761904762 1.8922577152138604 1.9882489241972856 1.9862512798010823 2.0 2.0 1.350487385321101 1.9504768942275756 1.9378639489735598 1.9690290507640897 1.9020402772971319 1.9972656905082995\n",
            "2021-12-21 06:58:06,091 - tensorflow - INFO - label: 1 (id = 1)\n",
            "2021-12-21 06:58:06,100 - tensorflow - INFO - *** Example ***\n",
            "2021-12-21 06:58:06,107 - tensorflow - INFO - guid: test-3\n",
            "2021-12-21 06:58:06,109 - tensorflow - INFO - tokens: [CLS] H G R A S A T S V S S A G E Q A A G D P E G R R Q E P L R R R A S S A S V P A V G A S A E G T R R D R L G S Y S G P T S V S R Q R V E S L R K K R P L F P W F G L D I G G T L V K L V Y F E P K D I T A E E E E E E V E S L K S I R K Y L T S N V A Y G S T G I R D V H L E L K D L T L C G R K G N L H F I R F P T H D M P A F I Q M G R D K N F S S L H T V F C A T G G G A Y K F E Q D F L T I G D L Q L C K L D E L D C L I K G I L Y I D S V G F N G R S Q C Y Y F E N P A D S E K C Q K L P F D L K N P Y P L L L V N [SEP] H G R A S A T S V S S A G E Q A A G D P E G R R Q E P L R R R A S S A S V P A V G A S A E G T R R D R L G S Y S G P T S V S R Q R V E S L R K K R P L F P W F G L D I G G T L V K L V Y F E P K D I T A E E E E E E V E S L K S I R K Y L T S N V A Y G S T G I Q D V H L E L K D L T L C G R K G N L H F I R F P T H D M P A F I Q M G R D K N F S S L H T V F C A T G G G A Y K F E Q D F L T I G D L Q L C K L D E L D C L I K G I L Y I D S V G F N G R S Q C Y Y F E N P A D S E K C Q K L P F D L K N P Y P L L L V N [SEP]\n",
            "2021-12-21 06:58:06,110 - tensorflow - INFO - input_ids: 2 22 13 16 10 6 10 12 6 14 6 6 10 13 9 18 10 10 13 17 11 9 13 16 16 18 9 11 5 16 16 16 10 6 6 10 6 14 11 10 14 13 10 6 10 9 13 12 16 16 17 16 5 13 6 23 6 13 11 12 6 14 6 16 18 16 14 9 6 5 16 15 15 16 11 5 21 11 26 21 13 5 17 19 13 13 12 5 14 15 5 14 23 21 9 11 15 17 19 12 10 9 9 9 9 9 9 14 9 6 5 15 6 19 16 15 23 5 12 6 20 14 10 23 13 6 12 13 19 16 17 14 22 5 9 5 15 17 5 12 5 24 13 16 15 13 20 5 22 21 19 16 21 11 12 22 17 25 11 10 21 19 18 25 13 16 17 15 20 21 6 6 5 22 12 14 21 24 10 12 13 13 13 10 23 15 21 9 18 17 21 5 12 19 13 17 5 18 5 24 15 5 17 9 5 17 24 5 19 15 13 19 5 23 19 17 6 14 13 21 20 13 16 6 18 24 23 23 21 9 20 11 10 17 6 9 15 24 18 15 5 11 21 17 5 15 20 11 23 11 5 5 5 14 20 3 22 13 16 10 6 10 12 6 14 6 6 10 13 9 18 10 10 13 17 11 9 13 16 16 18 9 11 5 16 16 16 10 6 6 10 6 14 11 10 14 13 10 6 10 9 13 12 16 16 17 16 5 13 6 23 6 13 11 12 6 14 6 16 18 16 14 9 6 5 16 15 15 16 11 5 21 11 26 21 13 5 17 19 13 13 12 5 14 15 5 14 23 21 9 11 15 17 19 12 10 9 9 9 9 9 9 14 9 6 5 15 6 19 16 15 23 5 12 6 20 14 10 23 13 6 12 13 19 18 17 14 22 5 9 5 15 17 5 12 5 24 13 16 15 13 20 5 22 21 19 16 21 11 12 22 17 25 11 10 21 19 18 25 13 16 17 15 20 21 6 6 5 22 12 14 21 24 10 12 13 13 13 10 23 15 21 9 18 17 21 5 12 19 13 17 5 18 5 24 15 5 17 9 5 17 24 5 19 15 13 19 5 23 19 17 6 14 13 21 20 13 16 6 18 24 23 23 21 9 20 11 10 17 6 9 15 24 18 15 5 11 21 17 5 15 20 11 23 11 5 5 5 14 20 3 0\n",
            "2021-12-21 06:58:06,112 - tensorflow - INFO - input_mask: 1 1 1 1 1 1 1 1 1 1 1 1 1 1 1 1 1 1 1 1 1 1 1 1 1 1 1 1 1 1 1 1 1 1 1 1 1 1 1 1 1 1 1 1 1 1 1 1 1 1 1 1 1 1 1 1 1 1 1 1 1 1 1 1 1 1 1 1 1 1 1 1 1 1 1 1 1 1 1 1 1 1 1 1 1 1 1 1 1 1 1 1 1 1 1 1 1 1 1 1 1 1 1 1 1 1 1 1 1 1 1 1 1 1 1 1 1 1 1 1 1 1 1 1 1 1 1 1 1 1 1 1 1 1 1 1 1 1 1 1 1 1 1 1 1 1 1 1 1 1 1 1 1 1 1 1 1 1 1 1 1 1 1 1 1 1 1 1 1 1 1 1 1 1 1 1 1 1 1 1 1 1 1 1 1 1 1 1 1 1 1 1 1 1 1 1 1 1 1 1 1 1 1 1 1 1 1 1 1 1 1 1 1 1 1 1 1 1 1 1 1 1 1 1 1 1 1 1 1 1 1 1 1 1 1 1 1 1 1 1 1 1 1 1 1 1 1 1 1 1 1 1 1 1 1 1 1 1 1 1 1 1 1 1 1 1 1 1 1 1 1 1 1 1 1 1 1 1 1 1 1 1 1 1 1 1 1 1 1 1 1 1 1 1 1 1 1 1 1 1 1 1 1 1 1 1 1 1 1 1 1 1 1 1 1 1 1 1 1 1 1 1 1 1 1 1 1 1 1 1 1 1 1 1 1 1 1 1 1 1 1 1 1 1 1 1 1 1 1 1 1 1 1 1 1 1 1 1 1 1 1 1 1 1 1 1 1 1 1 1 1 1 1 1 1 1 1 1 1 1 1 1 1 1 1 1 1 1 1 1 1 1 1 1 1 1 1 1 1 1 1 1 1 1 1 1 1 1 1 1 1 1 1 1 1 1 1 1 1 1 1 1 1 1 1 1 1 1 1 1 1 1 1 1 1 1 1 1 1 1 1 1 1 1 1 1 1 1 1 1 1 1 1 1 1 1 1 1 1 1 1 1 1 1 1 1 1 1 1 1 1 1 1 1 1 1 1 1 1 1 1 1 1 1 1 1 1 1 1 1 1 1 1 1 1 1 1 1 1 1 1 1 1 1 1 1 1 1 1 1 1 0\n",
            "2021-12-21 06:58:06,113 - tensorflow - INFO - segment_ids: 0 0 0 0 0 0 0 0 0 0 0 0 0 0 0 0 0 0 0 0 0 0 0 0 0 0 0 0 0 0 0 0 0 0 0 0 0 0 0 0 0 0 0 0 0 0 0 0 0 0 0 0 0 0 0 0 0 0 0 0 0 0 0 0 0 0 0 0 0 0 0 0 0 0 0 0 0 0 0 0 0 0 0 0 0 0 0 0 0 0 0 0 0 0 0 0 0 0 0 0 0 0 0 0 0 0 0 0 0 0 0 0 0 0 0 0 0 0 0 0 0 0 0 0 0 0 0 0 0 0 0 0 0 0 0 0 0 0 0 0 0 0 0 0 0 0 0 0 0 0 0 0 0 0 0 0 0 0 0 0 0 0 0 0 0 0 0 0 0 0 0 0 0 0 0 0 0 0 0 0 0 0 0 0 0 0 0 0 0 0 0 0 0 0 0 0 0 0 0 0 0 0 0 0 0 0 0 0 0 0 0 0 0 0 0 0 0 0 0 0 0 0 0 0 0 0 0 0 0 0 0 0 0 0 0 0 0 0 0 0 0 0 0 0 0 0 0 0 0 0 0 0 0 0 0 0 1 1 1 1 1 1 1 1 1 1 1 1 1 1 1 1 1 1 1 1 1 1 1 1 1 1 1 1 1 1 1 1 1 1 1 1 1 1 1 1 1 1 1 1 1 1 1 1 1 1 1 1 1 1 1 1 1 1 1 1 1 1 1 1 1 1 1 1 1 1 1 1 1 1 1 1 1 1 1 1 1 1 1 1 1 1 1 1 1 1 1 1 1 1 1 1 1 1 1 1 1 1 1 1 1 1 1 1 1 1 1 1 1 1 1 1 1 1 1 1 1 1 1 1 1 1 1 1 1 1 1 1 1 1 1 1 1 1 1 1 1 1 1 1 1 1 1 1 1 1 1 1 1 1 1 1 1 1 1 1 1 1 1 1 1 1 1 1 1 1 1 1 1 1 1 1 1 1 1 1 1 1 1 1 1 1 1 1 1 1 1 1 1 1 1 1 1 1 1 1 1 1 1 1 1 1 1 1 1 1 1 1 1 1 1 1 1 1 1 1 1 1 1 1 1 1 1 1 1 1 1 1 1 1 1 1 1 1 1 1 1 1 1 1 1 1 1 1 1 1 1 1 1 1 1 0\n",
            "2021-12-21 06:58:06,116 - tensorflow - INFO - preds (length = 27): 1.023 2.0 1.9849999999999999 1.0 2.0 1.2712011076497056 1.4207132018209407 1.3903764066744277 1.4021645021645022 1.6670510535695566 1.809519274268435 2.0 1.9809999999999999 1.7124107759613172 1.967 1.8416666666666668 1.9718462371413104 1.976001324064879 1.988957144946614 2.0 2.0 1.618585149082569 1.7587258475096859 1.3975213218817701 1.7581064339660566 1.4441969520159421 1.9909015325160255\n",
            "2021-12-21 06:58:06,117 - tensorflow - INFO - label: 1 (id = 1)\n",
            "2021-12-21 06:58:06,127 - tensorflow - INFO - *** Example ***\n",
            "2021-12-21 06:58:06,129 - tensorflow - INFO - guid: test-4\n",
            "2021-12-21 06:58:06,131 - tensorflow - INFO - tokens: [CLS] T T I Y R I G L K V P P D E R D P R V P M L T W S T C A F T I Q A I E N L L G D E G K P L F G A L Q N R Q H N G L K A L M Q F A V A Q R I T C P Q V L I Q K H L V R L L S V V L P N I K S E D T P C L L S I D L F H V L V G A V L A F P S L Y W D D P V D L Q P S S V S S S Y N H L Y L F H L I T M A H M L Q I L L T V D T G L P L A Q V Q E D S E E A H S A S S F F A E I S Q Y T S G S I G C D I P G W Y L W V S L K N G I T P Y L R C A A L F F H Y L L G V T P P E E L H T N S A E G E Y S A L C S Y L S L P T N L F L [SEP] T T I Y R I G L K V P P D E R D P R V P M L T W S T C A F T I Q A I E N L L G D E G K P L F G A L Q N R Q H N G L K A L M Q F A V A Q R I T C P Q V L I Q K H L V R L L S V V L P N I K S E D T P C L L S I D L F H V L V G A V L A F P S L Y W D D P V D L Q P F S V S S S Y N H L Y L F H L I T M A H M L Q I L L T V D T G L P L A Q V Q E D S E E A H S A S S F F A E I S Q Y T S G S I G C D I P G W Y L W V S L K N G I T P Y L R C A A L F F H Y L L G V T P P E E L H T N S A E G E Y S A L C S Y L S L P T N L F L [SEP]\n",
            "2021-12-21 06:58:06,136 - tensorflow - INFO - input_ids: 2 12 12 19 23 16 19 13 5 15 14 11 11 17 9 16 17 11 16 14 11 25 5 12 26 6 12 24 10 21 12 19 18 10 19 9 20 5 5 13 17 9 13 15 11 5 21 13 10 5 18 20 16 18 22 20 13 5 15 10 5 25 18 21 10 14 10 18 16 19 12 24 11 18 14 5 19 18 15 22 5 14 16 5 5 6 14 14 5 11 20 19 15 6 9 17 12 11 24 5 5 6 19 17 5 21 22 14 5 14 13 10 14 5 10 21 11 6 5 23 26 17 17 11 14 17 5 18 11 6 6 14 6 6 6 23 20 22 5 23 5 21 22 5 19 12 25 10 22 25 5 18 19 5 5 12 14 17 12 13 5 11 5 10 18 14 18 9 17 6 9 9 10 22 6 10 6 6 21 21 10 9 19 6 18 23 12 6 13 6 19 13 24 17 19 11 13 26 23 5 26 14 6 5 15 20 13 19 12 11 23 5 16 24 10 10 5 21 21 22 23 5 5 13 14 12 11 11 9 9 5 22 12 20 6 10 9 13 9 23 6 10 5 24 6 23 5 6 5 11 12 20 5 21 5 3 12 12 19 23 16 19 13 5 15 14 11 11 17 9 16 17 11 16 14 11 25 5 12 26 6 12 24 10 21 12 19 18 10 19 9 20 5 5 13 17 9 13 15 11 5 21 13 10 5 18 20 16 18 22 20 13 5 15 10 5 25 18 21 10 14 10 18 16 19 12 24 11 18 14 5 19 18 15 22 5 14 16 5 5 6 14 14 5 11 20 19 15 6 9 17 12 11 24 5 5 6 19 17 5 21 22 14 5 14 13 10 14 5 10 21 11 6 5 23 26 17 17 11 14 17 5 18 11 21 6 14 6 6 6 23 20 22 5 23 5 21 22 5 19 12 25 10 22 25 5 18 19 5 5 12 14 17 12 13 5 11 5 10 18 14 18 9 17 6 9 9 10 22 6 10 6 6 21 21 10 9 19 6 18 23 12 6 13 6 19 13 24 17 19 11 13 26 23 5 26 14 6 5 15 20 13 19 12 11 23 5 16 24 10 10 5 21 21 22 23 5 5 13 14 12 11 11 9 9 5 22 12 20 6 10 9 13 9 23 6 10 5 24 6 23 5 6 5 11 12 20 5 21 5 3 0\n",
            "2021-12-21 06:58:06,142 - tensorflow - INFO - input_mask: 1 1 1 1 1 1 1 1 1 1 1 1 1 1 1 1 1 1 1 1 1 1 1 1 1 1 1 1 1 1 1 1 1 1 1 1 1 1 1 1 1 1 1 1 1 1 1 1 1 1 1 1 1 1 1 1 1 1 1 1 1 1 1 1 1 1 1 1 1 1 1 1 1 1 1 1 1 1 1 1 1 1 1 1 1 1 1 1 1 1 1 1 1 1 1 1 1 1 1 1 1 1 1 1 1 1 1 1 1 1 1 1 1 1 1 1 1 1 1 1 1 1 1 1 1 1 1 1 1 1 1 1 1 1 1 1 1 1 1 1 1 1 1 1 1 1 1 1 1 1 1 1 1 1 1 1 1 1 1 1 1 1 1 1 1 1 1 1 1 1 1 1 1 1 1 1 1 1 1 1 1 1 1 1 1 1 1 1 1 1 1 1 1 1 1 1 1 1 1 1 1 1 1 1 1 1 1 1 1 1 1 1 1 1 1 1 1 1 1 1 1 1 1 1 1 1 1 1 1 1 1 1 1 1 1 1 1 1 1 1 1 1 1 1 1 1 1 1 1 1 1 1 1 1 1 1 1 1 1 1 1 1 1 1 1 1 1 1 1 1 1 1 1 1 1 1 1 1 1 1 1 1 1 1 1 1 1 1 1 1 1 1 1 1 1 1 1 1 1 1 1 1 1 1 1 1 1 1 1 1 1 1 1 1 1 1 1 1 1 1 1 1 1 1 1 1 1 1 1 1 1 1 1 1 1 1 1 1 1 1 1 1 1 1 1 1 1 1 1 1 1 1 1 1 1 1 1 1 1 1 1 1 1 1 1 1 1 1 1 1 1 1 1 1 1 1 1 1 1 1 1 1 1 1 1 1 1 1 1 1 1 1 1 1 1 1 1 1 1 1 1 1 1 1 1 1 1 1 1 1 1 1 1 1 1 1 1 1 1 1 1 1 1 1 1 1 1 1 1 1 1 1 1 1 1 1 1 1 1 1 1 1 1 1 1 1 1 1 1 1 1 1 1 1 1 1 1 1 1 1 1 1 1 1 1 1 1 1 1 1 1 1 1 1 1 1 1 1 1 1 1 1 1 1 1 1 1 1 1 1 1 1 1 1 1 1 1 1 1 1 1 1 1 1 1 1 1 1 1 1 1 0\n",
            "2021-12-21 06:58:06,145 - tensorflow - INFO - segment_ids: 0 0 0 0 0 0 0 0 0 0 0 0 0 0 0 0 0 0 0 0 0 0 0 0 0 0 0 0 0 0 0 0 0 0 0 0 0 0 0 0 0 0 0 0 0 0 0 0 0 0 0 0 0 0 0 0 0 0 0 0 0 0 0 0 0 0 0 0 0 0 0 0 0 0 0 0 0 0 0 0 0 0 0 0 0 0 0 0 0 0 0 0 0 0 0 0 0 0 0 0 0 0 0 0 0 0 0 0 0 0 0 0 0 0 0 0 0 0 0 0 0 0 0 0 0 0 0 0 0 0 0 0 0 0 0 0 0 0 0 0 0 0 0 0 0 0 0 0 0 0 0 0 0 0 0 0 0 0 0 0 0 0 0 0 0 0 0 0 0 0 0 0 0 0 0 0 0 0 0 0 0 0 0 0 0 0 0 0 0 0 0 0 0 0 0 0 0 0 0 0 0 0 0 0 0 0 0 0 0 0 0 0 0 0 0 0 0 0 0 0 0 0 0 0 0 0 0 0 0 0 0 0 0 0 0 0 0 0 0 0 0 0 0 0 0 0 0 0 0 0 0 0 0 0 0 0 1 1 1 1 1 1 1 1 1 1 1 1 1 1 1 1 1 1 1 1 1 1 1 1 1 1 1 1 1 1 1 1 1 1 1 1 1 1 1 1 1 1 1 1 1 1 1 1 1 1 1 1 1 1 1 1 1 1 1 1 1 1 1 1 1 1 1 1 1 1 1 1 1 1 1 1 1 1 1 1 1 1 1 1 1 1 1 1 1 1 1 1 1 1 1 1 1 1 1 1 1 1 1 1 1 1 1 1 1 1 1 1 1 1 1 1 1 1 1 1 1 1 1 1 1 1 1 1 1 1 1 1 1 1 1 1 1 1 1 1 1 1 1 1 1 1 1 1 1 1 1 1 1 1 1 1 1 1 1 1 1 1 1 1 1 1 1 1 1 1 1 1 1 1 1 1 1 1 1 1 1 1 1 1 1 1 1 1 1 1 1 1 1 1 1 1 1 1 1 1 1 1 1 1 1 1 1 1 1 1 1 1 1 1 1 1 1 1 1 1 1 1 1 1 1 1 1 1 1 1 1 1 1 1 1 1 1 1 1 1 1 1 1 1 1 1 1 1 1 1 1 1 1 1 1 0\n",
            "2021-12-21 06:58:06,147 - tensorflow - INFO - preds (length = 27): 1.001 1.999 1.9969999999999999 1.0 2.0 1.2556247836621668 1.6361911987860394 1.4365541327124562 1.283982683982684 1.650539888877241 1.7857091835519894 1.9979317476732161 1.984 1.3193644945889937 1.286 1.8416666666666668 1.9474824038982135 1.976001324064879 1.9853005704256252 1.968 1.999 1.6694739105504588 1.5829437528827257 1.5293374679394098 1.5827514044473423 1.5294238200457386 1.7895452653818062\n",
            "2021-12-21 06:58:06,149 - tensorflow - INFO - label: 1 (id = 1)\n",
            "2021-12-21 06:58:47,678 - tensorflow - INFO - Writing example 10000 of 14336\n",
            "2021-12-21 06:59:06,327 - tensorflow - INFO - Writing example 0 of 136\n",
            "2021-12-21 06:59:06,335 - tensorflow - INFO - *** Example ***\n",
            "2021-12-21 06:59:06,338 - tensorflow - INFO - guid: test-14336\n",
            "2021-12-21 06:59:06,340 - tensorflow - INFO - tokens: [CLS] B M A S G I L V N V K E E V T C P I C L E L L T Q P L S L D C G H S F C Q A C L T A N H K K S M L D K G E S S C P V C R I S Y Q P E N I R P N R H V A N I V E K L R E V K L S P E G Q K V D H C A R H G E K L L L F C Q E D G K V I C W L C E R S Q E H R G H H T F L T E E V A R E Y Q V K L Q A A L E M L R Q K Q Q E A E E L E A D I R E E K A S W K T Q I Q Y D K T N V L A D F E Q L R D I L D W E E S N E L Q N L E K E E E D I L K S L T N S E T E M V Q Q T Q S L R E L I S D L E H R L Q G S V M E L L Q G V D G V [SEP] B M A S G I L V N V K E E V T C P I C L E L L T Q P L S L D C G H S F C Q A C L T A N H K K S M L D K G E S S C P V C R I S Y Q P E N I R P N R H V A N I V E K L R E V K L S P E G Q K V D H C A R H G E K L L L F C Q E D E K V I C W L C E R S Q E H R G H H T F L T E E V A R E Y Q V K L Q A A L E M L R Q K Q Q E A E E L E A D I R E E K A S W K T Q I Q Y D K T N V L A D F E Q L R D I L D W E E S N E L Q N L E K E E E D I L K S L T N S E T E M V Q Q T Q S L R E L I S D L E H R L Q G S V M E L L Q G V D G V [SEP]\n",
            "2021-12-21 06:59:06,342 - tensorflow - INFO - input_ids: 2 7 25 10 6 13 19 5 14 20 14 15 9 9 14 12 24 11 19 24 5 9 5 5 12 18 11 5 6 5 17 24 13 22 6 21 24 18 10 24 5 12 10 20 22 15 15 6 25 5 17 15 13 9 6 6 24 11 14 24 16 19 6 23 18 11 9 20 19 16 11 20 16 22 14 10 20 19 14 9 15 5 16 9 14 15 5 6 11 9 13 18 15 14 17 22 24 10 16 22 13 9 15 5 5 5 21 24 18 9 17 13 15 14 19 24 26 5 24 9 16 6 18 9 22 16 13 22 22 12 21 5 12 9 9 14 10 16 9 23 18 14 15 5 18 10 10 5 9 25 5 16 18 15 18 18 9 10 9 9 5 9 10 17 19 16 9 9 15 10 6 26 15 12 18 19 18 23 17 15 12 20 14 5 10 17 21 9 18 5 16 17 19 5 17 26 9 9 6 20 9 5 18 20 5 9 15 9 9 9 17 19 5 15 6 5 12 20 6 9 12 9 25 14 18 18 12 18 6 5 16 9 5 19 6 17 5 9 22 16 5 18 13 6 14 25 9 5 5 18 13 14 17 13 14 3 7 25 10 6 13 19 5 14 20 14 15 9 9 14 12 24 11 19 24 5 9 5 5 12 18 11 5 6 5 17 24 13 22 6 21 24 18 10 24 5 12 10 20 22 15 15 6 25 5 17 15 13 9 6 6 24 11 14 24 16 19 6 23 18 11 9 20 19 16 11 20 16 22 14 10 20 19 14 9 15 5 16 9 14 15 5 6 11 9 13 18 15 14 17 22 24 10 16 22 13 9 15 5 5 5 21 24 18 9 17 9 15 14 19 24 26 5 24 9 16 6 18 9 22 16 13 22 22 12 21 5 12 9 9 14 10 16 9 23 18 14 15 5 18 10 10 5 9 25 5 16 18 15 18 18 9 10 9 9 5 9 10 17 19 16 9 9 15 10 6 26 15 12 18 19 18 23 17 15 12 20 14 5 10 17 21 9 18 5 16 17 19 5 17 26 9 9 6 20 9 5 18 20 5 9 15 9 9 9 17 19 5 15 6 5 12 20 6 9 12 9 25 14 18 18 12 18 6 5 16 9 5 19 6 17 5 9 22 16 5 18 13 6 14 25 9 5 5 18 13 14 17 13 14 3 0\n",
            "2021-12-21 06:59:06,347 - tensorflow - INFO - input_mask: 1 1 1 1 1 1 1 1 1 1 1 1 1 1 1 1 1 1 1 1 1 1 1 1 1 1 1 1 1 1 1 1 1 1 1 1 1 1 1 1 1 1 1 1 1 1 1 1 1 1 1 1 1 1 1 1 1 1 1 1 1 1 1 1 1 1 1 1 1 1 1 1 1 1 1 1 1 1 1 1 1 1 1 1 1 1 1 1 1 1 1 1 1 1 1 1 1 1 1 1 1 1 1 1 1 1 1 1 1 1 1 1 1 1 1 1 1 1 1 1 1 1 1 1 1 1 1 1 1 1 1 1 1 1 1 1 1 1 1 1 1 1 1 1 1 1 1 1 1 1 1 1 1 1 1 1 1 1 1 1 1 1 1 1 1 1 1 1 1 1 1 1 1 1 1 1 1 1 1 1 1 1 1 1 1 1 1 1 1 1 1 1 1 1 1 1 1 1 1 1 1 1 1 1 1 1 1 1 1 1 1 1 1 1 1 1 1 1 1 1 1 1 1 1 1 1 1 1 1 1 1 1 1 1 1 1 1 1 1 1 1 1 1 1 1 1 1 1 1 1 1 1 1 1 1 1 1 1 1 1 1 1 1 1 1 1 1 1 1 1 1 1 1 1 1 1 1 1 1 1 1 1 1 1 1 1 1 1 1 1 1 1 1 1 1 1 1 1 1 1 1 1 1 1 1 1 1 1 1 1 1 1 1 1 1 1 1 1 1 1 1 1 1 1 1 1 1 1 1 1 1 1 1 1 1 1 1 1 1 1 1 1 1 1 1 1 1 1 1 1 1 1 1 1 1 1 1 1 1 1 1 1 1 1 1 1 1 1 1 1 1 1 1 1 1 1 1 1 1 1 1 1 1 1 1 1 1 1 1 1 1 1 1 1 1 1 1 1 1 1 1 1 1 1 1 1 1 1 1 1 1 1 1 1 1 1 1 1 1 1 1 1 1 1 1 1 1 1 1 1 1 1 1 1 1 1 1 1 1 1 1 1 1 1 1 1 1 1 1 1 1 1 1 1 1 1 1 1 1 1 1 1 1 1 1 1 1 1 1 1 1 1 1 1 1 1 1 1 1 1 1 1 1 1 1 1 1 1 1 1 1 1 1 1 1 1 1 1 1 1 1 1 1 1 1 1 1 1 1 1 1 0\n",
            "2021-12-21 06:59:06,348 - tensorflow - INFO - segment_ids: 0 0 0 0 0 0 0 0 0 0 0 0 0 0 0 0 0 0 0 0 0 0 0 0 0 0 0 0 0 0 0 0 0 0 0 0 0 0 0 0 0 0 0 0 0 0 0 0 0 0 0 0 0 0 0 0 0 0 0 0 0 0 0 0 0 0 0 0 0 0 0 0 0 0 0 0 0 0 0 0 0 0 0 0 0 0 0 0 0 0 0 0 0 0 0 0 0 0 0 0 0 0 0 0 0 0 0 0 0 0 0 0 0 0 0 0 0 0 0 0 0 0 0 0 0 0 0 0 0 0 0 0 0 0 0 0 0 0 0 0 0 0 0 0 0 0 0 0 0 0 0 0 0 0 0 0 0 0 0 0 0 0 0 0 0 0 0 0 0 0 0 0 0 0 0 0 0 0 0 0 0 0 0 0 0 0 0 0 0 0 0 0 0 0 0 0 0 0 0 0 0 0 0 0 0 0 0 0 0 0 0 0 0 0 0 0 0 0 0 0 0 0 0 0 0 0 0 0 0 0 0 0 0 0 0 0 0 0 0 0 0 0 0 0 0 0 0 0 0 0 0 0 0 0 0 0 1 1 1 1 1 1 1 1 1 1 1 1 1 1 1 1 1 1 1 1 1 1 1 1 1 1 1 1 1 1 1 1 1 1 1 1 1 1 1 1 1 1 1 1 1 1 1 1 1 1 1 1 1 1 1 1 1 1 1 1 1 1 1 1 1 1 1 1 1 1 1 1 1 1 1 1 1 1 1 1 1 1 1 1 1 1 1 1 1 1 1 1 1 1 1 1 1 1 1 1 1 1 1 1 1 1 1 1 1 1 1 1 1 1 1 1 1 1 1 1 1 1 1 1 1 1 1 1 1 1 1 1 1 1 1 1 1 1 1 1 1 1 1 1 1 1 1 1 1 1 1 1 1 1 1 1 1 1 1 1 1 1 1 1 1 1 1 1 1 1 1 1 1 1 1 1 1 1 1 1 1 1 1 1 1 1 1 1 1 1 1 1 1 1 1 1 1 1 1 1 1 1 1 1 1 1 1 1 1 1 1 1 1 1 1 1 1 1 1 1 1 1 1 1 1 1 1 1 1 1 1 1 1 1 1 1 1 1 1 1 1 1 1 1 1 1 1 1 1 1 1 1 1 1 1 0\n",
            "2021-12-21 06:59:06,349 - tensorflow - INFO - preds (length = 27): 1.073 1.423 1.258 1.1033410138248847 2.0 1.234337140879197 1.6506069802731411 1.3725261932479629 1.136796536796537 1.3041723451095502 1.1380032857925189 1.719751809720786 1.031 1.2350909509555605 1.043 1.8416666666666668 1.6682187330806715 1.6393578285335981 1.8816001170103847 1.003 1.0 1.0303899082568808 1.0889365794884756 1.1374545115316088 1.0889072331473433 1.1374769326173237 1.4010843897157685\n",
            "2021-12-21 06:59:06,351 - tensorflow - INFO - label: 0 (id = 0)\n",
            "2021-12-21 06:59:06,363 - tensorflow - INFO - *** Example ***\n",
            "2021-12-21 06:59:06,371 - tensorflow - INFO - guid: test-14337\n",
            "2021-12-21 06:59:06,373 - tensorflow - INFO - tokens: [CLS] A R P G L P P G I N V A S L E W V S R E P A L L C T F P N P S A P R K D S T L S A V P Q S S Y P L L A N G V C K W P G C E K V F E E P E D F L K H C Q A D H L L D E K G R A Q C L L Q R E M V Q S L E Q Q L V L E K E K L S A M Q A H L A G K M A L T K A S S V A S S D K G S C C I V A A G S Q G P V V P A W S G P R E A P D S L F A V R R H L W G S H G N S T F P E F L H N M D Y F K F H N M R P P F T Y A T L I R W A I L E A P E K Q R T L N E I Y H W F T R M F A F F R N H P A T W K N A I R H N L S L H K C F V R V [SEP] A R P G L P P G I N V A S L E W V S R E P A L L C T F P N P S A P R K D S T L S A V P Q S S Y P L L A N G V C K W P G C E K V F E E P E D F L K H C Q A D H L L D E K G R A Q C L L Q R E M V Q S L E Q Q L V L E K E K L S A M Q A H L A G K M A L T K A S S V P S S D K G S C C I V A A G S Q G P V V P A W S G P R E A P D S L F A V R R H L W G S H G N S T F P E F L H N M D Y F K F H N M R P P F T Y A T L I R W A I L E A P E K Q R T L N E I Y H W F T R M F A F F R N H P A T W K N A I R H N L S L H K C F V R V [SEP]\n",
            "2021-12-21 06:59:06,374 - tensorflow - INFO - input_ids: 2 10 16 11 13 5 11 11 13 19 20 14 10 6 5 9 26 14 6 16 9 11 10 5 5 24 12 21 11 20 11 6 10 11 16 15 17 6 12 5 6 10 14 11 18 6 6 23 11 5 5 10 20 13 14 24 15 26 11 13 24 9 15 14 21 9 9 11 9 17 21 5 15 22 24 18 10 17 22 5 5 17 9 15 13 16 10 18 24 5 5 18 16 9 25 14 18 6 5 9 18 18 5 14 5 9 15 9 15 5 6 10 25 18 10 22 5 10 13 15 25 10 5 12 15 10 6 6 14 10 6 6 17 15 13 6 24 24 19 14 10 10 13 6 18 13 11 14 14 11 10 26 6 13 11 16 9 10 11 17 6 5 21 10 14 16 16 22 5 26 13 6 22 13 20 6 12 21 11 9 21 5 22 20 25 17 23 21 15 21 22 20 25 16 11 11 21 12 23 10 12 5 19 16 26 10 19 5 9 10 11 9 15 18 16 12 5 20 9 19 23 22 26 21 12 16 25 21 10 21 21 16 20 22 11 10 12 26 15 20 10 19 16 22 20 5 6 5 22 15 24 21 14 16 14 3 10 16 11 13 5 11 11 13 19 20 14 10 6 5 9 26 14 6 16 9 11 10 5 5 24 12 21 11 20 11 6 10 11 16 15 17 6 12 5 6 10 14 11 18 6 6 23 11 5 5 10 20 13 14 24 15 26 11 13 24 9 15 14 21 9 9 11 9 17 21 5 15 22 24 18 10 17 22 5 5 17 9 15 13 16 10 18 24 5 5 18 16 9 25 14 18 6 5 9 18 18 5 14 5 9 15 9 15 5 6 10 25 18 10 22 5 10 13 15 25 10 5 12 15 10 6 6 14 11 6 6 17 15 13 6 24 24 19 14 10 10 13 6 18 13 11 14 14 11 10 26 6 13 11 16 9 10 11 17 6 5 21 10 14 16 16 22 5 26 13 6 22 13 20 6 12 21 11 9 21 5 22 20 25 17 23 21 15 21 22 20 25 16 11 11 21 12 23 10 12 5 19 16 26 10 19 5 9 10 11 9 15 18 16 12 5 20 9 19 23 22 26 21 12 16 25 21 10 21 21 16 20 22 11 10 12 26 15 20 10 19 16 22 20 5 6 5 22 15 24 21 14 16 14 3 0\n",
            "2021-12-21 06:59:06,375 - tensorflow - INFO - input_mask: 1 1 1 1 1 1 1 1 1 1 1 1 1 1 1 1 1 1 1 1 1 1 1 1 1 1 1 1 1 1 1 1 1 1 1 1 1 1 1 1 1 1 1 1 1 1 1 1 1 1 1 1 1 1 1 1 1 1 1 1 1 1 1 1 1 1 1 1 1 1 1 1 1 1 1 1 1 1 1 1 1 1 1 1 1 1 1 1 1 1 1 1 1 1 1 1 1 1 1 1 1 1 1 1 1 1 1 1 1 1 1 1 1 1 1 1 1 1 1 1 1 1 1 1 1 1 1 1 1 1 1 1 1 1 1 1 1 1 1 1 1 1 1 1 1 1 1 1 1 1 1 1 1 1 1 1 1 1 1 1 1 1 1 1 1 1 1 1 1 1 1 1 1 1 1 1 1 1 1 1 1 1 1 1 1 1 1 1 1 1 1 1 1 1 1 1 1 1 1 1 1 1 1 1 1 1 1 1 1 1 1 1 1 1 1 1 1 1 1 1 1 1 1 1 1 1 1 1 1 1 1 1 1 1 1 1 1 1 1 1 1 1 1 1 1 1 1 1 1 1 1 1 1 1 1 1 1 1 1 1 1 1 1 1 1 1 1 1 1 1 1 1 1 1 1 1 1 1 1 1 1 1 1 1 1 1 1 1 1 1 1 1 1 1 1 1 1 1 1 1 1 1 1 1 1 1 1 1 1 1 1 1 1 1 1 1 1 1 1 1 1 1 1 1 1 1 1 1 1 1 1 1 1 1 1 1 1 1 1 1 1 1 1 1 1 1 1 1 1 1 1 1 1 1 1 1 1 1 1 1 1 1 1 1 1 1 1 1 1 1 1 1 1 1 1 1 1 1 1 1 1 1 1 1 1 1 1 1 1 1 1 1 1 1 1 1 1 1 1 1 1 1 1 1 1 1 1 1 1 1 1 1 1 1 1 1 1 1 1 1 1 1 1 1 1 1 1 1 1 1 1 1 1 1 1 1 1 1 1 1 1 1 1 1 1 1 1 1 1 1 1 1 1 1 1 1 1 1 1 1 1 1 1 1 1 1 1 1 1 1 1 1 1 1 1 1 1 1 1 1 1 1 1 1 1 1 1 1 1 1 1 1 1 1 1 1 1 1 1 1 1 1 1 1 1 1 1 1 1 1 1 0\n",
            "2021-12-21 06:59:06,380 - tensorflow - INFO - segment_ids: 0 0 0 0 0 0 0 0 0 0 0 0 0 0 0 0 0 0 0 0 0 0 0 0 0 0 0 0 0 0 0 0 0 0 0 0 0 0 0 0 0 0 0 0 0 0 0 0 0 0 0 0 0 0 0 0 0 0 0 0 0 0 0 0 0 0 0 0 0 0 0 0 0 0 0 0 0 0 0 0 0 0 0 0 0 0 0 0 0 0 0 0 0 0 0 0 0 0 0 0 0 0 0 0 0 0 0 0 0 0 0 0 0 0 0 0 0 0 0 0 0 0 0 0 0 0 0 0 0 0 0 0 0 0 0 0 0 0 0 0 0 0 0 0 0 0 0 0 0 0 0 0 0 0 0 0 0 0 0 0 0 0 0 0 0 0 0 0 0 0 0 0 0 0 0 0 0 0 0 0 0 0 0 0 0 0 0 0 0 0 0 0 0 0 0 0 0 0 0 0 0 0 0 0 0 0 0 0 0 0 0 0 0 0 0 0 0 0 0 0 0 0 0 0 0 0 0 0 0 0 0 0 0 0 0 0 0 0 0 0 0 0 0 0 0 0 0 0 0 0 0 0 0 0 0 0 1 1 1 1 1 1 1 1 1 1 1 1 1 1 1 1 1 1 1 1 1 1 1 1 1 1 1 1 1 1 1 1 1 1 1 1 1 1 1 1 1 1 1 1 1 1 1 1 1 1 1 1 1 1 1 1 1 1 1 1 1 1 1 1 1 1 1 1 1 1 1 1 1 1 1 1 1 1 1 1 1 1 1 1 1 1 1 1 1 1 1 1 1 1 1 1 1 1 1 1 1 1 1 1 1 1 1 1 1 1 1 1 1 1 1 1 1 1 1 1 1 1 1 1 1 1 1 1 1 1 1 1 1 1 1 1 1 1 1 1 1 1 1 1 1 1 1 1 1 1 1 1 1 1 1 1 1 1 1 1 1 1 1 1 1 1 1 1 1 1 1 1 1 1 1 1 1 1 1 1 1 1 1 1 1 1 1 1 1 1 1 1 1 1 1 1 1 1 1 1 1 1 1 1 1 1 1 1 1 1 1 1 1 1 1 1 1 1 1 1 1 1 1 1 1 1 1 1 1 1 1 1 1 1 1 1 1 1 1 1 1 1 1 1 1 1 1 1 1 1 1 1 1 1 1 0\n",
            "2021-12-21 06:59:06,381 - tensorflow - INFO - preds (length = 27): 1.211 1.01 1.01 1.0846774193548387 1.998 1.2127033575631707 1.4726858877086495 1.6263096623981375 1.129004329004329 1.3355173498270259 1.2411724088668779 1.9720785935884177 1.631 1.4819249366797145 1.7810000000000001 0.0 1.852192744991879 1.829692154915591 1.9144361562088634 1.026 1.823 1.171516628440367 1.0704742184792766 1.17257973493134 1.0704509659620232 1.1726078888656768 1.7085932682974425\n",
            "2021-12-21 06:59:06,383 - tensorflow - INFO - label: 1 (id = 1)\n",
            "2021-12-21 06:59:06,395 - tensorflow - INFO - *** Example ***\n",
            "2021-12-21 06:59:06,402 - tensorflow - INFO - guid: test-14338\n",
            "2021-12-21 06:59:06,406 - tensorflow - INFO - tokens: [CLS] I Q A E V Y D T V V I T L K N M A S H P V S L H A V G V S Y W K A S E G A E Y D D Q T S Q R E K E D D K V F P G G S H T Y V W Q V L K E N G P M A S D P L C L T Y S Y L S H V D L V K D L N S G L I G A L L V C R E G S L A K E K T Q T L H K F I L L F A V F D E G K S W H S E T K N S L M Q D R D A A S A R A W P K M H T V N G Y V N R S L P G L I G C H R K S V Y W H V I G M G T T P E V H S I F L E G H T F L V R N H R Q A S L E I S P I T F L T A Q T L L M D L G Q F L L F C H I S S H Q H D G M E A Y V K V D S C [SEP] I Q A E V Y D T V V I T L K N M A S H P V S L H A V G V S Y W K A S E G A E Y D D Q T S Q R E K E D D K V F P G G S H T Y V W Q V L K E N G P M A S D P L C L T Y S Y L S H V D L V K D L N S G L I G A L L V C R E G S L A K E K T Q T L H K F I L L F A V F D K G K S W H S E T K N S L M Q D R D A A S A R A W P K M H T V N G Y V N R S L P G L I G C H R K S V Y W H V I G M G T T P E V H S I F L E G H T F L V R N H R Q A S L E I S P I T F L T A Q T L L M D L G Q F L L F C H I S S H Q H D G M E A Y V K V D S C [SEP]\n",
            "2021-12-21 06:59:06,407 - tensorflow - INFO - input_ids: 2 19 18 10 9 14 23 17 12 14 14 19 12 5 15 20 25 10 6 22 11 14 6 5 22 10 14 13 14 6 23 26 15 10 6 9 13 10 9 23 17 17 18 12 6 18 16 9 15 9 17 17 15 14 21 11 13 13 6 22 12 23 14 26 18 14 5 15 9 20 13 11 25 10 6 17 11 5 24 5 12 23 6 23 5 6 22 14 17 5 14 15 17 5 20 6 13 5 19 13 10 5 5 14 24 16 9 13 6 5 10 15 9 15 12 18 12 5 22 15 21 19 5 5 21 10 14 21 17 9 13 15 6 26 22 6 9 12 15 20 6 5 25 18 17 16 17 10 10 6 10 16 10 26 11 15 25 22 12 14 20 13 23 14 20 16 6 5 11 13 5 19 13 24 22 16 15 6 14 23 26 22 14 19 13 25 13 12 12 11 9 14 22 6 19 21 5 9 13 22 12 21 5 14 16 20 22 16 18 10 6 5 9 19 6 11 19 12 21 5 12 10 18 12 5 5 25 17 5 13 18 21 5 5 21 24 22 19 6 6 22 18 22 17 13 25 9 10 23 14 15 14 17 6 24 3 19 18 10 9 14 23 17 12 14 14 19 12 5 15 20 25 10 6 22 11 14 6 5 22 10 14 13 14 6 23 26 15 10 6 9 13 10 9 23 17 17 18 12 6 18 16 9 15 9 17 17 15 14 21 11 13 13 6 22 12 23 14 26 18 14 5 15 9 20 13 11 25 10 6 17 11 5 24 5 12 23 6 23 5 6 22 14 17 5 14 15 17 5 20 6 13 5 19 13 10 5 5 14 24 16 9 13 6 5 10 15 9 15 12 18 12 5 22 15 21 19 5 5 21 10 14 21 17 15 13 15 6 26 22 6 9 12 15 20 6 5 25 18 17 16 17 10 10 6 10 16 10 26 11 15 25 22 12 14 20 13 23 14 20 16 6 5 11 13 5 19 13 24 22 16 15 6 14 23 26 22 14 19 13 25 13 12 12 11 9 14 22 6 19 21 5 9 13 22 12 21 5 14 16 20 22 16 18 10 6 5 9 19 6 11 19 12 21 5 12 10 18 12 5 5 25 17 5 13 18 21 5 5 21 24 22 19 6 6 22 18 22 17 13 25 9 10 23 14 15 14 17 6 24 3 0\n",
            "2021-12-21 06:59:06,409 - tensorflow - INFO - input_mask: 1 1 1 1 1 1 1 1 1 1 1 1 1 1 1 1 1 1 1 1 1 1 1 1 1 1 1 1 1 1 1 1 1 1 1 1 1 1 1 1 1 1 1 1 1 1 1 1 1 1 1 1 1 1 1 1 1 1 1 1 1 1 1 1 1 1 1 1 1 1 1 1 1 1 1 1 1 1 1 1 1 1 1 1 1 1 1 1 1 1 1 1 1 1 1 1 1 1 1 1 1 1 1 1 1 1 1 1 1 1 1 1 1 1 1 1 1 1 1 1 1 1 1 1 1 1 1 1 1 1 1 1 1 1 1 1 1 1 1 1 1 1 1 1 1 1 1 1 1 1 1 1 1 1 1 1 1 1 1 1 1 1 1 1 1 1 1 1 1 1 1 1 1 1 1 1 1 1 1 1 1 1 1 1 1 1 1 1 1 1 1 1 1 1 1 1 1 1 1 1 1 1 1 1 1 1 1 1 1 1 1 1 1 1 1 1 1 1 1 1 1 1 1 1 1 1 1 1 1 1 1 1 1 1 1 1 1 1 1 1 1 1 1 1 1 1 1 1 1 1 1 1 1 1 1 1 1 1 1 1 1 1 1 1 1 1 1 1 1 1 1 1 1 1 1 1 1 1 1 1 1 1 1 1 1 1 1 1 1 1 1 1 1 1 1 1 1 1 1 1 1 1 1 1 1 1 1 1 1 1 1 1 1 1 1 1 1 1 1 1 1 1 1 1 1 1 1 1 1 1 1 1 1 1 1 1 1 1 1 1 1 1 1 1 1 1 1 1 1 1 1 1 1 1 1 1 1 1 1 1 1 1 1 1 1 1 1 1 1 1 1 1 1 1 1 1 1 1 1 1 1 1 1 1 1 1 1 1 1 1 1 1 1 1 1 1 1 1 1 1 1 1 1 1 1 1 1 1 1 1 1 1 1 1 1 1 1 1 1 1 1 1 1 1 1 1 1 1 1 1 1 1 1 1 1 1 1 1 1 1 1 1 1 1 1 1 1 1 1 1 1 1 1 1 1 1 1 1 1 1 1 1 1 1 1 1 1 1 1 1 1 1 1 1 1 1 1 1 1 1 1 1 1 1 1 1 1 1 1 1 1 1 1 1 1 1 1 1 1 1 1 1 1 1 1 1 1 1 1 1 1 0\n",
            "2021-12-21 06:59:06,410 - tensorflow - INFO - segment_ids: 0 0 0 0 0 0 0 0 0 0 0 0 0 0 0 0 0 0 0 0 0 0 0 0 0 0 0 0 0 0 0 0 0 0 0 0 0 0 0 0 0 0 0 0 0 0 0 0 0 0 0 0 0 0 0 0 0 0 0 0 0 0 0 0 0 0 0 0 0 0 0 0 0 0 0 0 0 0 0 0 0 0 0 0 0 0 0 0 0 0 0 0 0 0 0 0 0 0 0 0 0 0 0 0 0 0 0 0 0 0 0 0 0 0 0 0 0 0 0 0 0 0 0 0 0 0 0 0 0 0 0 0 0 0 0 0 0 0 0 0 0 0 0 0 0 0 0 0 0 0 0 0 0 0 0 0 0 0 0 0 0 0 0 0 0 0 0 0 0 0 0 0 0 0 0 0 0 0 0 0 0 0 0 0 0 0 0 0 0 0 0 0 0 0 0 0 0 0 0 0 0 0 0 0 0 0 0 0 0 0 0 0 0 0 0 0 0 0 0 0 0 0 0 0 0 0 0 0 0 0 0 0 0 0 0 0 0 0 0 0 0 0 0 0 0 0 0 0 0 0 0 0 0 0 0 0 1 1 1 1 1 1 1 1 1 1 1 1 1 1 1 1 1 1 1 1 1 1 1 1 1 1 1 1 1 1 1 1 1 1 1 1 1 1 1 1 1 1 1 1 1 1 1 1 1 1 1 1 1 1 1 1 1 1 1 1 1 1 1 1 1 1 1 1 1 1 1 1 1 1 1 1 1 1 1 1 1 1 1 1 1 1 1 1 1 1 1 1 1 1 1 1 1 1 1 1 1 1 1 1 1 1 1 1 1 1 1 1 1 1 1 1 1 1 1 1 1 1 1 1 1 1 1 1 1 1 1 1 1 1 1 1 1 1 1 1 1 1 1 1 1 1 1 1 1 1 1 1 1 1 1 1 1 1 1 1 1 1 1 1 1 1 1 1 1 1 1 1 1 1 1 1 1 1 1 1 1 1 1 1 1 1 1 1 1 1 1 1 1 1 1 1 1 1 1 1 1 1 1 1 1 1 1 1 1 1 1 1 1 1 1 1 1 1 1 1 1 1 1 1 1 1 1 1 1 1 1 1 1 1 1 1 1 1 1 1 1 1 1 1 1 1 1 1 1 1 1 1 1 1 1 0\n",
            "2021-12-21 06:59:06,412 - tensorflow - INFO - preds (length = 27): 1.0 1.955 1.9 1.0 1.791 1.309103496019384 1.3915022761760243 1.394256887854094 1.3813852813852814 1.6392703637697872 1.7618990928355436 1.998965873836608 1.683 1.7183974211374626 1.982 0.0 1.9312398484028157 1.9606090698444223 1.977548632441129 1.998 2.0 1.4580346903669725 1.9919993533994491 1.9708884366807475 1.9939364815290648 1.9716393305080389 1.999150814428194\n",
            "2021-12-21 06:59:06,413 - tensorflow - INFO - label: 1 (id = 1)\n",
            "2021-12-21 06:59:06,423 - tensorflow - INFO - *** Example ***\n",
            "2021-12-21 06:59:06,432 - tensorflow - INFO - guid: test-14339\n",
            "2021-12-21 06:59:06,434 - tensorflow - INFO - tokens: [CLS] L S P D S V L S C L Y P G D H G K K T P N P A N Q Y Q F D K V G I L T L S D Y V L E L G H P Y L W V Q K L G G L H F P K E Q P Q Q T V I A D H S L S A S H M E T T M K L L K T R V Q S R L A L H K Q F A S L E H G I V P V T S D C Q Y L F P A K V V S R L V K W V T V A H E D Y M E L H F T K D I V D A G L A G D T N L Y Y M A L I E R G T A K L Q A A V V L N P G Y S S I P P V F Q L C L N W K G E K T N S N D D N I R A M E G E V N V C Y K E L C G P W P S H Q L L T N Q L Q R L C V L L D V Y L E T E S H D D S V E G [SEP] L S P D S V L S C L Y P G D H G K K T P N P A N Q Y Q F D K V G I L T L S D Y V L E L G H P Y L W V Q K L G G L H F P K E Q P Q Q T V I A D H S L S A S H M E T T M K L L K T R V Q S R L A L H K Q F A S L E H G I V P V T S D C Q Y L F P A K V V S R L V K W M T V A H E D Y M E L H F T K D I V D A G L A G D T N L Y Y M A L I E R G T A K L Q A A V V L N P G Y S S I P P V F Q L C L N W K G E K T N S N D D N I R A M E G E V N V C Y K E L C G P W P S H Q L L T N Q L Q R L C V L L D V Y L E T E S H D D S V E G [SEP]\n",
            "2021-12-21 06:59:06,437 - tensorflow - INFO - input_ids: 2 5 6 11 17 6 14 5 6 24 5 23 11 13 17 22 13 15 15 12 11 20 11 10 20 18 23 18 21 17 15 14 13 19 5 12 5 6 17 23 14 5 9 5 13 22 11 23 5 26 14 18 15 5 13 13 5 22 21 11 15 9 18 11 18 18 12 14 19 10 17 22 6 5 6 10 6 22 25 9 12 12 25 15 5 5 15 12 16 14 18 6 16 5 10 5 22 15 18 21 10 6 5 9 22 13 19 14 11 14 12 6 17 24 18 23 5 21 11 10 15 14 14 6 16 5 14 15 26 14 12 14 10 22 9 17 23 25 9 5 22 21 12 15 17 19 14 17 10 13 5 10 13 17 12 20 5 23 23 25 10 5 19 9 16 13 12 10 15 5 18 10 10 14 14 5 20 11 13 23 6 6 19 11 11 14 21 18 5 24 5 20 26 15 13 9 15 12 20 6 20 17 17 20 19 16 10 25 9 13 9 14 20 14 24 23 15 9 5 24 13 11 26 11 6 22 18 5 5 12 20 18 5 18 16 5 24 14 5 5 17 14 23 5 9 12 9 6 22 17 17 6 14 9 13 3 5 6 11 17 6 14 5 6 24 5 23 11 13 17 22 13 15 15 12 11 20 11 10 20 18 23 18 21 17 15 14 13 19 5 12 5 6 17 23 14 5 9 5 13 22 11 23 5 26 14 18 15 5 13 13 5 22 21 11 15 9 18 11 18 18 12 14 19 10 17 22 6 5 6 10 6 22 25 9 12 12 25 15 5 5 15 12 16 14 18 6 16 5 10 5 22 15 18 21 10 6 5 9 22 13 19 14 11 14 12 6 17 24 18 23 5 21 11 10 15 14 14 6 16 5 14 15 26 25 12 14 10 22 9 17 23 25 9 5 22 21 12 15 17 19 14 17 10 13 5 10 13 17 12 20 5 23 23 25 10 5 19 9 16 13 12 10 15 5 18 10 10 14 14 5 20 11 13 23 6 6 19 11 11 14 21 18 5 24 5 20 26 15 13 9 15 12 20 6 20 17 17 20 19 16 10 25 9 13 9 14 20 14 24 23 15 9 5 24 13 11 26 11 6 22 18 5 5 12 20 18 5 18 16 5 24 14 5 5 17 14 23 5 9 12 9 6 22 17 17 6 14 9 13 3 0\n",
            "2021-12-21 06:59:06,439 - tensorflow - INFO - input_mask: 1 1 1 1 1 1 1 1 1 1 1 1 1 1 1 1 1 1 1 1 1 1 1 1 1 1 1 1 1 1 1 1 1 1 1 1 1 1 1 1 1 1 1 1 1 1 1 1 1 1 1 1 1 1 1 1 1 1 1 1 1 1 1 1 1 1 1 1 1 1 1 1 1 1 1 1 1 1 1 1 1 1 1 1 1 1 1 1 1 1 1 1 1 1 1 1 1 1 1 1 1 1 1 1 1 1 1 1 1 1 1 1 1 1 1 1 1 1 1 1 1 1 1 1 1 1 1 1 1 1 1 1 1 1 1 1 1 1 1 1 1 1 1 1 1 1 1 1 1 1 1 1 1 1 1 1 1 1 1 1 1 1 1 1 1 1 1 1 1 1 1 1 1 1 1 1 1 1 1 1 1 1 1 1 1 1 1 1 1 1 1 1 1 1 1 1 1 1 1 1 1 1 1 1 1 1 1 1 1 1 1 1 1 1 1 1 1 1 1 1 1 1 1 1 1 1 1 1 1 1 1 1 1 1 1 1 1 1 1 1 1 1 1 1 1 1 1 1 1 1 1 1 1 1 1 1 1 1 1 1 1 1 1 1 1 1 1 1 1 1 1 1 1 1 1 1 1 1 1 1 1 1 1 1 1 1 1 1 1 1 1 1 1 1 1 1 1 1 1 1 1 1 1 1 1 1 1 1 1 1 1 1 1 1 1 1 1 1 1 1 1 1 1 1 1 1 1 1 1 1 1 1 1 1 1 1 1 1 1 1 1 1 1 1 1 1 1 1 1 1 1 1 1 1 1 1 1 1 1 1 1 1 1 1 1 1 1 1 1 1 1 1 1 1 1 1 1 1 1 1 1 1 1 1 1 1 1 1 1 1 1 1 1 1 1 1 1 1 1 1 1 1 1 1 1 1 1 1 1 1 1 1 1 1 1 1 1 1 1 1 1 1 1 1 1 1 1 1 1 1 1 1 1 1 1 1 1 1 1 1 1 1 1 1 1 1 1 1 1 1 1 1 1 1 1 1 1 1 1 1 1 1 1 1 1 1 1 1 1 1 1 1 1 1 1 1 1 1 1 1 1 1 1 1 1 1 1 1 1 1 1 1 1 1 1 1 1 1 1 1 1 1 1 1 1 1 1 1 1 1 1 0\n",
            "2021-12-21 06:59:06,442 - tensorflow - INFO - segment_ids: 0 0 0 0 0 0 0 0 0 0 0 0 0 0 0 0 0 0 0 0 0 0 0 0 0 0 0 0 0 0 0 0 0 0 0 0 0 0 0 0 0 0 0 0 0 0 0 0 0 0 0 0 0 0 0 0 0 0 0 0 0 0 0 0 0 0 0 0 0 0 0 0 0 0 0 0 0 0 0 0 0 0 0 0 0 0 0 0 0 0 0 0 0 0 0 0 0 0 0 0 0 0 0 0 0 0 0 0 0 0 0 0 0 0 0 0 0 0 0 0 0 0 0 0 0 0 0 0 0 0 0 0 0 0 0 0 0 0 0 0 0 0 0 0 0 0 0 0 0 0 0 0 0 0 0 0 0 0 0 0 0 0 0 0 0 0 0 0 0 0 0 0 0 0 0 0 0 0 0 0 0 0 0 0 0 0 0 0 0 0 0 0 0 0 0 0 0 0 0 0 0 0 0 0 0 0 0 0 0 0 0 0 0 0 0 0 0 0 0 0 0 0 0 0 0 0 0 0 0 0 0 0 0 0 0 0 0 0 0 0 0 0 0 0 0 0 0 0 0 0 0 0 0 0 0 0 1 1 1 1 1 1 1 1 1 1 1 1 1 1 1 1 1 1 1 1 1 1 1 1 1 1 1 1 1 1 1 1 1 1 1 1 1 1 1 1 1 1 1 1 1 1 1 1 1 1 1 1 1 1 1 1 1 1 1 1 1 1 1 1 1 1 1 1 1 1 1 1 1 1 1 1 1 1 1 1 1 1 1 1 1 1 1 1 1 1 1 1 1 1 1 1 1 1 1 1 1 1 1 1 1 1 1 1 1 1 1 1 1 1 1 1 1 1 1 1 1 1 1 1 1 1 1 1 1 1 1 1 1 1 1 1 1 1 1 1 1 1 1 1 1 1 1 1 1 1 1 1 1 1 1 1 1 1 1 1 1 1 1 1 1 1 1 1 1 1 1 1 1 1 1 1 1 1 1 1 1 1 1 1 1 1 1 1 1 1 1 1 1 1 1 1 1 1 1 1 1 1 1 1 1 1 1 1 1 1 1 1 1 1 1 1 1 1 1 1 1 1 1 1 1 1 1 1 1 1 1 1 1 1 1 1 1 1 1 1 1 1 1 1 1 1 1 1 1 1 1 1 1 1 1 0\n",
            "2021-12-21 06:59:06,443 - tensorflow - INFO - preds (length = 27): 1.149 1.5110000000000001 1.19 1.002073732718894 1.982 1.2246452059536173 1.6862670713201822 1.5436554132712457 1.0982683982683983 1.4321207673760352 1.5023691040262863 1.9886246122026887 1.5470000000000002 1.2116048814183744 1.027 1.8416666666666668 1.840281537628587 1.8174445547831843 1.9806932865291795 1.995 1.99 1.2892416857798166 1.040917788719109 1.0294249947067695 1.040904287781997 1.0294297949570392 1.2163819009446213\n",
            "2021-12-21 06:59:06,444 - tensorflow - INFO - label: 0 (id = 0)\n",
            "2021-12-21 06:59:06,459 - tensorflow - INFO - *** Example ***\n",
            "2021-12-21 06:59:06,467 - tensorflow - INFO - guid: test-14340\n",
            "2021-12-21 06:59:06,470 - tensorflow - INFO - tokens: [CLS] K S E K G R P P W A A V V G T P P Q A H T S L Q P H H H P W E P S V R E S L C S T W P W K N E D F N Q K F T Q L L L L Q R P H P R S Q D P L V K R S W P D Y V E E N R G H L I E I R D L F G P G L D T Q E P R I V I L Q G A A G I G K S T L A R Q V K E A W G R G Q L Y G D R F Q H V F Y F S C R E L A Q S K V V S L A E L I G K D G T A T P A P I R Q I L S R P E R L L F I L D G V D E P G W V L Q E P S S E L C L H W S Q P Q P A D A L L G S L L G K T I L P E A S F L I T A R T T A L Q N L I P S L E Q A R W V E V L [SEP] K S E K G R P P W A A V V G T P P Q A H T S L Q P H H H P W E P S V R E S L C S T W P W K N E D F N Q K F T Q L L L L Q R P H P R S Q D P L V K R S W P D Y V E E N R G H L I E I R D L F G P G L D T Q E P R I V I L Q G A A G I G K S T L A R Q V K E A W G R D Q L Y G D R F Q H V F Y F S C R E L A Q S K V V S L A E L I G K D G T A T P A P I R Q I L S R P E R L L F I L D G V D E P G W V L Q E P S S E L C L H W S Q P Q P A D A L L G S L L G K T I L P E A S F L I T A R T T A L Q N L I P S L E Q A R W V E V L [SEP]\n",
            "2021-12-21 06:59:06,472 - tensorflow - INFO - input_ids: 2 15 6 9 15 13 16 11 11 26 10 10 14 14 13 12 11 11 18 10 22 12 6 5 18 11 22 22 22 11 26 9 11 6 14 16 9 6 5 24 6 12 26 11 26 15 20 9 17 21 20 18 15 21 12 18 5 5 5 5 18 16 11 22 11 16 6 18 17 11 5 14 15 16 6 26 11 17 23 14 9 9 20 16 13 22 5 19 9 19 16 17 5 21 13 11 13 5 17 12 18 9 11 16 19 14 19 5 18 13 10 10 13 19 13 15 6 12 5 10 16 18 14 15 9 10 26 13 16 13 18 5 23 13 17 16 21 18 22 14 21 23 21 6 24 16 9 5 10 18 6 15 14 14 6 5 10 9 5 19 13 15 17 13 12 10 12 11 10 11 19 16 18 19 5 6 16 11 9 16 5 5 21 19 5 17 13 14 17 9 11 13 26 14 5 18 9 11 6 6 9 5 24 5 22 26 6 18 11 18 11 10 17 10 5 5 13 6 5 5 13 15 12 19 5 11 9 10 6 21 5 19 12 10 16 12 12 10 5 18 20 5 19 11 6 5 9 18 10 16 26 14 9 14 5 3 15 6 9 15 13 16 11 11 26 10 10 14 14 13 12 11 11 18 10 22 12 6 5 18 11 22 22 22 11 26 9 11 6 14 16 9 6 5 24 6 12 26 11 26 15 20 9 17 21 20 18 15 21 12 18 5 5 5 5 18 16 11 22 11 16 6 18 17 11 5 14 15 16 6 26 11 17 23 14 9 9 20 16 13 22 5 19 9 19 16 17 5 21 13 11 13 5 17 12 18 9 11 16 19 14 19 5 18 13 10 10 13 19 13 15 6 12 5 10 16 18 14 15 9 10 26 13 16 17 18 5 23 13 17 16 21 18 22 14 21 23 21 6 24 16 9 5 10 18 6 15 14 14 6 5 10 9 5 19 13 15 17 13 12 10 12 11 10 11 19 16 18 19 5 6 16 11 9 16 5 5 21 19 5 17 13 14 17 9 11 13 26 14 5 18 9 11 6 6 9 5 24 5 22 26 6 18 11 18 11 10 17 10 5 5 13 6 5 5 13 15 12 19 5 11 9 10 6 21 5 19 12 10 16 12 12 10 5 18 20 5 19 11 6 5 9 18 10 16 26 14 9 14 5 3 0\n",
            "2021-12-21 06:59:06,474 - tensorflow - INFO - input_mask: 1 1 1 1 1 1 1 1 1 1 1 1 1 1 1 1 1 1 1 1 1 1 1 1 1 1 1 1 1 1 1 1 1 1 1 1 1 1 1 1 1 1 1 1 1 1 1 1 1 1 1 1 1 1 1 1 1 1 1 1 1 1 1 1 1 1 1 1 1 1 1 1 1 1 1 1 1 1 1 1 1 1 1 1 1 1 1 1 1 1 1 1 1 1 1 1 1 1 1 1 1 1 1 1 1 1 1 1 1 1 1 1 1 1 1 1 1 1 1 1 1 1 1 1 1 1 1 1 1 1 1 1 1 1 1 1 1 1 1 1 1 1 1 1 1 1 1 1 1 1 1 1 1 1 1 1 1 1 1 1 1 1 1 1 1 1 1 1 1 1 1 1 1 1 1 1 1 1 1 1 1 1 1 1 1 1 1 1 1 1 1 1 1 1 1 1 1 1 1 1 1 1 1 1 1 1 1 1 1 1 1 1 1 1 1 1 1 1 1 1 1 1 1 1 1 1 1 1 1 1 1 1 1 1 1 1 1 1 1 1 1 1 1 1 1 1 1 1 1 1 1 1 1 1 1 1 1 1 1 1 1 1 1 1 1 1 1 1 1 1 1 1 1 1 1 1 1 1 1 1 1 1 1 1 1 1 1 1 1 1 1 1 1 1 1 1 1 1 1 1 1 1 1 1 1 1 1 1 1 1 1 1 1 1 1 1 1 1 1 1 1 1 1 1 1 1 1 1 1 1 1 1 1 1 1 1 1 1 1 1 1 1 1 1 1 1 1 1 1 1 1 1 1 1 1 1 1 1 1 1 1 1 1 1 1 1 1 1 1 1 1 1 1 1 1 1 1 1 1 1 1 1 1 1 1 1 1 1 1 1 1 1 1 1 1 1 1 1 1 1 1 1 1 1 1 1 1 1 1 1 1 1 1 1 1 1 1 1 1 1 1 1 1 1 1 1 1 1 1 1 1 1 1 1 1 1 1 1 1 1 1 1 1 1 1 1 1 1 1 1 1 1 1 1 1 1 1 1 1 1 1 1 1 1 1 1 1 1 1 1 1 1 1 1 1 1 1 1 1 1 1 1 1 1 1 1 1 1 1 1 1 1 1 1 1 1 1 1 1 1 1 1 1 1 1 1 1 1 1 1 1 0\n",
            "2021-12-21 06:59:06,475 - tensorflow - INFO - segment_ids: 0 0 0 0 0 0 0 0 0 0 0 0 0 0 0 0 0 0 0 0 0 0 0 0 0 0 0 0 0 0 0 0 0 0 0 0 0 0 0 0 0 0 0 0 0 0 0 0 0 0 0 0 0 0 0 0 0 0 0 0 0 0 0 0 0 0 0 0 0 0 0 0 0 0 0 0 0 0 0 0 0 0 0 0 0 0 0 0 0 0 0 0 0 0 0 0 0 0 0 0 0 0 0 0 0 0 0 0 0 0 0 0 0 0 0 0 0 0 0 0 0 0 0 0 0 0 0 0 0 0 0 0 0 0 0 0 0 0 0 0 0 0 0 0 0 0 0 0 0 0 0 0 0 0 0 0 0 0 0 0 0 0 0 0 0 0 0 0 0 0 0 0 0 0 0 0 0 0 0 0 0 0 0 0 0 0 0 0 0 0 0 0 0 0 0 0 0 0 0 0 0 0 0 0 0 0 0 0 0 0 0 0 0 0 0 0 0 0 0 0 0 0 0 0 0 0 0 0 0 0 0 0 0 0 0 0 0 0 0 0 0 0 0 0 0 0 0 0 0 0 0 0 0 0 0 0 1 1 1 1 1 1 1 1 1 1 1 1 1 1 1 1 1 1 1 1 1 1 1 1 1 1 1 1 1 1 1 1 1 1 1 1 1 1 1 1 1 1 1 1 1 1 1 1 1 1 1 1 1 1 1 1 1 1 1 1 1 1 1 1 1 1 1 1 1 1 1 1 1 1 1 1 1 1 1 1 1 1 1 1 1 1 1 1 1 1 1 1 1 1 1 1 1 1 1 1 1 1 1 1 1 1 1 1 1 1 1 1 1 1 1 1 1 1 1 1 1 1 1 1 1 1 1 1 1 1 1 1 1 1 1 1 1 1 1 1 1 1 1 1 1 1 1 1 1 1 1 1 1 1 1 1 1 1 1 1 1 1 1 1 1 1 1 1 1 1 1 1 1 1 1 1 1 1 1 1 1 1 1 1 1 1 1 1 1 1 1 1 1 1 1 1 1 1 1 1 1 1 1 1 1 1 1 1 1 1 1 1 1 1 1 1 1 1 1 1 1 1 1 1 1 1 1 1 1 1 1 1 1 1 1 1 1 1 1 1 1 1 1 1 1 1 1 1 1 1 1 1 1 1 1 0\n",
            "2021-12-21 06:59:06,477 - tensorflow - INFO - preds (length = 27): 1.063 1.9969999999999999 1.956 1.000115207373272 1.538 1.271374177916234 1.5595599393019728 1.2848273185875048 1.2359307359307359 1.4484222664849564 1.5333222219576657 1.9958634953464323 1.2650000000000001 1.4291964080128943 1.226 1.8416666666666668 1.846778559826746 1.9683879510095994 1.9806201550387597 1.011 1.5899999999999999 1.3738532110091741 1.3469615530771355 1.3882300781574355 1.328786916495766 1.4152682866380575 1.8441265359485306\n",
            "2021-12-21 06:59:06,479 - tensorflow - INFO - label: 0 (id = 0)\n"
          ]
        }
      ]
    }
  ]
}