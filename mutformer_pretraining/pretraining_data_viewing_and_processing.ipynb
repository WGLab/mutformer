{
  "nbformat": 4,
  "nbformat_minor": 0,
  "metadata": {
    "colab": {
      "name": "pretraining_data_viewing_and_processing",
      "provenance": []
    },
    "kernelspec": {
      "display_name": "Python 3",
      "name": "python3"
    },
    "language_info": {
      "name": "python"
    }
  },
  "cells": [
    {
      "cell_type": "markdown",
      "metadata": {
        "id": "gulatPJkTi-T"
      },
      "source": [
        "#Copy tfevents from GCS"
      ]
    },
    {
      "cell_type": "code",
      "metadata": {
        "id": "NC47pTHib75n",
        "colab": {
          "base_uri": "https://localhost:8080/"
        },
        "outputId": "3f49bca7-7c15-446f-cfd1-fa6f0e4b1cec"
      },
      "source": [
        "from google.colab import auth,drive\n",
        "print(\"Mount drive:\")\n",
        "drive.mount('/content/drive', force_remount=True)\n",
        "DRIVE_PATH=\"/content/drive/My Drive\"\n",
        "import os\n",
        "print(\"Authenticate for GCS:\")\n",
        "auth.authenticate_user()\n",
        "\n",
        "RUN_NAME = \"human_pretraining\" #@param{type:\"string\"}\n",
        "BUCKET_NAME = \"theodore_jiang\" #@param{type:\"string\"}\n",
        "TFEVENTs_DESTINATION_PATH = \"/content/drive/My Drive\" #@param{type:\"string\"}\n",
        "\n",
        "runs = [\"bert_model_modified_loss_spam\",\n",
        "        \"bert_model_orig_loss_spam\",\n",
        "        \"bert_model_large_loss_spam\",\n",
        "        \"bert_model_modified_large_loss_spam\",\n",
        "        \"bert_model_modified_medium_loss_spam\"]\n",
        "\n",
        "for run in runs: ##This will copy all of the tfevent files from GCS into drive, and will also delete all of the files from GCS\n",
        "  cmd = \"gsutil -m cp -r \\\"gs://\"+BUCKET_NAME+\"/\"+run+\"\\\" \\\"\"+TFEVENTs_DESTINATION_PATH+\"\\\"\"\n",
        "  print(cmd)\n",
        "  !{cmd}\n",
        "  cmd = \"gsutil -m rm -r \"+\"\\\"gs://\"+BUCKET_NAME+\"/\"+run+\"\\\"\"\n",
        "  print(cmd)\n",
        "  !{cmd}\n",
        "  if not os.path.exists(run+\"/\"+RUN_NAME):\n",
        "    os.makedirs(run+\"/\"+RUN_NAME)\n",
        "  cmd=\"touch \\\"\" + run+\"/\"+RUN_NAME+\"/running.txt\\\"\"\n",
        "  !{cmd}\n",
        "\n",
        "  !gsutil -m cp -r $run gs://$BUCKET_NAME\n",
        "\n",
        "  "
      ],
      "execution_count": 1,
      "outputs": [
        {
          "output_type": "stream",
          "text": [
            "mount drive:\n",
            "Mounted at /content/drive\n",
            "auth GCS:\n",
            "gsutil -m cp -r \"gs://theodore_jiang/bert_model_modified_loss_spam\" \"/content/drive/My Drive\"\n",
            "Copying gs://theodore_jiang/bert_model_modified_loss_spam/human_pretraining/running.txt...\n",
            "/ [1/1 files][    0.0 B/    0.0 B]                                              \n",
            "Operation completed over 1 objects.                                              \n",
            "gsutil -m rm -r \"gs://theodore_jiang/bert_model_modified_loss_spam\"\n",
            "Removing gs://theodore_jiang/bert_model_modified_loss_spam/human_pretraining/running.txt#1630362151962721...\n",
            "/ [1/1 objects] 100% Done                                                       \n",
            "Operation completed over 1 objects.                                              \n",
            "Copying file://bert_model_modified_loss_spam/human_pretraining/running.txt [Content-Type=text/plain]...\n",
            "/ [1/1 files][    0.0 B/    0.0 B]                                              \n",
            "Operation completed over 1 objects.                                              \n",
            "gsutil -m cp -r \"gs://theodore_jiang/bert_model_orig_loss_spam\" \"/content/drive/My Drive\"\n",
            "Copying gs://theodore_jiang/bert_model_orig_loss_spam/human_pretraining/running.txt...\n",
            "/ [1/1 files][    0.0 B/    0.0 B]                                              \n",
            "Operation completed over 1 objects.                                              \n",
            "gsutil -m rm -r \"gs://theodore_jiang/bert_model_orig_loss_spam\"\n",
            "Removing gs://theodore_jiang/bert_model_orig_loss_spam/human_pretraining/running.txt#1630362169829958...\n",
            "/ [1/1 objects] 100% Done                                                       \n",
            "Operation completed over 1 objects.                                              \n",
            "Copying file://bert_model_orig_loss_spam/human_pretraining/running.txt [Content-Type=text/plain]...\n",
            "/ [1/1 files][    0.0 B/    0.0 B]                                              \n",
            "Operation completed over 1 objects.                                              \n",
            "gsutil -m cp -r \"gs://theodore_jiang/bert_model_large_loss_spam\" \"/content/drive/My Drive\"\n",
            "Copying gs://theodore_jiang/bert_model_large_loss_spam/human_pretraining/running.txt...\n",
            "/ [1/1 files][    0.0 B/    0.0 B]                                              \n",
            "Operation completed over 1 objects.                                              \n",
            "gsutil -m rm -r \"gs://theodore_jiang/bert_model_large_loss_spam\"\n",
            "Removing gs://theodore_jiang/bert_model_large_loss_spam/human_pretraining/running.txt#1630362184734639...\n",
            "/ [1/1 objects] 100% Done                                                       \n",
            "Operation completed over 1 objects.                                              \n",
            "Copying file://bert_model_large_loss_spam/human_pretraining/running.txt [Content-Type=text/plain]...\n",
            "/ [1/1 files][    0.0 B/    0.0 B]                                              \n",
            "Operation completed over 1 objects.                                              \n",
            "gsutil -m cp -r \"gs://theodore_jiang/bert_model_modified_large_loss_spam\" \"/content/drive/My Drive\"\n",
            "Copying gs://theodore_jiang/bert_model_modified_large_loss_spam/human_pretraining/events.out.tfevents.1630364946.n-6438523c-w-0.v2...\n",
            "Copying gs://theodore_jiang/bert_model_modified_large_loss_spam/human_pretraining/events.out.tfevents.1630371226.n-6438523c-w-0.v2...\n",
            "Copying gs://theodore_jiang/bert_model_modified_large_loss_spam/human_pretraining/events.out.tfevents.1630375501.n-462f6f72-w-0.v2...\n",
            "Copying gs://theodore_jiang/bert_model_modified_large_loss_spam/human_pretraining/events.out.tfevents.1630362884.n-6438523c-w-0.v2...\n",
            "Copying gs://theodore_jiang/bert_model_modified_large_loss_spam/human_pretraining/events.out.tfevents.1630369041.n-6438523c-w-0.v2...\n",
            "Copying gs://theodore_jiang/bert_model_modified_large_loss_spam/human_pretraining/events.out.tfevents.1630379724.n-462f6f72-w-0.v2...\n",
            "Copying gs://theodore_jiang/bert_model_modified_large_loss_spam/human_pretraining/events.out.tfevents.1630381928.n-462f6f72-w-0.v2...\n",
            "Copying gs://theodore_jiang/bert_model_modified_large_loss_spam/human_pretraining/events.out.tfevents.1630373438.n-6438523c-w-0.v2...\n",
            "Copying gs://theodore_jiang/bert_model_modified_large_loss_spam/human_pretraining/events.out.tfevents.1630367090.n-6438523c-w-0.v2...\n",
            "Copying gs://theodore_jiang/bert_model_modified_large_loss_spam/human_pretraining/events.out.tfevents.1630377598.n-462f6f72-w-0.v2...\n",
            "Copying gs://theodore_jiang/bert_model_modified_large_loss_spam/human_pretraining/events.out.tfevents.1630384166.n-462f6f72-w-0.v2...\n",
            "Copying gs://theodore_jiang/bert_model_modified_large_loss_spam/human_pretraining/events.out.tfevents.1630394108.n-c6966a2f-w-0.v2...\n",
            "Copying gs://theodore_jiang/bert_model_modified_large_loss_spam/human_pretraining/events.out.tfevents.1630396584.n-c6966a2f-w-0.v2...\n",
            "Copying gs://theodore_jiang/bert_model_modified_large_loss_spam/human_pretraining/events.out.tfevents.1630398857.n-c6966a2f-w-0.v2...\n",
            "Copying gs://theodore_jiang/bert_model_modified_large_loss_spam/human_pretraining/events.out.tfevents.1630400721.n-c6966a2f-w-0.v2...\n",
            "Copying gs://theodore_jiang/bert_model_modified_large_loss_spam/human_pretraining/events.out.tfevents.1630449106.n-8141ff02-w-0.v2...\n",
            "Copying gs://theodore_jiang/bert_model_modified_large_loss_spam/human_pretraining/events.out.tfevents.1630402301.n-c6966a2f-w-0.v2...\n",
            "Copying gs://theodore_jiang/bert_model_modified_large_loss_spam/human_pretraining/events.out.tfevents.1630450843.n-8141ff02-w-0.v2...\n",
            "Copying gs://theodore_jiang/bert_model_modified_large_loss_spam/human_pretraining/running.txt...\n",
            "NotFoundException: 404 gs://theodore_jiang/bert_model_modified_large_loss_spam/human_pretraining/events.out.tfevents.1630450843.n-8141ff02-w-0.v2 does not exist.\n",
            "CommandException: 1 file/object could not be transferred.\n",
            "gsutil -m rm -r \"gs://theodore_jiang/bert_model_modified_large_loss_spam\"\n",
            "Removing gs://theodore_jiang/bert_model_modified_large_loss_spam/human_pretraining/events.out.tfevents.1630362884.n-6438523c-w-0.v2#1630364839117719...\n",
            "Removing gs://theodore_jiang/bert_model_modified_large_loss_spam/human_pretraining/events.out.tfevents.1630373438.n-6438523c-w-0.v2#1630373778983159...\n",
            "Removing gs://theodore_jiang/bert_model_modified_large_loss_spam/human_pretraining/events.out.tfevents.1630364946.n-6438523c-w-0.v2#1630366975158505...\n",
            "Removing gs://theodore_jiang/bert_model_modified_large_loss_spam/human_pretraining/events.out.tfevents.1630367090.n-6438523c-w-0.v2#1630368929519051...\n",
            "Removing gs://theodore_jiang/bert_model_modified_large_loss_spam/human_pretraining/events.out.tfevents.1630375501.n-462f6f72-w-0.v2#1630377508502824...\n",
            "Removing gs://theodore_jiang/bert_model_modified_large_loss_spam/human_pretraining/events.out.tfevents.1630369041.n-6438523c-w-0.v2#1630371114643570...\n",
            "Removing gs://theodore_jiang/bert_model_modified_large_loss_spam/human_pretraining/events.out.tfevents.1630371226.n-6438523c-w-0.v2#1630373338157724...\n",
            "Removing gs://theodore_jiang/bert_model_modified_large_loss_spam/human_pretraining/events.out.tfevents.1630377598.n-462f6f72-w-0.v2#1630379632188656...\n",
            "Removing gs://theodore_jiang/bert_model_modified_large_loss_spam/human_pretraining/events.out.tfevents.1630381928.n-462f6f72-w-0.v2#1630384050974794...\n",
            "Removing gs://theodore_jiang/bert_model_modified_large_loss_spam/human_pretraining/events.out.tfevents.1630379724.n-462f6f72-w-0.v2#1630381837429254...\n",
            "Removing gs://theodore_jiang/bert_model_modified_large_loss_spam/human_pretraining/events.out.tfevents.1630384166.n-462f6f72-w-0.v2#1630385549767342...\n",
            "Removing gs://theodore_jiang/bert_model_modified_large_loss_spam/human_pretraining/events.out.tfevents.1630394108.n-c6966a2f-w-0.v2#1630396473385167...\n",
            "Removing gs://theodore_jiang/bert_model_modified_large_loss_spam/human_pretraining/events.out.tfevents.1630396584.n-c6966a2f-w-0.v2#1630398764883055...\n",
            "Removing gs://theodore_jiang/bert_model_modified_large_loss_spam/human_pretraining/events.out.tfevents.1630398857.n-c6966a2f-w-0.v2#1630400622961373...\n",
            "Removing gs://theodore_jiang/bert_model_modified_large_loss_spam/human_pretraining/events.out.tfevents.1630400721.n-c6966a2f-w-0.v2#1630402203052493...\n",
            "Removing gs://theodore_jiang/bert_model_modified_large_loss_spam/human_pretraining/events.out.tfevents.1630402301.n-c6966a2f-w-0.v2#1630402918331432...\n",
            "Removing gs://theodore_jiang/bert_model_modified_large_loss_spam/human_pretraining/events.out.tfevents.1630449106.n-8141ff02-w-0.v2#1630450745322948...\n",
            "Removing gs://theodore_jiang/bert_model_modified_large_loss_spam/human_pretraining/events.out.tfevents.1630450843.n-8141ff02-w-0.v2#1630452278234919...\n",
            "Removing gs://theodore_jiang/bert_model_modified_large_loss_spam/human_pretraining/running.txt#1630362225275475...\n",
            "Cannot find gs://theodore_jiang/bert_model_modified_large_loss_spam/human_pretraining/events.out.tfevents.1630450843.n-8141ff02-w-0.v2#1630452278234919\n",
            "/ [19/19 objects] 100% Done                                                     \n",
            "Operation completed over 19 objects.                                             \n",
            "Copying file://bert_model_modified_large_loss_spam/human_pretraining/running.txt [Content-Type=text/plain]...\n",
            "/ [1/1 files][    0.0 B/    0.0 B]                                              \n",
            "Operation completed over 1 objects.                                              \n",
            "gsutil -m cp -r \"gs://theodore_jiang/bert_model_modified_medium_loss_spam\" \"/content/drive/My Drive\"\n",
            "Copying gs://theodore_jiang/bert_model_modified_medium_loss_spam/human_pretraining/events.out.tfevents.1630369306.n-d7556b99-w-0.v2...\n",
            "Copying gs://theodore_jiang/bert_model_modified_medium_loss_spam/human_pretraining/events.out.tfevents.1630362908.n-d7556b99-w-0.v2...\n",
            "Copying gs://theodore_jiang/bert_model_modified_medium_loss_spam/human_pretraining/events.out.tfevents.1630364176.n-d7556b99-w-0.v2...\n",
            "Copying gs://theodore_jiang/bert_model_modified_medium_loss_spam/human_pretraining/events.out.tfevents.1630370583.n-d7556b99-w-0.v2...\n",
            "Copying gs://theodore_jiang/bert_model_modified_medium_loss_spam/human_pretraining/events.out.tfevents.1630365464.n-d7556b99-w-0.v2...\n",
            "Copying gs://theodore_jiang/bert_model_modified_medium_loss_spam/human_pretraining/events.out.tfevents.1630371858.n-d7556b99-w-0.v2...\n",
            "Copying gs://theodore_jiang/bert_model_modified_medium_loss_spam/human_pretraining/events.out.tfevents.1630366743.n-d7556b99-w-0.v2...\n",
            "Copying gs://theodore_jiang/bert_model_modified_medium_loss_spam/human_pretraining/events.out.tfevents.1630368015.n-d7556b99-w-0.v2...\n",
            "Copying gs://theodore_jiang/bert_model_modified_medium_loss_spam/human_pretraining/events.out.tfevents.1630373133.n-d7556b99-w-0.v2...\n",
            "Copying gs://theodore_jiang/bert_model_modified_medium_loss_spam/human_pretraining/events.out.tfevents.1630374418.n-d7556b99-w-0.v2...\n",
            "Copying gs://theodore_jiang/bert_model_modified_medium_loss_spam/human_pretraining/events.out.tfevents.1630375706.n-d7556b99-w-0.v2...\n",
            "Copying gs://theodore_jiang/bert_model_modified_medium_loss_spam/human_pretraining/events.out.tfevents.1630378310.n-d7556b99-w-0.v2...\n",
            "Copying gs://theodore_jiang/bert_model_modified_medium_loss_spam/human_pretraining/events.out.tfevents.1630377007.n-d7556b99-w-0.v2...\n",
            "Copying gs://theodore_jiang/bert_model_modified_medium_loss_spam/human_pretraining/events.out.tfevents.1630379601.n-d7556b99-w-0.v2...\n",
            "Copying gs://theodore_jiang/bert_model_modified_medium_loss_spam/human_pretraining/events.out.tfevents.1630380892.n-d7556b99-w-0.v2...\n",
            "Copying gs://theodore_jiang/bert_model_modified_medium_loss_spam/human_pretraining/events.out.tfevents.1630382192.n-d7556b99-w-0.v2...\n",
            "Copying gs://theodore_jiang/bert_model_modified_medium_loss_spam/human_pretraining/events.out.tfevents.1630383481.n-d7556b99-w-0.v2...\n",
            "Copying gs://theodore_jiang/bert_model_modified_medium_loss_spam/human_pretraining/events.out.tfevents.1630384781.n-d7556b99-w-0.v2...\n",
            "Copying gs://theodore_jiang/bert_model_modified_medium_loss_spam/human_pretraining/events.out.tfevents.1630386066.n-d7556b99-w-0.v2...\n",
            "Copying gs://theodore_jiang/bert_model_modified_medium_loss_spam/human_pretraining/events.out.tfevents.1630387350.n-d7556b99-w-0.v2...\n",
            "Copying gs://theodore_jiang/bert_model_modified_medium_loss_spam/human_pretraining/events.out.tfevents.1630388640.n-d7556b99-w-0.v2...\n",
            "Copying gs://theodore_jiang/bert_model_modified_medium_loss_spam/human_pretraining/events.out.tfevents.1630389947.n-d7556b99-w-0.v2...\n",
            "Copying gs://theodore_jiang/bert_model_modified_medium_loss_spam/human_pretraining/events.out.tfevents.1630391241.n-d7556b99-w-0.v2...\n",
            "Copying gs://theodore_jiang/bert_model_modified_medium_loss_spam/human_pretraining/events.out.tfevents.1630393832.n-d7556b99-w-0.v2...\n",
            "Copying gs://theodore_jiang/bert_model_modified_medium_loss_spam/human_pretraining/events.out.tfevents.1630392538.n-d7556b99-w-0.v2...\n",
            "Copying gs://theodore_jiang/bert_model_modified_medium_loss_spam/human_pretraining/events.out.tfevents.1630395124.n-d7556b99-w-0.v2...\n",
            "Copying gs://theodore_jiang/bert_model_modified_medium_loss_spam/human_pretraining/events.out.tfevents.1630396438.n-d7556b99-w-0.v2...\n",
            "Copying gs://theodore_jiang/bert_model_modified_medium_loss_spam/human_pretraining/events.out.tfevents.1630397722.n-d7556b99-w-0.v2...\n",
            "Copying gs://theodore_jiang/bert_model_modified_medium_loss_spam/human_pretraining/events.out.tfevents.1630399010.n-d7556b99-w-0.v2...\n",
            "Copying gs://theodore_jiang/bert_model_modified_medium_loss_spam/human_pretraining/events.out.tfevents.1630400320.n-d7556b99-w-0.v2...\n",
            "Copying gs://theodore_jiang/bert_model_modified_medium_loss_spam/human_pretraining/events.out.tfevents.1630401614.n-d7556b99-w-0.v2...\n",
            "Copying gs://theodore_jiang/bert_model_modified_medium_loss_spam/human_pretraining/events.out.tfevents.1630402916.n-d7556b99-w-0.v2...\n",
            "Copying gs://theodore_jiang/bert_model_modified_medium_loss_spam/human_pretraining/events.out.tfevents.1630404224.n-d7556b99-w-0.v2...\n",
            "Copying gs://theodore_jiang/bert_model_modified_medium_loss_spam/human_pretraining/events.out.tfevents.1630405515.n-d7556b99-w-0.v2...\n",
            "Copying gs://theodore_jiang/bert_model_modified_medium_loss_spam/human_pretraining/events.out.tfevents.1630451364.n-3e76083b-w-0.v2...\n",
            "Copying gs://theodore_jiang/bert_model_modified_medium_loss_spam/human_pretraining/running.txt...\n",
            "NotFoundException: 404 gs://theodore_jiang/bert_model_modified_medium_loss_spam/human_pretraining/events.out.tfevents.1630451364.n-3e76083b-w-0.v2 does not exist.\n",
            "CommandException: 1 file/object could not be transferred.\n",
            "gsutil -m rm -r \"gs://theodore_jiang/bert_model_modified_medium_loss_spam\"\n",
            "Removing gs://theodore_jiang/bert_model_modified_medium_loss_spam/human_pretraining/events.out.tfevents.1630362908.n-d7556b99-w-0.v2#1630364092679167...\n",
            "Removing gs://theodore_jiang/bert_model_modified_medium_loss_spam/human_pretraining/events.out.tfevents.1630366743.n-d7556b99-w-0.v2#1630367933424769...\n",
            "Removing gs://theodore_jiang/bert_model_modified_medium_loss_spam/human_pretraining/events.out.tfevents.1630369306.n-d7556b99-w-0.v2#1630370495546041...\n",
            "Removing gs://theodore_jiang/bert_model_modified_medium_loss_spam/human_pretraining/events.out.tfevents.1630365464.n-d7556b99-w-0.v2#1630366651609293...\n",
            "Removing gs://theodore_jiang/bert_model_modified_medium_loss_spam/human_pretraining/events.out.tfevents.1630364176.n-d7556b99-w-0.v2#1630365360968490...\n",
            "Removing gs://theodore_jiang/bert_model_modified_medium_loss_spam/human_pretraining/events.out.tfevents.1630371858.n-d7556b99-w-0.v2#1630373049043199...\n",
            "Removing gs://theodore_jiang/bert_model_modified_medium_loss_spam/human_pretraining/events.out.tfevents.1630370583.n-d7556b99-w-0.v2#1630371770557120...\n",
            "Removing gs://theodore_jiang/bert_model_modified_medium_loss_spam/human_pretraining/events.out.tfevents.1630368015.n-d7556b99-w-0.v2#1630369206999429...\n",
            "Removing gs://theodore_jiang/bert_model_modified_medium_loss_spam/human_pretraining/events.out.tfevents.1630373133.n-d7556b99-w-0.v2#1630374323273666...\n",
            "Removing gs://theodore_jiang/bert_model_modified_medium_loss_spam/human_pretraining/events.out.tfevents.1630374418.n-d7556b99-w-0.v2#1630375612090549...\n",
            "Removing gs://theodore_jiang/bert_model_modified_medium_loss_spam/human_pretraining/events.out.tfevents.1630375706.n-d7556b99-w-0.v2#1630376898619111...\n",
            "Removing gs://theodore_jiang/bert_model_modified_medium_loss_spam/human_pretraining/events.out.tfevents.1630377007.n-d7556b99-w-0.v2#1630378201943082...\n",
            "Removing gs://theodore_jiang/bert_model_modified_medium_loss_spam/human_pretraining/events.out.tfevents.1630378310.n-d7556b99-w-0.v2#1630379505640260...\n",
            "Removing gs://theodore_jiang/bert_model_modified_medium_loss_spam/human_pretraining/events.out.tfevents.1630379601.n-d7556b99-w-0.v2#1630380797239586...\n",
            "Removing gs://theodore_jiang/bert_model_modified_medium_loss_spam/human_pretraining/events.out.tfevents.1630380892.n-d7556b99-w-0.v2#1630382104626664...\n",
            "Removing gs://theodore_jiang/bert_model_modified_medium_loss_spam/human_pretraining/events.out.tfevents.1630382192.n-d7556b99-w-0.v2#1630383387869781...\n",
            "Removing gs://theodore_jiang/bert_model_modified_medium_loss_spam/human_pretraining/events.out.tfevents.1630383481.n-d7556b99-w-0.v2#1630384673839430...\n",
            "Removing gs://theodore_jiang/bert_model_modified_medium_loss_spam/human_pretraining/events.out.tfevents.1630384781.n-d7556b99-w-0.v2#1630385975323488...\n",
            "Removing gs://theodore_jiang/bert_model_modified_medium_loss_spam/human_pretraining/events.out.tfevents.1630386066.n-d7556b99-w-0.v2#1630387262872422...\n",
            "Removing gs://theodore_jiang/bert_model_modified_medium_loss_spam/human_pretraining/events.out.tfevents.1630387350.n-d7556b99-w-0.v2#1630388547250814...\n",
            "Removing gs://theodore_jiang/bert_model_modified_medium_loss_spam/human_pretraining/events.out.tfevents.1630388640.n-d7556b99-w-0.v2#1630389837068037...\n",
            "Removing gs://theodore_jiang/bert_model_modified_medium_loss_spam/human_pretraining/events.out.tfevents.1630389947.n-d7556b99-w-0.v2#1630391143418028...\n",
            "Removing gs://theodore_jiang/bert_model_modified_medium_loss_spam/human_pretraining/events.out.tfevents.1630391241.n-d7556b99-w-0.v2#1630392437882488...\n",
            "Removing gs://theodore_jiang/bert_model_modified_medium_loss_spam/human_pretraining/events.out.tfevents.1630392538.n-d7556b99-w-0.v2#1630393738880112...\n",
            "Removing gs://theodore_jiang/bert_model_modified_medium_loss_spam/human_pretraining/events.out.tfevents.1630393832.n-d7556b99-w-0.v2#1630395037519114...\n",
            "Removing gs://theodore_jiang/bert_model_modified_medium_loss_spam/human_pretraining/events.out.tfevents.1630395124.n-d7556b99-w-0.v2#1630396346233437...\n",
            "Removing gs://theodore_jiang/bert_model_modified_medium_loss_spam/human_pretraining/events.out.tfevents.1630396438.n-d7556b99-w-0.v2#1630397637449375...\n",
            "Removing gs://theodore_jiang/bert_model_modified_medium_loss_spam/human_pretraining/events.out.tfevents.1630397722.n-d7556b99-w-0.v2#1630398921404136...\n",
            "Removing gs://theodore_jiang/bert_model_modified_medium_loss_spam/human_pretraining/events.out.tfevents.1630399010.n-d7556b99-w-0.v2#1630400218322015...\n",
            "Removing gs://theodore_jiang/bert_model_modified_medium_loss_spam/human_pretraining/events.out.tfevents.1630400320.n-d7556b99-w-0.v2#1630401519922302...\n",
            "Removing gs://theodore_jiang/bert_model_modified_medium_loss_spam/human_pretraining/events.out.tfevents.1630401614.n-d7556b99-w-0.v2#1630402816406254...\n",
            "Removing gs://theodore_jiang/bert_model_modified_medium_loss_spam/human_pretraining/events.out.tfevents.1630402916.n-d7556b99-w-0.v2#1630404117497330...\n",
            "Removing gs://theodore_jiang/bert_model_modified_medium_loss_spam/human_pretraining/events.out.tfevents.1630404224.n-d7556b99-w-0.v2#1630405425859185...\n",
            "Removing gs://theodore_jiang/bert_model_modified_medium_loss_spam/human_pretraining/events.out.tfevents.1630405515.n-d7556b99-w-0.v2#1630406169735355...\n",
            "Removing gs://theodore_jiang/bert_model_modified_medium_loss_spam/human_pretraining/events.out.tfevents.1630451364.n-3e76083b-w-0.v2#1630452300273033...\n",
            "Removing gs://theodore_jiang/bert_model_modified_medium_loss_spam/human_pretraining/running.txt#1630362284384491...\n",
            "/ [36/36 objects] 100% Done                                                     \n",
            "Operation completed over 36 objects.                                             \n",
            "Copying file://bert_model_modified_medium_loss_spam/human_pretraining/running.txt [Content-Type=text/plain]...\n",
            "/ [1/1 files][    0.0 B/    0.0 B]                                              \n",
            "Operation completed over 1 objects.                                              \n"
          ],
          "name": "stdout"
        }
      ]
    },
    {
      "cell_type": "markdown",
      "metadata": {
        "id": "HSs8ATHOhJd_"
      },
      "source": [
        "#Mount drive (use this if you wish to only use existing tfevent files from drive)"
      ]
    },
    {
      "cell_type": "code",
      "metadata": {
        "colab": {
          "base_uri": "https://localhost:8080/"
        },
        "id": "SnZidFzKyqvU",
        "outputId": "064de872-06cb-4225-a8db-4cb7c8d59da1"
      },
      "source": [
        "from google.colab import drive\n",
        "drive.mount('/content/drive', force_remount=True)\n",
        "DRIVE_PATH = \"/content/drive/My Drive\"\n",
        "TFEVENTs_DESTINATION_PATH = \"/content/drive/My Drive\" #@param{type:\"string\"}"
      ],
      "execution_count": 6,
      "outputs": [
        {
          "output_type": "stream",
          "text": [
            "Mounted at /content/drive\n"
          ],
          "name": "stdout"
        }
      ]
    },
    {
      "cell_type": "markdown",
      "metadata": {
        "id": "BYQENqLQTuqM"
      },
      "source": [
        "#Obtain events from tfevents for pretraining\n"
      ]
    },
    {
      "cell_type": "code",
      "metadata": {
        "id": "6Ztjm3huM9Bx",
        "colab": {
          "base_uri": "https://localhost:8080/"
        },
        "outputId": "c28de110-1e12-40c9-f44c-cf3b2eb95b9d"
      },
      "source": [
        "import os\n",
        "import shutil\n",
        "import numpy as np\n",
        "import pandas as pd\n",
        "import json\n",
        "from tqdm import tqdm\n",
        "\n",
        "from collections import defaultdict\n",
        "from tensorboard.backend.event_processing.event_accumulator import EventAccumulator\n",
        "\n",
        "runs = [\"bert_model_modified_loss_spam\",\n",
        "             \"bert_model_orig_loss_spam\",\n",
        "             \"bert_model_large_loss_spam\",\n",
        "             \"bert_model_modified_large_loss_spam\",\n",
        "             \"bert_model_modified_medium_loss_spam\"]\n",
        "\n",
        "#@markdown ######only the (skip)-th tfevent file will be considered (useful when amount of tfevent files is more than what is necessary for viewing curves) (if no tfevents should be skipped, set to 1)\n",
        "skip = 500 #@param {type:\"integer\"}\n",
        "\n",
        "def tabulate_events(dpath,out_dict = {}):\n",
        "    for dname in tqdm(os.listdir(dpath),\"converting to dict\"):\n",
        "        if \"tfevents\" not in dname:\n",
        "          continue\n",
        "        ea = EventAccumulator(os.path.join(dpath, dname)).Reload()\n",
        "        tags = ea.Tags()['scalars']\n",
        "\n",
        "        for tag in tags:\n",
        "            tag_values=[]\n",
        "            wall_time=[]\n",
        "            steps=[]\n",
        "\n",
        "            for event in ea.Scalars(tag):\n",
        "                 if event.step%skip==0 or \"eval\" in tag:\n",
        "                    try:\n",
        "                        out_dict[tag].append((event.step,event.value))\n",
        "                    except:\n",
        "                        out_dict[tag] = [(event.step,event.value)]\n",
        "    return out_dict\n",
        "\n",
        "graph_data = {}\n",
        "\n",
        "for run in runs: ##compiles the tfevent files into a json \n",
        "                 ##NOTE:DO NOT INTERRUPT THIS PORTION; IT MAY RESULT IN TRAINING DATA BEING DELETED \n",
        "                 ##(if using google drive and data is deleted, you can always click manage versions in google drive and revert to a previous version on the corresonding .json file) \n",
        "  print(\"Processing tfevents for run:\",run)\n",
        "  data = {}\n",
        "  if os.path.exists(TFEVENTs_DESTINATION_PATH+\"/\"+run+\"_data.json\"):\n",
        "    data.update(json.load(open(TFEVENTs_DESTINATION_PATH+\"/\"+run+\"_data.json\")))\n",
        "  if os.path.exists(TFEVENTs_DESTINATION_PATH+\"/\"+run+\"/human_pretraining\"):\n",
        "    data = tabulate_events(TFEVENTs_DESTINATION_PATH+\"/\"+run+\"/human_pretraining\",data)\n",
        "    shutil.rmtree(TFEVENTs_DESTINATION_PATH+\"/\"+run)\n",
        "    os.makedirs(TFEVENTs_DESTINATION_PATH+\"/\"+run+\"/human_pretraining\")\n",
        "  for metric,datapoints in tqdm(data.items(),\"removing data overlaps\"): ##remove multiple values with the same step\n",
        "    new_dps = datapoints.copy()\n",
        "    overlap = False\n",
        "    for i,point in enumerate(datapoints):\n",
        "      for j,point2 in enumerate(datapoints[i:]):\n",
        "        if point[0] == point2[0]:\n",
        "          overlap=True\n",
        "      if not overlap:\n",
        "        new_dps.append(point)\n",
        "    data[metric] = new_dps\n",
        "  with open(TFEVENTs_DESTINATION_PATH+\"/\"+run+\"_data.json\",\"w+\") as f:\n",
        "    json.dump(data, f)\n",
        "\n",
        "  for metric,datapoints in tqdm(data.items(),\"processing data\"):\n",
        "      try:\n",
        "          graph_data[metric][run].append(datapoints)\n",
        "      except:\n",
        "          try:\n",
        "              graph_data[metric][run] = [datapoints]\n",
        "          except:\n",
        "              graph_data[metric] = {}\n",
        "              graph_data[metric][run] = [datapoints]\n",
        "  \n",
        "\n",
        "    \n",
        "\n"
      ],
      "execution_count": 14,
      "outputs": [
        {
          "output_type": "stream",
          "text": [
            "Processing tfevents for run: bert_model_modified_loss_spam\n"
          ],
          "name": "stdout"
        },
        {
          "output_type": "stream",
          "text": [
            "converting to dict: 0it [00:00, ?it/s]\n",
            "removing data overlaps: 100%|██████████| 13/13 [00:04<00:00,  2.64it/s]\n",
            "processing data: 100%|██████████| 13/13 [00:00<00:00, 78681.03it/s]\n"
          ],
          "name": "stderr"
        },
        {
          "output_type": "stream",
          "text": [
            "Processing tfevents for run: bert_model_orig_loss_spam\n"
          ],
          "name": "stdout"
        },
        {
          "output_type": "stream",
          "text": [
            "converting to dict: 0it [00:00, ?it/s]\n",
            "removing data overlaps: 100%|██████████| 13/13 [00:06<00:00,  1.87it/s]\n",
            "processing data: 100%|██████████| 13/13 [00:00<00:00, 97021.27it/s]\n"
          ],
          "name": "stderr"
        },
        {
          "output_type": "stream",
          "text": [
            "Processing tfevents for run: bert_model_large_loss_spam\n"
          ],
          "name": "stdout"
        },
        {
          "output_type": "stream",
          "text": [
            "converting to dict: 0it [00:00, ?it/s]\n",
            "removing data overlaps: 100%|██████████| 13/13 [00:04<00:00,  2.72it/s]\n",
            "processing data: 100%|██████████| 13/13 [00:00<00:00, 15033.35it/s]\n"
          ],
          "name": "stderr"
        },
        {
          "output_type": "stream",
          "text": [
            "Processing tfevents for run: bert_model_modified_large_loss_spam\n"
          ],
          "name": "stdout"
        },
        {
          "output_type": "stream",
          "text": [
            "converting to dict: 0it [00:00, ?it/s]\n",
            "removing data overlaps: 100%|██████████| 11/11 [00:01<00:00, 10.91it/s]\n",
            "processing data: 100%|██████████| 11/11 [00:00<00:00, 62857.42it/s]\n"
          ],
          "name": "stderr"
        },
        {
          "output_type": "stream",
          "text": [
            "Processing tfevents for run: bert_model_modified_medium_loss_spam\n"
          ],
          "name": "stdout"
        },
        {
          "output_type": "stream",
          "text": [
            "converting to dict: 0it [00:00, ?it/s]\n",
            "removing data overlaps: 100%|██████████| 11/11 [00:02<00:00,  3.78it/s]\n",
            "processing data: 100%|██████████| 11/11 [00:00<00:00, 80238.86it/s]\n"
          ],
          "name": "stderr"
        }
      ]
    },
    {
      "cell_type": "markdown",
      "metadata": {
        "id": "6fmmecLvTp7S"
      },
      "source": [
        "#Plotting smoothed average curves using matplotlib"
      ]
    },
    {
      "cell_type": "code",
      "metadata": {
        "id": "QU2X7Cg_Jl9q"
      },
      "source": [
        "import matplotlib.pyplot as plt\n",
        "import math\n",
        "\n",
        "#@markdown range of the local average for viewing training graphs (to disable local averaging, set it to 0)\n",
        "avg_range = 100 #@param {type:\"integer\"}\n",
        "#@markdown destination path for saving graphs (for no saving set to None)\n",
        "outfolder = DRIVE_PATH+\"/training graphs\" #@param\n",
        "\n",
        "for metric,runs in graph_data.items():\n",
        "    if \"rando\" in metric:\n",
        "      continue\n",
        "    plt.figure(figsize=(10,5))\n",
        "    plt.title(metric+\" graph\")\n",
        "    plt.xlabel(\"steps\")\n",
        "    plt.ylabel(metric)\n",
        "    for run,run_data in runs.items():\n",
        "        run_data = run_data[0]\n",
        "        steps = []\n",
        "        values = []\n",
        "        nan = 0\n",
        "        for datapt in run_data:\n",
        "            if not math.isnan(datapt[1]):\n",
        "                values.append(datapt[1])\n",
        "                steps.append(datapt[0])\n",
        "            else:\n",
        "                nan+=1\n",
        "        print(\"nan values:\",nan)\n",
        "        values = [x for _, x in sorted(zip(steps, values), key=lambda pair: pair[0])]\n",
        "\n",
        "        if \"eval\" in metric or avg_range == 0:\n",
        "          avged_values = values\n",
        "        else:\n",
        "          avged_values = [sum(values[max(n-avg_range,0):min(n+avg_range,len(values))])/len(values[max(n-avg_range,0):min(n+avg_range,len(values))]) for n,value in enumerate(values)]\n",
        "        steps = sorted(steps)\n",
        "        labels = [\"modified\",\"orig\",\"large\"]\n",
        "        plt.plot(steps,avged_values,label=run)\n",
        "                \n",
        "    plt.legend()\n",
        "    if outfolder:\n",
        "      plt.savefig(outfolder+\"/\"+metric.replace(\"/\",\"_\")+\".png\")\n",
        "    plt.show()\n"
      ],
      "execution_count": null,
      "outputs": []
    },
    {
      "cell_type": "markdown",
      "metadata": {
        "id": "xbXhWZ7tTm76"
      },
      "source": [
        "#Tensorboard viewing (If you wish to use tensorboard instead)"
      ]
    },
    {
      "cell_type": "code",
      "metadata": {
        "id": "ZvVNtrI1cH-H"
      },
      "source": [
        "LOGS_DIR = \"/content/drive/My Drive\" #@param (type:\"string\")\n",
        "LOGS_DIR = \"\\\"\"+LOGS_DIR+\"\\\"\"\n",
        "%load_ext tensorboard\n",
        "%tensorboard --logdir $LOGS_DIR"
      ],
      "execution_count": null,
      "outputs": []
    },
    {
      "cell_type": "markdown",
      "metadata": {
        "id": "RIThI2-ifqLC"
      },
      "source": [
        "#Copy a model from GCS to drive"
      ]
    },
    {
      "cell_type": "code",
      "metadata": {
        "id": "awQiti663ecW",
        "colab": {
          "base_uri": "https://localhost:8080/"
        },
        "outputId": "1f05c139-3e70-4297-e7a6-ea20cdfe1469"
      },
      "source": [
        "from google.colab import auth\n",
        "auth.authenticate_user()\n",
        "\n",
        "!gsutil -m cp \\\n",
        "\"gs://theodore_jiang/bert_model_modified/model.ckpt-1332386.data-00000-of-00001\" \\ ##replace these with whatever files you are trying to copy from GCS\n",
        "\"gs://theodore_jiang/bert_model_modified/model.ckpt-1332386.index\" \\               ##alternatively you can copy the command from GCS as well\n",
        "\"gs://theodore_jiang/bert_model_modified/model.ckpt-1332386.meta\" \\\n",
        "\"/content/drive/My Drive/MODIFIED FINALS\" ##destionation folder"
      ],
      "execution_count": null,
      "outputs": [
        {
          "output_type": "stream",
          "text": [
            "Copying gs://theodore_jiang/bert_model_modified/model.ckpt-1332386.data-00000-of-00001...\n",
            "Copying gs://theodore_jiang/bert_model_modified/model.ckpt-1332386.index...\n",
            "Copying gs://theodore_jiang/bert_model_modified/model.ckpt-1332386.meta...\n",
            "/ [3/3 files][711.2 MiB/711.2 MiB] 100% Done  48.0 MiB/s ETA 00:00:00           \n",
            "Operation completed over 3 objects/711.2 MiB.                                    \n"
          ],
          "name": "stdout"
        }
      ]
    }
  ]
}